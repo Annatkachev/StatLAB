{
 "cells": [
  {
   "cell_type": "markdown",
   "id": "88102dc1",
   "metadata": {},
   "source": [
    "## STAT TEST 3"
   ]
  },
  {
   "cell_type": "markdown",
   "id": "466ac341",
   "metadata": {},
   "source": [
    "    1. Take two normal samples x and y (presented below) and the pearson correlation test. A significant p-value (<0.05) would be consider a \"false-positive\" error rate, since the samples are actually unrelated. Now imagine you have measured each point in sample x and y twice, but the measurment error is negligibally low ( two \"replicates\" for each data point presented below). What will be the \"false-positive\" error rate? What about three \"replicates\" for each data point? What will be, for each case, the estimated pearson correlation coefficient? Does the spearman correlation test give a different result? Use simulation method.\n",
    "    \n",
    "    2. Take the \"GaltonFamilies.csv\" dataset, which contains the whole data from Galton's study of the relationship between the heights of parents and their adult children. This dataset contains information on families, consisting of a mother, a father, and their adult children, for which heights were collected (children height are in column \"childHeight\", and \"mother\" and \"father\" contain the information on parents' height). Each family could have a different number of children (column \"children\"). Is there a statistically significant correlation between father height and the number of children the father had?\n",
    "    \n",
    "    3. Take the \"lrrk2.csv\" dataset, which contains measurements of the LRRK2 protein abundance in two brain regions, BA9 and BA22p, for a group of controls and a group of schizophrenia patients (SZ). Is there a statistically significant difference in this protein abundance between control and SZ?\n",
    "    \n",
    "    4. Take the \"painrat_brainandplasma.csv\" dataset, which contains information on lipidome differences between two groups of rats: one group with sciatic nerve injury and the control group. The column 'log2 Fold-Change, brain region 1' represents the difference in means between the two groups for each lipid, after the lipid abundances were log2 transformed, for one brain region. The column \"log2 Fold-Change, blood plasma\" contains the same information for blood plasma. A positive log2 Fold-Change indicates an increase, on average, of the particular lipid in the sciatic nerve injury group, while a negative value indicates the respective decrease.\n",
    "    \n",
    "    Is there a statistically significant association between lipid differences in the brain and in blood plasma? Can you use correlation analysis to test this? What does the answer to question 1 tell you about the estimate correlation coefficient?\n",
    "\n",
    "    5. Take the \"1951_2023.csv\" dataset, which contains information on daily rainfall through the years from Polish meteorology stations. Consider two stations 'KRAKÓW-OBSERWATORIUM' and 'WARSZAWA-BIELANY'. You want to find out, if one of the stations gets more rainfall than the other in the month of July. Can you use the whole dataset for statistical testing? Why or why not. What dependence is there in this dataset?\n",
    "    \n",
    "    (Bonus) Consider also the dataset \"MeanJuly_twostations.csv\", which contains, for each year, the averaged rainfall values across the whole month of July (uploaded to github for convenience). Are the samples in this dataset independent? Can you use statistical testing to answer whether one of the stations tends to get more rainfall than the other in the month of July?"
   ]
  },
  {
   "cell_type": "code",
   "execution_count": 9,
   "id": "bef3558a",
   "metadata": {},
   "outputs": [],
   "source": [
    "import numpy as np\n",
    "import pandas as pd\n",
    "import matplotlib.pyplot as plt\n",
    "from pylab import rcParams\n",
    "import seaborn as sns\n",
    "\n",
    "\n",
    "\n",
    "from numpy.random import uniform\n",
    "from numpy.random import normal\n",
    "from numpy.random import exponential\n",
    "from numpy.random import lognormal\n",
    "\n",
    "from numpy.random import choice\n",
    "from numpy.random import permutation\n",
    "from scipy.stats import shapiro\n",
    "from scipy.stats import kstest\n",
    "\n",
    "from scipy.stats import pearsonr\n",
    "from scipy.stats import spearmanr\n",
    "\n",
    "%matplotlib inline\n",
    "\n",
    "\n"
   ]
  },
  {
   "cell_type": "markdown",
   "id": "4c2b56fd",
   "metadata": {},
   "source": [
    "## question 1"
   ]
  },
  {
   "cell_type": "code",
   "execution_count": 10,
   "id": "79c66e9b",
   "metadata": {},
   "outputs": [],
   "source": [
    "K=10\n",
    "x=normal(11,2,K)\n",
    "y=normal(11,2,K)\n",
    "    \n",
    "# no replicates\n",
    "rand_sample1=list(x)\n",
    "rand_sample2=list(y)\n",
    "\n",
    "# two \"replicates\" for each data point\n",
    "rand_sample1=list(x)+list(x)\n",
    "rand_sample2=list(y)+list(y)\n",
    "\n",
    "# three \"replicates\" for each data point\n",
    "rand_sample1=list(x)+list(x)+list(x)\n",
    "rand_sample2=list(y)+list(y)+list(y)"
   ]
  },
  {
   "cell_type": "markdown",
   "id": "b10225b9",
   "metadata": {},
   "source": [
    "## question 2"
   ]
  },
  {
   "cell_type": "code",
   "execution_count": 11,
   "id": "02422ae5",
   "metadata": {},
   "outputs": [],
   "source": [
    "#path='https://raw.githubusercontent.com/Annatkachev/StatLAB/refs/heads/main/StatTest_3/'\n",
    "path='/home/anna/PROJECTS2025/StatDatAnLAB/Distr/'\n",
    "df=pd.read_csv(path+'GaltonFamilies.csv',index_col=0)\n",
    "\n",
    "#df['father']\n",
    "#df['children']"
   ]
  },
  {
   "cell_type": "markdown",
   "id": "defc33fb",
   "metadata": {},
   "source": [
    "## question 3"
   ]
  },
  {
   "cell_type": "code",
   "execution_count": 12,
   "id": "05fee3f8",
   "metadata": {},
   "outputs": [],
   "source": [
    "#path='https://raw.githubusercontent.com/Annatkachev/StatLAB/refs/heads/main/StatTest_3/'\n",
    "path='/home/anna/PROJECTS2025/StatDatAnLAB/StatTest/'\n",
    "df=pd.read_csv(path+'lrrk2.csv',index_col=0)"
   ]
  },
  {
   "cell_type": "markdown",
   "id": "70e5ad70",
   "metadata": {},
   "source": [
    "## question 4"
   ]
  },
  {
   "cell_type": "code",
   "execution_count": 13,
   "id": "23c5179c",
   "metadata": {},
   "outputs": [],
   "source": [
    "#path='https://raw.githubusercontent.com/Annatkachev/StatLAB/refs/heads/main/StatTest_3/'\n",
    "path='/home/anna/PROJECTS2025/StatDatAnLAB/StatTest/'\n",
    "df=pd.read_csv(path+'painrat_brainandplasma.csv',index_col=0)"
   ]
  },
  {
   "cell_type": "markdown",
   "id": "f1a8ac71",
   "metadata": {},
   "source": [
    "## question 5"
   ]
  },
  {
   "cell_type": "code",
   "execution_count": 14,
   "id": "918a0920",
   "metadata": {},
   "outputs": [],
   "source": [
    "#you would have to download the arhived data from the link:\n",
    "#https://www.kaggle.com/datasets/grazynah/df-all-weather\n",
    "\n",
    "path='/home/anna/PROJECTS2025/StatDatAnLAB/StatTest/'\n",
    "df=pd.read_csv(path+'1951_2023.csv')"
   ]
  },
  {
   "cell_type": "code",
   "execution_count": 15,
   "id": "0cd035a5",
   "metadata": {},
   "outputs": [
    {
     "data": {
      "text/plain": [
       "\"\\nMEANJULY=pd.DataFrame(index=np.arange(1951,2024),dtype=float)\\nst1='KRAKÓW-OBSERWATORIUM'\\nst2='WARSZAWA-BIELANY'\\nfor st in [st1,st2]:\\n    for year in MEANJULY.index:\\n        ind=df[(df['year']==year)&(df['month']==7)&(df['station name']==st)].index\\n        MEANJULY.loc[year,st]=df.loc[ind,'rainfall'].mean()\\n \""
      ]
     },
     "execution_count": 15,
     "metadata": {},
     "output_type": "execute_result"
    }
   ],
   "source": [
    "\"\"\"\n",
    "MEANJULY=pd.DataFrame(index=np.arange(1951,2024),dtype=float)\n",
    "st1='KRAKÓW-OBSERWATORIUM'\n",
    "st2='WARSZAWA-BIELANY'\n",
    "for st in [st1,st2]:\n",
    "    for year in MEANJULY.index:\n",
    "        ind=df[(df['year']==year)&(df['month']==7)&(df['station name']==st)].index\n",
    "        MEANJULY.loc[year,st]=df.loc[ind,'rainfall'].mean()\n",
    " \"\"\"   "
   ]
  },
  {
   "cell_type": "code",
   "execution_count": 16,
   "id": "ade31122",
   "metadata": {},
   "outputs": [],
   "source": [
    "#path='https://raw.githubusercontent.com/Annatkachev/StatLAB/refs/heads/main/StatTest_3/'\n",
    "path='/home/anna/PROJECTS2025/StatDatAnLAB/StatTest/'\n",
    "MEANJULY=pd.read_csv(path+'MeanJuly_twostations.csv',index_col=0)"
   ]
  },
  {
   "cell_type": "code",
   "execution_count": null,
   "id": "03b1e11b",
   "metadata": {},
   "outputs": [],
   "source": []
  },
  {
   "cell_type": "code",
   "execution_count": null,
   "id": "1def962a",
   "metadata": {},
   "outputs": [],
   "source": []
  },
  {
   "cell_type": "code",
   "execution_count": null,
   "id": "a79d5dee",
   "metadata": {},
   "outputs": [],
   "source": []
  },
  {
   "cell_type": "code",
   "execution_count": null,
   "id": "1c385189",
   "metadata": {},
   "outputs": [],
   "source": []
  }
 ],
 "metadata": {
  "kernelspec": {
   "display_name": "Python 3 (ipykernel)",
   "language": "python",
   "name": "python3"
  },
  "language_info": {
   "codemirror_mode": {
    "name": "ipython",
    "version": 3
   },
   "file_extension": ".py",
   "mimetype": "text/x-python",
   "name": "python",
   "nbconvert_exporter": "python",
   "pygments_lexer": "ipython3",
   "version": "3.7.3"
  }
 },
 "nbformat": 4,
 "nbformat_minor": 5
}
