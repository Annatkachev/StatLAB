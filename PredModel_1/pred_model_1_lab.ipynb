{
 "cells": [
  {
   "cell_type": "code",
   "execution_count": 1,
   "id": "efa3da3b",
   "metadata": {},
   "outputs": [],
   "source": [
    "import numpy as np\n",
    "import pandas as pd\n",
    "import matplotlib.pyplot as plt\n",
    "from pylab import rcParams\n",
    "import seaborn as sns\n",
    "\n",
    "\n",
    "\n",
    "from numpy.random import uniform\n",
    "from numpy.random import normal\n",
    "from numpy.random import exponential\n",
    "from numpy.random import lognormal\n",
    "\n",
    "from numpy.random import choice\n",
    "from numpy.random import permutation\n",
    "\n",
    "\n",
    "from scipy.stats import pearsonr\n",
    "from scipy.stats import spearmanr\n",
    "from scipy.stats import ttest_ind\n",
    "from scipy.stats import mannwhitneyu\n",
    "from scipy.stats import shapiro\n",
    "\n",
    "from statsmodels.sandbox.stats.multicomp import multipletests\n",
    "from sklearn.decomposition import PCA\n",
    "from sklearn.cross_decomposition import PLSRegression\n",
    "\n",
    "from sklearn.linear_model import LinearRegression\n",
    "from sklearn.linear_model import LogisticRegression\n",
    "from sklearn.linear_model import Lasso\n",
    "from sklearn.linear_model import Ridge\n",
    "from sklearn.metrics import r2_score\n",
    "from sklearn.metrics import roc_auc_score\n",
    "from sklearn.model_selection import train_test_split\n",
    "from sklearn.model_selection import KFold\n",
    "\n",
    "%matplotlib inline"
   ]
  },
  {
   "cell_type": "code",
   "execution_count": 2,
   "id": "d0e85191",
   "metadata": {},
   "outputs": [],
   "source": [
    "#path='https://raw.githubusercontent.com/Annatkachev/StatLAB/refs/heads/main/DataTrans_1/'\n",
    "path='/home/anna/PROJECTS2025/StatDatAnLAB/DataTrans/'"
   ]
  },
  {
   "cell_type": "markdown",
   "id": "c6a571ec",
   "metadata": {},
   "source": [
    "## PRED MODEL 1"
   ]
  },
  {
   "cell_type": "markdown",
   "id": "39c29029",
   "metadata": {},
   "source": [
    "    1. \n",
    "    Consider the dataset'blooddatasubset.csv','bloodsamplesubset.csv', which contain a subset of the blood plasma metabolite dataset (metbolite levels were log2 transformed). Use Lasso regression with indicated parameter to predict the BMI of the inviduals. Don't forget to standardize your features. \n",
    "   \n",
    "    A. Perform a 5-fold cross validation procedure to estimate the mean coefficient of determination R2 accross these folds. Repeat the analysis 5 times, what values do you get?\n",
    "   \n",
    "    B. Perform 100 random train-test split (80-20 samples) to estimate the mean coefficient of determination R2. Repeat the analysis 5 times, what values do you get? What is the difference with B? If you want to reduce the variability of this estimate, what parameter could you change?\n",
    "    \n",
    "    C. Let's say you had a dataset with 400 features and 80 samples, and you want to compare different classification different models between each other, to chose the one with highest performance (ROC AUC). You perform 5-fold cross-validation and use the mean accross folds to estimate the performance. You obtain ROC AUC estimates 0.92, 0.88, 0.9 and 0.85 for the different models. Explain, why this information is insuficcient to discriminate between the models. \n",
    "    \n",
    "    2. \n",
    "    Now consider the same target varialbe, but you will be using a random generated dataset to predict it. What R2 estimate do you obtain for this data? Now perform correlation analysis, to find 25 features with smallest correlation coefficient p-values. Using only 25 features, estimate the R2 values again. What do these results tell you? What rule has been violated in this analysis?\n",
    "    \n",
    "    3.\n",
    "    \n",
    "    A. Consider the same subset of blood metabolite data. Perform PCA analysis and visualize the difference between female and male samples using color (PC1 and PC2). Now perform statistical analysis to find 20 features with strongest statistical differences between men and women. Perform PCA analysis using only these features from the data table, and visualize the differences between mean and women. Alternitavely, use the PLS regression function to find first and second component of variance that separate men and women, and visualize the first and second components. \n",
    "    \n",
    "    B. What conclusions can you make from these types of analysis? Can you make conclusions about differences in metabolite levels between men and women, using secon and third approach (significant features and PLS regression)?\n",
    "    \n",
    "    C. Let's say you added noise to your data (ex. see below). How will the results of your analysis change? What does this tell you? How should PLS regression analysis be used?\n",
    "    \n",
    "    4. \n",
    "    \n",
    "    A. Consider the whole metabolite blood dataset 'blooddf.csv','bloodsamples.csv'. Use logistic regression with L1 regularization to predict the sex of the individuals (don't forget to standardize your features). Use different possible parameters C of the model, estimate the ROC AUC value for each value, and visualize the obtained results. What posible range of parameters would give best results for this data?\n",
    "   \n",
    "     B. Same as B, but consider the PLS regression, with the number of components as parameter.\n",
    "   \n",
    "   \n",
    "    5.\n",
    "    \n",
    "    A. Consider the whole metabolite blood dataset 'bloodsamples.csv', with fixed train and test splits 'sometraindatablood.csv', 'sometestdatablood.csv'. Use logistic regression with L1 regularization to separate male and female samples, with a parameter C such that you get exactly 25 non-zero features in the model trained on the training dataset. What ROC AUC value do you get on the test data?\n",
    "    \n",
    "    B. Consider the regression coefficients of the trained model. A higher absolute value indicates a more important feature for the model. Take the feature with highest positive and negative coeficient, and remove them from the data. Retrain your model on the training dataset (you can use the same parameter C). What ROC value do you get for the test data? Next, remove all the 25 non-zero features from the dataset, and repeat this analysis. \n",
    "    \n",
    "    C. From the results of B, what can you say about feature importance for predicting the sex of the samples? Can these 25 features be considered important for predicting sex? Should these 25 features be considered more important than the remaining ones?\n",
    "    \n",
    "\n"
   ]
  },
  {
   "cell_type": "markdown",
   "id": "e66cc315",
   "metadata": {},
   "source": [
    "1"
   ]
  },
  {
   "cell_type": "code",
   "execution_count": 3,
   "id": "5b45b434",
   "metadata": {},
   "outputs": [],
   "source": [
    "#path='https://raw.githubusercontent.com/Annatkachev/StatLAB/refs/heads/main/PredModel_1/'\n",
    "path='/home/anna/PROJECTS2025/StatDatAnLAB/PredModel/'"
   ]
  },
  {
   "cell_type": "code",
   "execution_count": 4,
   "id": "d1949543",
   "metadata": {},
   "outputs": [],
   "source": [
    "data=pd.read_csv(path+'blooddatasubset.csv',index_col=0)\n",
    "samples=pd.read_csv(path+'bloodsamplesubset.csv',index_col=0)\n",
    "lr=Lasso(alpha=0.1)"
   ]
  },
  {
   "cell_type": "markdown",
   "id": "ea29ad45",
   "metadata": {},
   "source": [
    "2"
   ]
  },
  {
   "cell_type": "code",
   "execution_count": 5,
   "id": "05336ad0",
   "metadata": {},
   "outputs": [],
   "source": [
    "#path='https://raw.githubusercontent.com/Annatkachev/StatLAB/refs/heads/main/PredModel_1/'\n",
    "path='/home/anna/PROJECTS2025/StatDatAnLAB/PredModel/'"
   ]
  },
  {
   "cell_type": "code",
   "execution_count": 6,
   "id": "1e01b882",
   "metadata": {},
   "outputs": [],
   "source": [
    "data=pd.read_csv(path+'blooddatasubset.csv',index_col=0)\n",
    "samples=pd.read_csv(path+'bloodsamplesubset.csv',index_col=0)\n",
    "\n",
    "datanoise=pd.DataFrame(normal(10,1,(len(data.index),5000)),index=data.index)\n",
    "Xnorm=(datanoise-datanoise.mean())/datanoise.std()\n",
    "y=samples.loc[data.index,'bmi']\n",
    "\n",
    "lr=Ridge(alpha=200,max_iter=1000)"
   ]
  },
  {
   "cell_type": "markdown",
   "id": "0735b982",
   "metadata": {},
   "source": [
    "3"
   ]
  },
  {
   "cell_type": "code",
   "execution_count": 7,
   "id": "b9485dea",
   "metadata": {},
   "outputs": [],
   "source": [
    "#path='https://raw.githubusercontent.com/Annatkachev/StatLAB/refs/heads/main/PredModel_1/'\n",
    "path='/home/anna/PROJECTS2025/StatDatAnLAB/PredModel/'"
   ]
  },
  {
   "cell_type": "code",
   "execution_count": 8,
   "id": "38261ffa",
   "metadata": {},
   "outputs": [],
   "source": [
    "data=pd.read_csv(path+'blooddatasubset.csv',index_col=0)\n",
    "samples=pd.read_csv(path+'bloodsamplesubset.csv',index_col=0)"
   ]
  },
  {
   "cell_type": "code",
   "execution_count": 9,
   "id": "0bb7e9e2",
   "metadata": {},
   "outputs": [],
   "source": [
    "X=data\n",
    "samples.loc[samples['sex']=='f','sex binary']=1\n",
    "samples.loc[samples['sex']=='m','sex binary']=0\n",
    "y=samples['sex binary']\n",
    "    \n",
    "pls = PLSRegression(n_components=2)\n",
    "pls.fit(X, y)\n",
    "dfPLS = pd.DataFrame(pls.transform(X),columns=[0,1],index=X.index)"
   ]
  },
  {
   "cell_type": "code",
   "execution_count": 10,
   "id": "6183ad5b",
   "metadata": {},
   "outputs": [
    {
     "name": "stderr",
     "output_type": "stream",
     "text": [
      "/home/anna/anaconda3/lib/python3.7/site-packages/pandas/core/frame.py:3678: PerformanceWarning: DataFrame is highly fragmented.  This is usually the result of calling `frame.insert` many times, which has poor performance.  Consider joining all columns at once using pd.concat(axis=1) instead.  To get a de-fragmented frame, use `newframe = frame.copy()`\n",
      "  self[col] = igetitem(value, i)\n"
     ]
    }
   ],
   "source": [
    "#noise data X:\n",
    "X=data\n",
    "for i in X.columns:\n",
    "    m=X[i].mean()\n",
    "    s=X[i].std()\n",
    "    n=len(X.index)\n",
    "\n",
    "    l=[i+'_x1',i+'_x2',i+'_x3',i+'_x4',i+'_x5',i+'_x6',i+'_x7',i+'_x8']\n",
    "    X[l]=normal(m,s,(n,8))"
   ]
  },
  {
   "cell_type": "markdown",
   "id": "cfeaff8f",
   "metadata": {},
   "source": [
    "4"
   ]
  },
  {
   "cell_type": "code",
   "execution_count": 11,
   "id": "8ce30ea6",
   "metadata": {},
   "outputs": [],
   "source": [
    "#path='https://raw.githubusercontent.com/Annatkachev/StatLAB/refs/heads/main/DataTrans_1/'\n",
    "path='/home/anna/PROJECTS2025/StatDatAnLAB/DataTrans/'\n",
    "\n",
    "data=pd.read_csv(path+'blooddf.csv',index_col=0)\n",
    "samples=pd.read_csv(path+'bloodsamples.csv',index_col=0)\n",
    "\n",
    "X=data\n",
    "samples.loc[samples['sex']=='f','sex binary']=1\n",
    "samples.loc[samples['sex']=='m','sex binary']=0\n",
    "y=samples['sex binary']"
   ]
  },
  {
   "cell_type": "code",
   "execution_count": 12,
   "id": "efadcbf6",
   "metadata": {},
   "outputs": [],
   "source": [
    "#param=[...]\n",
    "#lr=LogisticRegression(penalty='l1', C=param,max_iter=1000,solver='liblinear')\n",
    "\n",
    "#param=[...]\n",
    "#pls = PLSRegression(n_components=param)"
   ]
  },
  {
   "cell_type": "markdown",
   "id": "20bb0458",
   "metadata": {},
   "source": [
    "5"
   ]
  },
  {
   "cell_type": "code",
   "execution_count": 17,
   "id": "ddc551c4",
   "metadata": {},
   "outputs": [],
   "source": [
    "#path='https://raw.githubusercontent.com/Annatkachev/StatLAB/refs/heads/main/PredModel_1/'\n",
    "path='/home/anna/PROJECTS2025/StatDatAnLAB/PredModel/'\n",
    "Xtrain=pd.read_csv(path+'sometraindatablood.csv',index_col=0)\n",
    "Xtest=pd.read_csv(path+'sometestdatablood.csv',index_col=0)\n",
    "\n",
    "#path='https://raw.githubusercontent.com/Annatkachev/StatLAB/refs/heads/main/DataTrans_1/'\n",
    "path='/home/anna/PROJECTS2025/StatDatAnLAB/DataTrans/'\n",
    "samples=pd.read_csv(path+'bloodsamples.csv',index_col=0)\n",
    "samples.loc[samples['sex']=='f','sex binary']=1\n",
    "samples.loc[samples['sex']=='m','sex binary']=0"
   ]
  },
  {
   "cell_type": "code",
   "execution_count": 18,
   "id": "b81b8067",
   "metadata": {},
   "outputs": [],
   "source": [
    "Xtrain_norm=(Xtrain-Xtrain.mean())/Xtrain.std()\n",
    "Xtest_norm=(Xtest-Xtest.mean())/Xtest.std()\n",
    "y=samples['sex binary']"
   ]
  },
  {
   "cell_type": "code",
   "execution_count": null,
   "id": "eacc84ec",
   "metadata": {},
   "outputs": [],
   "source": []
  },
  {
   "cell_type": "code",
   "execution_count": null,
   "id": "75b18e75",
   "metadata": {},
   "outputs": [],
   "source": []
  }
 ],
 "metadata": {
  "kernelspec": {
   "display_name": "Python 3 (ipykernel)",
   "language": "python",
   "name": "python3"
  },
  "language_info": {
   "codemirror_mode": {
    "name": "ipython",
    "version": 3
   },
   "file_extension": ".py",
   "mimetype": "text/x-python",
   "name": "python",
   "nbconvert_exporter": "python",
   "pygments_lexer": "ipython3",
   "version": "3.7.3"
  }
 },
 "nbformat": 4,
 "nbformat_minor": 5
}
