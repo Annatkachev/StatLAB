{
 "cells": [
  {
   "cell_type": "code",
   "execution_count": 300,
   "id": "31df5f08",
   "metadata": {},
   "outputs": [],
   "source": [
    "import numpy as np\n",
    "import pandas as pd\n",
    "import matplotlib.pyplot as plt\n",
    "from pylab import rcParams\n",
    "import seaborn as sns\n",
    "\n",
    "\n",
    "\n",
    "from numpy.random import uniform\n",
    "from numpy.random import normal\n",
    "from numpy.random import exponential\n",
    "from numpy.random import lognormal\n",
    "\n",
    "from numpy.random import choice\n",
    "from numpy.random import permutation\n",
    "\n",
    "\n",
    "from scipy.stats import pearsonr\n",
    "from scipy.stats import spearmanr\n",
    "from scipy.stats import ttest_ind\n",
    "from scipy.stats import mannwhitneyu\n",
    "from scipy.stats import shapiro\n",
    "\n",
    "from statsmodels.sandbox.stats.multicomp import multipletests\n",
    "from sklearn.cluster import KMeans\n",
    "from sklearn.decomposition import PCA\n",
    "\n",
    "\n",
    "from sklearn.linear_model import LinearRegression\n",
    "\n",
    "%matplotlib inline"
   ]
  },
  {
   "cell_type": "code",
   "execution_count": 2,
   "id": "b2ae0096",
   "metadata": {},
   "outputs": [],
   "source": [
    "import matplotlib as PLT\n",
    "PLT.rcParams.update({'figure.max_open_warning': 0})\n",
    "PLT.rcParams.update({'font.size': 15})\n",
    "\n",
    "PLT.rcParams['axes.linewidth'] = 2\n",
    "\n",
    "PLT.rcParams['xtick.major.size'] = 3\n",
    "PLT.rcParams['xtick.major.width'] = 2\n",
    "\n",
    "PLT.rcParams['ytick.major.size'] = 3\n",
    "PLT.rcParams['ytick.major.width'] = 2"
   ]
  },
  {
   "cell_type": "code",
   "execution_count": 3,
   "id": "cc4108b4",
   "metadata": {},
   "outputs": [],
   "source": [
    "#path='https://raw.githubusercontent.com/Annatkachev/StatLAB/refs/heads/main/DataTrans_1/'\n",
    "path='/home/anna/PROJECTS2025/StatDatAnLAB/DataTrans/'"
   ]
  },
  {
   "cell_type": "markdown",
   "id": "2545d1a7",
   "metadata": {},
   "source": [
    "- variance explained formula"
   ]
  },
  {
   "cell_type": "code",
   "execution_count": 4,
   "id": "98d978a1",
   "metadata": {},
   "outputs": [],
   "source": [
    "data=pd.read_csv(path+'blooddf.csv',index_col=0)\n",
    "vol=pd.read_csv(path+'bloodsamples.csv',index_col=0)"
   ]
  },
  {
   "cell_type": "code",
   "execution_count": null,
   "id": "80c81a1d",
   "metadata": {},
   "outputs": [],
   "source": []
  },
  {
   "cell_type": "markdown",
   "id": "a8fa0dfc",
   "metadata": {},
   "source": [
    "1 "
   ]
  },
  {
   "cell_type": "code",
   "execution_count": 260,
   "id": "03184759",
   "metadata": {},
   "outputs": [],
   "source": [
    "df=np.log2(data)"
   ]
  },
  {
   "cell_type": "code",
   "execution_count": 6,
   "id": "0da9b70f",
   "metadata": {},
   "outputs": [],
   "source": [
    "x=df['feature151']\n",
    "y=df['feature152']"
   ]
  },
  {
   "cell_type": "code",
   "execution_count": 7,
   "id": "0fe114b3",
   "metadata": {},
   "outputs": [
    {
     "data": {
      "text/plain": [
       "<matplotlib.collections.PathCollection at 0x7f464bcf9358>"
      ]
     },
     "execution_count": 7,
     "metadata": {},
     "output_type": "execute_result"
    },
    {
     "data": {
      "image/png": "[encoded data removed]",
      "text/plain": [
       "<Figure size 432x288 with 1 Axes>"
      ]
     },
     "metadata": {
      "needs_background": "light"
     },
     "output_type": "display_data"
    }
   ],
   "source": [
    "plt.scatter(x, y)"
   ]
  },
  {
   "cell_type": "code",
   "execution_count": 10,
   "id": "32e1faaa",
   "metadata": {},
   "outputs": [],
   "source": [
    "lr=LinearRegression()"
   ]
  },
  {
   "cell_type": "code",
   "execution_count": 11,
   "id": "5cc783f0",
   "metadata": {},
   "outputs": [
    {
     "data": {
      "text/plain": [
       "array([0.33930257])"
      ]
     },
     "execution_count": 11,
     "metadata": {},
     "output_type": "execute_result"
    }
   ],
   "source": [
    "lr.fit(df[['feature151']],df['feature152']).coef_"
   ]
  },
  {
   "cell_type": "code",
   "execution_count": 21,
   "id": "06ed3d41",
   "metadata": {},
   "outputs": [
    {
     "data": {
      "text/plain": [
       "11.168666060679156"
      ]
     },
     "execution_count": 21,
     "metadata": {},
     "output_type": "execute_result"
    }
   ],
   "source": [
    "lr.fit(df[['feature151']],df['feature152']).intercept_"
   ]
  },
  {
   "cell_type": "code",
   "execution_count": 97,
   "id": "c37cc5a0",
   "metadata": {},
   "outputs": [],
   "source": [
    "beta=0.33930257\n",
    "interc=11.168666\n",
    "x=df['feature151']\n",
    "y=df['feature152']"
   ]
  },
  {
   "cell_type": "code",
   "execution_count": null,
   "id": "536d4290",
   "metadata": {},
   "outputs": [],
   "source": []
  },
  {
   "cell_type": "code",
   "execution_count": 268,
   "id": "c9280e2e",
   "metadata": {},
   "outputs": [],
   "source": [
    "#A\n",
    "#x=df['feature151']\n",
    "#y=df['feature152']+2\n",
    "\n",
    "#B\n",
    "#x=df['feature151']\n",
    "#y=2*df['feature152']\n",
    "\n",
    "#C\n",
    "x=df['feature171']\n",
    "y=df['feature172']"
   ]
  },
  {
   "cell_type": "code",
   "execution_count": 269,
   "id": "420395f8",
   "metadata": {},
   "outputs": [
    {
     "data": {
      "text/plain": [
       "<matplotlib.collections.PathCollection at 0x7f46495b5a20>"
      ]
     },
     "execution_count": 269,
     "metadata": {},
     "output_type": "execute_result"
    },
    {
     "data": {
      "image/png": "[encoded data removed]",
      "text/plain": [
       "<Figure size 432x288 with 1 Axes>"
      ]
     },
     "metadata": {
      "needs_background": "light"
     },
     "output_type": "display_data"
    }
   ],
   "source": [
    "plt.scatter(x, y)"
   ]
  },
  {
   "cell_type": "code",
   "execution_count": 270,
   "id": "6954a87f",
   "metadata": {},
   "outputs": [],
   "source": [
    "beta=lr.fit(pd.DataFrame(x),y).coef_\n",
    "interc=lr.fit(pd.DataFrame(x),y).intercept_"
   ]
  },
  {
   "cell_type": "code",
   "execution_count": 271,
   "id": "3c5788ab",
   "metadata": {},
   "outputs": [
    {
     "data": {
      "text/plain": [
       "(array([0.43655182]), 8.08830595996292)"
      ]
     },
     "execution_count": 271,
     "metadata": {},
     "output_type": "execute_result"
    }
   ],
   "source": [
    "beta, interc"
   ]
  },
  {
   "cell_type": "code",
   "execution_count": 272,
   "id": "43448131",
   "metadata": {},
   "outputs": [
    {
     "data": {
      "text/plain": [
       "0.3552744533411224"
      ]
     },
     "execution_count": 272,
     "metadata": {},
     "output_type": "execute_result"
    }
   ],
   "source": [
    "1-(np.var(y-beta*x-interc)/np.var(y))"
   ]
  },
  {
   "cell_type": "code",
   "execution_count": 273,
   "id": "022a0d2d",
   "metadata": {},
   "outputs": [
    {
     "data": {
      "text/plain": [
       "0.3552744533411224"
      ]
     },
     "execution_count": 273,
     "metadata": {},
     "output_type": "execute_result"
    }
   ],
   "source": [
    "1-(np.var(y-beta*x)/np.var(y))"
   ]
  },
  {
   "cell_type": "code",
   "execution_count": 274,
   "id": "ffe585db",
   "metadata": {},
   "outputs": [
    {
     "data": {
      "text/plain": [
       "(0.5960490360206301, 2.276265156692598e-59)"
      ]
     },
     "execution_count": 274,
     "metadata": {},
     "output_type": "execute_result"
    }
   ],
   "source": [
    "pearsonr(x,y)"
   ]
  },
  {
   "cell_type": "code",
   "execution_count": 275,
   "id": "68a2c95e",
   "metadata": {},
   "outputs": [
    {
     "data": {
      "text/plain": [
       "0.3552744533411224"
      ]
     },
     "execution_count": 275,
     "metadata": {},
     "output_type": "execute_result"
    }
   ],
   "source": [
    "0.5960490360206301**2"
   ]
  },
  {
   "cell_type": "code",
   "execution_count": null,
   "id": "22c238dd",
   "metadata": {},
   "outputs": [],
   "source": []
  },
  {
   "cell_type": "code",
   "execution_count": 279,
   "id": "d63927bc",
   "metadata": {},
   "outputs": [
    {
     "data": {
      "text/plain": [
       "<matplotlib.collections.PathCollection at 0x7f4649369780>"
      ]
     },
     "execution_count": 279,
     "metadata": {},
     "output_type": "execute_result"
    },
    {
     "data": {
      "image/png": "[encoded data removed]",
      "text/plain": [
       "<Figure size 432x288 with 1 Axes>"
      ]
     },
     "metadata": {
      "needs_background": "light"
     },
     "output_type": "display_data"
    }
   ],
   "source": [
    "plt.scatter(x,y)\n",
    "plt.plot(x,beta*x+interc,color='black')\n",
    "\n",
    "plt.scatter(newx,newy)"
   ]
  },
  {
   "cell_type": "code",
   "execution_count": 130,
   "id": "ed6f6a6e",
   "metadata": {},
   "outputs": [
    {
     "data": {
      "text/plain": [
       "<matplotlib.collections.PathCollection at 0x7f464a875f28>"
      ]
     },
     "execution_count": 130,
     "metadata": {},
     "output_type": "execute_result"
    },
    {
     "data": {
      "image/png": "[encoded data removed]",
      "text/plain": [
       "<Figure size 432x288 with 1 Axes>"
      ]
     },
     "metadata": {
      "needs_background": "light"
     },
     "output_type": "display_data"
    }
   ],
   "source": [
    "\n",
    "plt.scatter(x,y-(beta*x+interc),color='black')"
   ]
  },
  {
   "cell_type": "code",
   "execution_count": 112,
   "id": "161769b8",
   "metadata": {},
   "outputs": [
    {
     "data": {
      "text/plain": [
       "0.3081401688477814"
      ]
     },
     "execution_count": 112,
     "metadata": {},
     "output_type": "execute_result"
    }
   ],
   "source": [
    "1-(np.var(y-beta*x-interc)/np.var(y))"
   ]
  },
  {
   "cell_type": "code",
   "execution_count": 113,
   "id": "2959c993",
   "metadata": {},
   "outputs": [
    {
     "data": {
      "text/plain": [
       "(0.5551037460221124, 4.087338780823886e-50)"
      ]
     },
     "execution_count": 113,
     "metadata": {},
     "output_type": "execute_result"
    }
   ],
   "source": [
    "pearsonr(x,y)"
   ]
  },
  {
   "cell_type": "code",
   "execution_count": 114,
   "id": "11f8a903",
   "metadata": {},
   "outputs": [
    {
     "data": {
      "text/plain": [
       "0.3081401688477819"
      ]
     },
     "execution_count": 114,
     "metadata": {},
     "output_type": "execute_result"
    }
   ],
   "source": [
    "0.5551037460221124**2"
   ]
  },
  {
   "cell_type": "code",
   "execution_count": null,
   "id": "aba39468",
   "metadata": {},
   "outputs": [],
   "source": []
  },
  {
   "cell_type": "markdown",
   "id": "b085bfdf",
   "metadata": {},
   "source": [
    "- linear regression y over x\n",
    "\n",
    "- variance of y explained by x\n",
    "\n",
    "- correlation coefficient\n"
   ]
  },
  {
   "cell_type": "code",
   "execution_count": 22,
   "id": "2690bff4",
   "metadata": {},
   "outputs": [],
   "source": [
    "#A\n",
    "x=df['feature151']\n",
    "y=df['feature152']+2\n",
    "\n",
    "#B\n",
    "x=df['feature151']\n",
    "y=2*df['feature152']\n",
    "\n",
    "#C\n",
    "x=df['feature171']\n",
    "y=df['feature172']"
   ]
  },
  {
   "cell_type": "markdown",
   "id": "b0fc3c0c",
   "metadata": {},
   "source": [
    "- how does anlaysis change?\n",
    "\n",
    "- redo analysis with other features"
   ]
  },
  {
   "cell_type": "markdown",
   "id": "6c5a30c0",
   "metadata": {},
   "source": [
    "2"
   ]
  },
  {
   "cell_type": "code",
   "execution_count": 243,
   "id": "cc4db76b",
   "metadata": {},
   "outputs": [],
   "source": [
    "df=data"
   ]
  },
  {
   "cell_type": "code",
   "execution_count": 244,
   "id": "91d36a98",
   "metadata": {},
   "outputs": [],
   "source": [
    "x=df['feature171']\n",
    "y=df['feature172']"
   ]
  },
  {
   "cell_type": "code",
   "execution_count": 245,
   "id": "1c0199a7",
   "metadata": {},
   "outputs": [],
   "source": [
    "ind=y.sort_values()[:-4].index\n",
    "newx=x[ind]\n",
    "newy=y[ind]"
   ]
  },
  {
   "cell_type": "code",
   "execution_count": 246,
   "id": "83726e76",
   "metadata": {},
   "outputs": [
    {
     "data": {
      "text/plain": [
       "0.39383036129568627"
      ]
     },
     "execution_count": 246,
     "metadata": {},
     "output_type": "execute_result"
    }
   ],
   "source": [
    "np.var(newy)/ np.var(y) "
   ]
  },
  {
   "cell_type": "code",
   "execution_count": 247,
   "id": "86958085",
   "metadata": {},
   "outputs": [
    {
     "data": {
      "text/plain": [
       "<matplotlib.collections.PathCollection at 0x7f464973bc18>"
      ]
     },
     "execution_count": 247,
     "metadata": {},
     "output_type": "execute_result"
    },
    {
     "data": {
      "image/png": "[encoded data removed]",
      "text/plain": [
       "<Figure size 432x288 with 1 Axes>"
      ]
     },
     "metadata": {
      "needs_background": "light"
     },
     "output_type": "display_data"
    }
   ],
   "source": [
    "plt.scatter(x, y)"
   ]
  },
  {
   "cell_type": "markdown",
   "id": "a7a0c329",
   "metadata": {},
   "source": [
    "- how does the previous analysis look now?\n",
    "\n",
    "- visualize residuals\n",
    "\n",
    "- calculate variance of feature x and y\n",
    "\n",
    "- take remove 4 largest points from dataset, how much does the variance change? Express in terms of ratio\n",
    "\n",
    "- compare how much variance of residual changes, and how variance explained changes\n",
    "\n",
    "- would the same thing happen for log-scaled data?"
   ]
  },
  {
   "cell_type": "code",
   "execution_count": 248,
   "id": "0e22c7e1",
   "metadata": {},
   "outputs": [],
   "source": [
    "beta=lr.fit(pd.DataFrame(x),y).coef_\n",
    "interc=lr.fit(pd.DataFrame(x),y).intercept_"
   ]
  },
  {
   "cell_type": "code",
   "execution_count": 249,
   "id": "1c2d289c",
   "metadata": {},
   "outputs": [],
   "source": [
    "newbeta=lr.fit(pd.DataFrame(newx),newy).coef_\n",
    "newinterc=lr.fit(pd.DataFrame(newx),newy).intercept_"
   ]
  },
  {
   "cell_type": "code",
   "execution_count": 250,
   "id": "20124787",
   "metadata": {},
   "outputs": [
    {
     "data": {
      "text/plain": [
       "(array([0.49672709]), 7139.756174667276)"
      ]
     },
     "execution_count": 250,
     "metadata": {},
     "output_type": "execute_result"
    }
   ],
   "source": [
    "beta, interc"
   ]
  },
  {
   "cell_type": "code",
   "execution_count": 251,
   "id": "0a7faf04",
   "metadata": {},
   "outputs": [
    {
     "data": {
      "text/plain": [
       "0.7263100287942169"
      ]
     },
     "execution_count": 251,
     "metadata": {},
     "output_type": "execute_result"
    }
   ],
   "source": [
    "np.var(newy-newbeta*newx-newinterc)/np.var(y-beta*x-interc)"
   ]
  },
  {
   "cell_type": "code",
   "execution_count": 256,
   "id": "dc733c28",
   "metadata": {},
   "outputs": [],
   "source": [
    "#1-(np.var(y-beta*x-interc)/np.var(y))"
   ]
  },
  {
   "cell_type": "code",
   "execution_count": 257,
   "id": "edf7798a",
   "metadata": {},
   "outputs": [
    {
     "data": {
      "text/plain": [
       "(0.8783053480841554, 4.349578688163254e-195)"
      ]
     },
     "execution_count": 257,
     "metadata": {},
     "output_type": "execute_result"
    }
   ],
   "source": [
    "pearsonr(x,y)"
   ]
  },
  {
   "cell_type": "code",
   "execution_count": 258,
   "id": "780c6d18",
   "metadata": {},
   "outputs": [
    {
     "data": {
      "text/plain": [
       "(0.7605580852356987, 2.897740895505893e-114)"
      ]
     },
     "execution_count": 258,
     "metadata": {},
     "output_type": "execute_result"
    }
   ],
   "source": [
    "pearsonr(newx,newy)"
   ]
  },
  {
   "cell_type": "code",
   "execution_count": 254,
   "id": "48fdd232",
   "metadata": {},
   "outputs": [
    {
     "data": {
      "text/plain": [
       "[<matplotlib.lines.Line2D at 0x7f46496f4438>]"
      ]
     },
     "execution_count": 254,
     "metadata": {},
     "output_type": "execute_result"
    },
    {
     "data": {
      "image/png": "[encoded data removed]",
      "text/plain": [
       "<Figure size 432x288 with 1 Axes>"
      ]
     },
     "metadata": {
      "needs_background": "light"
     },
     "output_type": "display_data"
    }
   ],
   "source": [
    "plt.scatter(x,y)\n",
    "plt.plot(x,beta*x+interc,color='black')"
   ]
  },
  {
   "cell_type": "code",
   "execution_count": null,
   "id": "eb4b71db",
   "metadata": {},
   "outputs": [],
   "source": []
  },
  {
   "cell_type": "code",
   "execution_count": 255,
   "id": "05c26566",
   "metadata": {},
   "outputs": [
    {
     "data": {
      "text/plain": [
       "<matplotlib.lines.Line2D at 0x7f46496d2be0>"
      ]
     },
     "execution_count": 255,
     "metadata": {},
     "output_type": "execute_result"
    },
    {
     "data": {
      "image/png": "[encoded data removed]",
      "text/plain": [
       "<Figure size 432x288 with 1 Axes>"
      ]
     },
     "metadata": {
      "needs_background": "light"
     },
     "output_type": "display_data"
    }
   ],
   "source": [
    "\n",
    "plt.scatter(x,y-(beta*x+interc),color='red')\n",
    "plt.scatter(newx,newy-(beta*newx+interc),color='black')\n",
    "\n",
    "plt.axhline(y=0,color='grey')"
   ]
  },
  {
   "cell_type": "code",
   "execution_count": null,
   "id": "eb64ede2",
   "metadata": {},
   "outputs": [],
   "source": []
  },
  {
   "cell_type": "code",
   "execution_count": null,
   "id": "981a921f",
   "metadata": {},
   "outputs": [],
   "source": []
  },
  {
   "cell_type": "markdown",
   "id": "81518275",
   "metadata": {},
   "source": [
    "2"
   ]
  },
  {
   "cell_type": "code",
   "execution_count": 286,
   "id": "46ff7a3d",
   "metadata": {},
   "outputs": [],
   "source": [
    "df=np.log2(data)"
   ]
  },
  {
   "cell_type": "code",
   "execution_count": 287,
   "id": "8d94832b",
   "metadata": {},
   "outputs": [],
   "source": [
    "y=df['feature1']\n",
    "ind1=vol[vol['sex']=='f'].index\n",
    "ind2=vol[vol['sex']=='m'].index"
   ]
  },
  {
   "cell_type": "code",
   "execution_count": 288,
   "id": "9d539f04",
   "metadata": {},
   "outputs": [
    {
     "data": {
      "text/plain": [
       "(array([0.02339193, 0.14035156, 0.25731119, 0.79532548, 0.91228511,\n",
       "        0.67836585, 0.56140622, 0.35087889, 0.11695963, 0.07017578]),\n",
       " array([12.12817608, 12.38416287, 12.64014965, 12.89613644, 13.15212323,\n",
       "        13.40811001, 13.6640968 , 13.92008359, 14.17607037, 14.43205716,\n",
       "        14.68804394]),\n",
       " <BarContainer object of 10 artists>)"
      ]
     },
     "execution_count": 288,
     "metadata": {},
     "output_type": "execute_result"
    },
    {
     "data": {
      "image/png": "[encoded data removed]",
      "text/plain": [
       "<Figure size 432x288 with 1 Axes>"
      ]
     },
     "metadata": {
      "needs_background": "light"
     },
     "output_type": "display_data"
    }
   ],
   "source": [
    "plt.hist(y[ind1],alpha=0.2,density=True)\n",
    "plt.hist(y[ind2],alpha=0.2,density=True)"
   ]
  },
  {
   "cell_type": "markdown",
   "id": "346757dd",
   "metadata": {},
   "source": [
    "- variance of y explained by sex?\n",
    "\n",
    "- for all features, compare this value to cohen's d or t t-stastics\n",
    "\n",
    " (also matches to correlation coeficcient)"
   ]
  },
  {
   "cell_type": "code",
   "execution_count": null,
   "id": "31caf8bc",
   "metadata": {},
   "outputs": [],
   "source": []
  },
  {
   "cell_type": "code",
   "execution_count": 297,
   "id": "d8906f0d",
   "metadata": {},
   "outputs": [
    {
     "name": "stderr",
     "output_type": "stream",
     "text": [
      "/home/anna/anaconda3/lib/python3.7/site-packages/ipykernel_launcher.py:1: DeprecationWarning: The default dtype for empty Series will be 'object' instead of 'float64' in a future version. Specify a dtype explicitly to silence this warning.\n",
      "  \"\"\"Entry point for launching an IPython kernel.\n"
     ]
    },
    {
     "data": {
      "text/plain": [
       "0.057933313091698024"
      ]
     },
     "execution_count": 297,
     "metadata": {},
     "output_type": "execute_result"
    }
   ],
   "source": [
    "tmp=pd.Series(index=vol.index)\n",
    "tmp[vol[vol['sex']=='f'].index]=np.mean(y[ind1])\n",
    "tmp[vol[vol['sex']=='m'].index]=np.mean(y[ind2])\n",
    "    \n",
    "1-(np.var((y-tmp)))/(np.var(y))"
   ]
  },
  {
   "cell_type": "code",
   "execution_count": null,
   "id": "1dc25122",
   "metadata": {},
   "outputs": [],
   "source": []
  },
  {
   "cell_type": "code",
   "execution_count": null,
   "id": "74125e3a",
   "metadata": {},
   "outputs": [],
   "source": []
  },
  {
   "cell_type": "markdown",
   "id": "476c6d39",
   "metadata": {},
   "source": [
    "3"
   ]
  },
  {
   "cell_type": "code",
   "execution_count": 315,
   "id": "ced8f508",
   "metadata": {},
   "outputs": [],
   "source": [
    "df=np.log2(data)"
   ]
  },
  {
   "cell_type": "markdown",
   "id": "24da6821",
   "metadata": {},
   "source": [
    "- Perform PCA analysis (for ex. 4 components), visualize results by age and sex \n",
    "\n",
    "- Obtain variance explained\n",
    "\n",
    "- Obatin components, show their distribution\n",
    "\n",
    "- What is variance explained? calculate directly\n",
    "\n",
    "- take feature with highest component, visualize the relationship between PC1 and this feature\n",
    "\n",
    "- PC2, caluculate variance explained between men and woman "
   ]
  },
  {
   "cell_type": "code",
   "execution_count": 316,
   "id": "ea228571",
   "metadata": {},
   "outputs": [],
   "source": [
    "model=PCA(n_components=4).fit(df)\n",
    "dfPCA=pd.DataFrame(model.transform(df),index=df.index,columns=['PC1','PC2','PC3','PC4'])"
   ]
  },
  {
   "cell_type": "code",
   "execution_count": 317,
   "id": "aa90736c",
   "metadata": {},
   "outputs": [
    {
     "data": {
      "text/plain": [
       "array([0.49652155, 0.09516255, 0.08279579, 0.04873973])"
      ]
     },
     "execution_count": 317,
     "metadata": {},
     "output_type": "execute_result"
    }
   ],
   "source": [
    "model_.explained_variance_ratio_"
   ]
  },
  {
   "cell_type": "code",
   "execution_count": null,
   "id": "bc5ae850",
   "metadata": {},
   "outputs": [],
   "source": []
  },
  {
   "cell_type": "code",
   "execution_count": null,
   "id": "ef6a1932",
   "metadata": {},
   "outputs": [],
   "source": [
    "\n"
   ]
  },
  {
   "cell_type": "code",
   "execution_count": 319,
   "id": "2f6328aa",
   "metadata": {},
   "outputs": [
    {
     "data": {
      "text/plain": [
       "0.4965215536666437"
      ]
     },
     "execution_count": 319,
     "metadata": {},
     "output_type": "execute_result"
    }
   ],
   "source": [
    "np.var(dfPCA['PC1'])/np.sum(np.var(df))"
   ]
  },
  {
   "cell_type": "code",
   "execution_count": null,
   "id": "29fbd1ce",
   "metadata": {},
   "outputs": [],
   "source": []
  },
  {
   "cell_type": "code",
   "execution_count": null,
   "id": "f3768076",
   "metadata": {},
   "outputs": [],
   "source": []
  },
  {
   "cell_type": "markdown",
   "id": "df3a3662",
   "metadata": {},
   "source": [
    "4 "
   ]
  },
  {
   "cell_type": "code",
   "execution_count": 44,
   "id": "427bf1cb",
   "metadata": {},
   "outputs": [],
   "source": [
    "df=data"
   ]
  },
  {
   "cell_type": "markdown",
   "id": "8241e9f9",
   "metadata": {},
   "source": [
    "- What happens in original, log-normal scale?\n",
    "\n",
    "- Look at the plots you obtain, by age and sex\n",
    "\n",
    "- What about the variance explained? \n",
    "\n",
    "- What about the distribution of components? How do they relate to feature variance?"
   ]
  },
  {
   "cell_type": "markdown",
   "id": "302bc1b7",
   "metadata": {},
   "source": [
    "- take top 4 features with highest variance, and perform a new PCA analysis without overwritting previous results. Compare variance explained, the PC1 components of the two analysis, the PC2 components of the two anlaysis"
   ]
  },
  {
   "cell_type": "code",
   "execution_count": 47,
   "id": "1ff641c0",
   "metadata": {},
   "outputs": [],
   "source": [
    "dfa=data\n",
    "dfb=np.log2(data)"
   ]
  },
  {
   "cell_type": "markdown",
   "id": "87d82eb8",
   "metadata": {},
   "source": [
    "\n",
    "- Do you think the log scale data would give similar picture?\n",
    "\n",
    "\n",
    "- compare components vs variance for original scale and log scale\n",
    "\n",
    "- should you or not use scaling (Z-score) before PCA?"
   ]
  },
  {
   "cell_type": "markdown",
   "id": "00590b53",
   "metadata": {},
   "source": [
    "5 "
   ]
  },
  {
   "cell_type": "code",
   "execution_count": null,
   "id": "f6ac9d67",
   "metadata": {},
   "outputs": [],
   "source": [
    "df=data"
   ]
  },
  {
   "cell_type": "markdown",
   "id": "44f91118",
   "metadata": {},
   "source": [
    "- look at means of all features, variance of all features, their distribution\n",
    "- how do the two relate? Why is it like this? "
   ]
  },
  {
   "cell_type": "code",
   "execution_count": 45,
   "id": "b84660c6",
   "metadata": {},
   "outputs": [],
   "source": [
    "df=np.log2(data)"
   ]
  },
  {
   "cell_type": "markdown",
   "id": "f3ce35c0",
   "metadata": {},
   "source": [
    "- what about for log-scale data?"
   ]
  },
  {
   "cell_type": "markdown",
   "id": "7aa2068d",
   "metadata": {},
   "source": [
    "6 "
   ]
  },
  {
   "cell_type": "markdown",
   "id": "368b704a",
   "metadata": {},
   "source": [
    "- Properties of log\n",
    "\n",
    "- log2FC, specific values\n",
    "\n",
    "- Calculate examples in data"
   ]
  },
  {
   "cell_type": "code",
   "execution_count": null,
   "id": "4d3a15b2",
   "metadata": {},
   "outputs": [],
   "source": []
  },
  {
   "cell_type": "code",
   "execution_count": null,
   "id": "266bc7f3",
   "metadata": {},
   "outputs": [],
   "source": []
  }
 ],
 "metadata": {
  "kernelspec": {
   "display_name": "Python 3 (ipykernel)",
   "language": "python",
   "name": "python3"
  },
  "language_info": {
   "codemirror_mode": {
    "name": "ipython",
    "version": 3
   },
   "file_extension": ".py",
   "mimetype": "text/x-python",
   "name": "python",
   "nbconvert_exporter": "python",
   "pygments_lexer": "ipython3",
   "version": "3.7.3"
  }
 },
 "nbformat": 4,
 "nbformat_minor": 5
}
