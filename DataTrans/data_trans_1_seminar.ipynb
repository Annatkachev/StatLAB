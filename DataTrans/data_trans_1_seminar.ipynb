{
 "cells": [
  {
   "cell_type": "code",
   "execution_count": 1,
   "id": "979143fa",
   "metadata": {},
   "outputs": [],
   "source": [
    "import numpy as np\n",
    "import pandas as pd\n",
    "import matplotlib.pyplot as plt\n",
    "from pylab import rcParams\n",
    "import seaborn as sns\n",
    "\n",
    "\n",
    "\n",
    "from numpy.random import uniform\n",
    "from numpy.random import normalhon\n",
    "from numpy.random import exponential\n",
    "from numpy.random import lognormal\n",
    "\n",
    "from numpy.random import choice\n",
    "from numpy.random import permutation\n",
    "\n",
    "\n",
    "from scipy.stats import pearsonr\n",
    "from scipy.stats import spearmanr\n",
    "from scipy.stats import ttest_ind\n",
    "from scipy.stats import mannwhitneyu\n",
    "from scipy.stats import shapiro\n",
    "\n",
    "from statsmodels.sandbox.stats.multicomp import multipletests\n",
    "from sklearn.cluster import KMeans\n",
    "\n",
    "\n",
    "%matplotlib inline"
   ]
  },
  {
   "cell_type": "code",
   "execution_count": 2,
   "id": "822c6d5a",
   "metadata": {},
   "outputs": [],
   "source": [
    "import matplotlib as PLT\n",
    "PLT.rcParams.update({'figure.max_open_warning': 0})\n",
    "PLT.rcParams.update({'font.size': 15})\n",
    "\n",
    "PLT.rcParams['axes.linewidth'] = 2\n",
    "\n",
    "PLT.rcParams['xtick.major.size'] = 3\n",
    "PLT.rcParams['xtick.major.width'] = 2\n",
    "\n",
    "PLT.rcParams['ytick.major.size'] = 3\n",
    "PLT.rcParams['ytick.major.width'] = 2"
   ]
  },
  {
   "cell_type": "code",
   "execution_count": 4,
   "id": "a64481e9",
   "metadata": {},
   "outputs": [],
   "source": [
    "#path='https://raw.githubusercontent.com/Annatkachev/StatLAB/refs/heads/main/DataTrans_1/'\n",
    "path='/home/anna/PROJECTS2025/StatDatAnLAB/DataTrans/'"
   ]
  },
  {
   "cell_type": "markdown",
   "id": "9a4b6714",
   "metadata": {},
   "source": [
    "- variance explained formula"
   ]
  },
  {
   "cell_type": "code",
   "execution_count": 35,
   "id": "b3c5652d",
   "metadata": {},
   "outputs": [],
   "source": [
    "data=pd.read_csv(path+'blooddf.csv',index_col=0)\n",
    "vol=pd.read_csv(path+'bloodsamples.csv',index_col=0)"
   ]
  },
  {
   "cell_type": "markdown",
   "id": "9b81fab3",
   "metadata": {},
   "source": [
    "1 "
   ]
  },
  {
   "cell_type": "code",
   "execution_count": 12,
   "id": "76a091fe",
   "metadata": {},
   "outputs": [],
   "source": [
    "df=np.log2(data)"
   ]
  },
  {
   "cell_type": "code",
   "execution_count": 14,
   "id": "77136dc3",
   "metadata": {},
   "outputs": [],
   "source": [
    "x=df['feature151']\n",
    "y=df['feature152']"
   ]
  },
  {
   "cell_type": "code",
   "execution_count": 15,
   "id": "01df2f2d",
   "metadata": {},
   "outputs": [
    {
     "data": {
      "text/plain": [
       "<matplotlib.collections.PathCollection at 0x7f72c2580470>"
      ]
     },
     "execution_count": 15,
     "metadata": {},
     "output_type": "execute_result"
    },
    {
     "data": {
      "image/png": "[encoded data removed]",
      "text/plain": [
       "<Figure size 432x288 with 1 Axes>"
      ]
     },
     "metadata": {
      "needs_background": "light"
     },
     "output_type": "display_data"
    }
   ],
   "source": [
    "plt.scatter(x, y)"
   ]
  },
  {
   "cell_type": "markdown",
   "id": "d44584f4",
   "metadata": {},
   "source": [
    "- linear regression y over x\n",
    "\n",
    "- variance of y explained by x\n",
    "\n",
    "- correlation coefficient\n"
   ]
  },
  {
   "cell_type": "code",
   "execution_count": 22,
   "id": "4abc909a",
   "metadata": {},
   "outputs": [],
   "source": [
    "#A\n",
    "x=df['feature151']\n",
    "y=df['feature152']+2\n",
    "\n",
    "#B\n",
    "x=df['feature151']\n",
    "y=2*df['feature152']\n",
    "\n",
    "#C\n",
    "x=df['feature171']\n",
    "y=df['feature172']"
   ]
  },
  {
   "cell_type": "markdown",
   "id": "5eec3a26",
   "metadata": {},
   "source": [
    "- how does anlaysis change?\n",
    "\n",
    "- redo analysis with other features"
   ]
  },
  {
   "cell_type": "markdown",
   "id": "dd0510b4",
   "metadata": {},
   "source": [
    "2"
   ]
  },
  {
   "cell_type": "code",
   "execution_count": 28,
   "id": "48e4d07b",
   "metadata": {},
   "outputs": [],
   "source": [
    "df=data"
   ]
  },
  {
   "cell_type": "code",
   "execution_count": 29,
   "id": "4d76413a",
   "metadata": {},
   "outputs": [],
   "source": [
    "x=df['feature171']\n",
    "y=df['feature172']"
   ]
  },
  {
   "cell_type": "code",
   "execution_count": 30,
   "id": "dd364bdf",
   "metadata": {},
   "outputs": [
    {
     "data": {
      "text/plain": [
       "<matplotlib.collections.PathCollection at 0x7f72c22b2b00>"
      ]
     },
     "execution_count": 30,
     "metadata": {},
     "output_type": "execute_result"
    },
    {
     "data": {
      "image/png": "[encoded data removed]",
      "text/plain": [
       "<Figure size 432x288 with 1 Axes>"
      ]
     },
     "metadata": {
      "needs_background": "light"
     },
     "output_type": "display_data"
    }
   ],
   "source": [
    "plt.scatter(x, y)"
   ]
  },
  {
   "cell_type": "markdown",
   "id": "e4ee2630",
   "metadata": {},
   "source": [
    "- how does the previous analysis look now?\n",
    "\n",
    "- visualize residuals\n",
    "\n",
    "- calculate variance of feature x and y\n",
    "\n",
    "- take remove 4 largest points from dataset, how much does the variance change? Express in terms of ratio\n",
    "\n",
    "- compare how much variance of residual changes, and how variance explained changes\n",
    "\n",
    "- would the same thing happen for log-scaled data?"
   ]
  },
  {
   "cell_type": "markdown",
   "id": "b28e26da",
   "metadata": {},
   "source": [
    "2"
   ]
  },
  {
   "cell_type": "code",
   "execution_count": 36,
   "id": "f558a646",
   "metadata": {},
   "outputs": [],
   "source": [
    "df=np.log2(data)"
   ]
  },
  {
   "cell_type": "code",
   "execution_count": 39,
   "id": "09fcc53e",
   "metadata": {},
   "outputs": [],
   "source": [
    "y=df['feature1']\n",
    "ind1=vol[vol['sex']=='f'].index\n",
    "ind2=vol[vol['sex']=='m'].index"
   ]
  },
  {
   "cell_type": "raw",
   "id": "9024fdda",
   "metadata": {},
   "source": [
    "-variance of y explained by sex?\n",
    "\n",
    "-for all features, compare this value to cohen's d or t t-stastics\n",
    "\n",
    "(also matches to correlation coeficcient)"
   ]
  },
  {
   "cell_type": "markdown",
   "id": "ffaf619e",
   "metadata": {},
   "source": [
    "3"
   ]
  },
  {
   "cell_type": "code",
   "execution_count": 40,
   "id": "085b9b5b",
   "metadata": {},
   "outputs": [],
   "source": [
    "df=np.log2(data)"
   ]
  },
  {
   "cell_type": "markdown",
   "id": "440e7f47",
   "metadata": {},
   "source": [
    "- Perform PCA analysis (for ex. 4 components), visualize results by age and sex \n",
    "\n",
    "- Obtain variance explained\n",
    "\n",
    "- Obatin components, show their distribution\n",
    "\n",
    "- What is variance explained? calculate directly\n",
    "\n",
    "- take feature with highest component, visualize the relationship between PC1 and this feature\n",
    "\n",
    "- PC2, caluculate variance explained between men and woman "
   ]
  },
  {
   "cell_type": "markdown",
   "id": "69371533",
   "metadata": {},
   "source": [
    "4 "
   ]
  },
  {
   "cell_type": "code",
   "execution_count": 44,
   "id": "914e52c7",
   "metadata": {},
   "outputs": [],
   "source": [
    "df=data"
   ]
  },
  {
   "cell_type": "markdown",
   "id": "d9a3eead",
   "metadata": {},
   "source": [
    "- What happens in original, log-normal scale?\n",
    "\n",
    "- Look at the plots you obtain, by age and sex\n",
    "\n",
    "- What about the variance explained? \n",
    "\n",
    "- What about the distribution of components? How do they relate to feature variance?"
   ]
  },
  {
   "cell_type": "markdown",
   "id": "e2a82bab",
   "metadata": {},
   "source": [
    "- take top 4 features with highest variance, and perform a new PCA analysis without overwritting previous results. Compare variance explained, the PC1 components of the two analysis, the PC2 components of the two anlaysis"
   ]
  },
  {
   "cell_type": "code",
   "execution_count": 47,
   "id": "4413eb44",
   "metadata": {},
   "outputs": [],
   "source": [
    "dfa=data\n",
    "dfb=np.log2(data)"
   ]
  },
  {
   "cell_type": "markdown",
   "id": "722a1c7c",
   "metadata": {},
   "source": [
    "\n",
    "- Do you think the log scale data would give similar picture?\n",
    "\n",
    "\n",
    "- compare components vs variance for original scale and log scale\n",
    "\n",
    "- should you or not use scaling (Z-score) before PCA?"
   ]
  },
  {
   "cell_type": "markdown",
   "id": "8e286951",
   "metadata": {},
   "source": [
    "5 "
   ]
  },
  {
   "cell_type": "code",
   "execution_count": null,
   "id": "e755ee45",
   "metadata": {},
   "outputs": [],
   "source": [
    "df=data"
   ]
  },
  {
   "cell_type": "markdown",
   "id": "68b77a50",
   "metadata": {},
   "source": [
    "- look at means of all features, variance of all features, their distribution\n",
    "- how do the two relate? Why is it like this? "
   ]
  },
  {
   "cell_type": "code",
   "execution_count": 45,
   "id": "4d1a755b",
   "metadata": {},
   "outputs": [],
   "source": [
    "df=np.log2(data)"
   ]
  },
  {
   "cell_type": "markdown",
   "id": "5a2f43a0",
   "metadata": {},
   "source": [
    "- what about for log-scale data?"
   ]
  },
  {
   "cell_type": "markdown",
   "id": "ba20d75c",
   "metadata": {},
   "source": [
    "6 "
   ]
  },
  {
   "cell_type": "markdown",
   "id": "4156dc31",
   "metadata": {},
   "source": [
    "- Properties of log\n",
    "\n",
    "- log2FC, specific values\n",
    "\n",
    "- Calculate examples in data"
   ]
  },
  {
   "cell_type": "code",
   "execution_count": null,
   "id": "7cb083d6",
   "metadata": {},
   "outputs": [],
   "source": []
  },
  {
   "cell_type": "code",
   "execution_count": null,
   "id": "a25e2349",
   "metadata": {},
   "outputs": [],
   "source": []
  }
 ],
 "metadata": {
  "kernelspec": {
   "display_name": "Python 3 (ipykernel)",
   "language": "python",
   "name": "python3"
  },
  "language_info": {
   "codemirror_mode": {
    "name": "ipython",
    "version": 3
   },
   "file_extension": ".py",
   "mimetype": "text/x-python",
   "name": "python",
   "nbconvert_exporter": "python",
   "pygments_lexer": "ipython3",
   "version": "3.7.3"
  }
 },
 "nbformat": 4,
 "nbformat_minor": 5
}
