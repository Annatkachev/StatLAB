{
 "cells": [
  {
   "cell_type": "code",
   "execution_count": null,
   "id": "89c2bfe5",
   "metadata": {},
   "outputs": [],
   "source": [
    "import numpy as np\n",
    "import pandas as pd\n",
    "import matplotlib.pyplot as plt\n",
    "from pylab import rcParams\n",
    "import seaborn as sns\n",
    "\n",
    "\n",
    "\n",
    "from numpy.random import uniform\n",
    "from numpy.random import normal\n",
    "from numpy.random import exponential\n",
    "from numpy.random import lognormal\n",
    "\n",
    "from numpy.random import choice\n",
    "from numpy.random import permutation\n",
    "\n",
    "\n",
    "from scipy.stats import pearsonr\n",
    "from scipy.stats import spearmanr\n",
    "from scipy.stats import ttest_ind\n",
    "from scipy.stats import mannwhitneyu\n",
    "from scipy.stats import shapiro\n",
    "\n",
    "from statsmodels.sandbox.stats.multicomp import multipletests\n",
    "from sklearn.cluster import KMeans\n",
    "\n",
    "\n",
    "%matplotlib inline"
   ]
  },
  {
   "cell_type": "code",
   "execution_count": null,
   "id": "2ffe9105",
   "metadata": {},
   "outputs": [],
   "source": [
    "import matplotlib as PLT\n",
    "PLT.rcParams.update({'figure.max_open_warning': 0})\n",
    "PLT.rcParams.update({'font.size': 15})\n",
    "\n",
    "PLT.rcParams['axes.linewidth'] = 2\n",
    "\n",
    "PLT.rcParams['xtick.major.size'] = 3\n",
    "PLT.rcParams['xtick.major.width'] = 2\n",
    "\n",
    "PLT.rcParams['ytick.major.size'] = 3\n",
    "PLT.rcParams['ytick.major.width'] = 2"
   ]
  },
  {
   "cell_type": "code",
   "execution_count": null,
   "id": "269fe0f7",
   "metadata": {},
   "outputs": [],
   "source": [
    "#path='https://raw.githubusercontent.com/Annatkachev/StatLAB/refs/heads/main/StatSign_3/'\n",
    "path='/home/anna/PROJECTS2025/StatDatAnLAB/StatSign/'"
   ]
  },
  {
   "cell_type": "markdown",
   "id": "b8418a0a",
   "metadata": {},
   "source": [
    "## FDR vs noise"
   ]
  },
  {
   "cell_type": "code",
   "execution_count": null,
   "id": "a4e2cb6c",
   "metadata": {},
   "outputs": [],
   "source": [
    "#pv=pd.read_csv(path+'pv_noise_x1.csv',index_col=0)['0']\n",
    "#pv=pd.read_csv(path+'pv_noise_x3.csv',index_col=0)['0']\n",
    "pv=pd.read_csv(path+'pv_noise_x9.csv',index_col=0)['0']"
   ]
  },
  {
   "cell_type": "code",
   "execution_count": null,
   "id": "14429e97",
   "metadata": {},
   "outputs": [],
   "source": [
    "plt.hist(pv);\n",
    "plt.xlabel('p-value')"
   ]
  },
  {
   "cell_type": "code",
   "execution_count": null,
   "id": "26b99d15",
   "metadata": {},
   "outputs": [],
   "source": [
    "pv_corrected=multipletests(pv,method='fdr_bh')[1]\n",
    "pv_corrected=pd.Series(pv_corrected,index=pv.index)"
   ]
  },
  {
   "cell_type": "code",
   "execution_count": null,
   "id": "0425c2c2",
   "metadata": {},
   "outputs": [],
   "source": [
    "sign_nominal05=pv[pv<0.05].index\n",
    "sign_FDR05=pv_corrected[pv_corrected<0.05].index"
   ]
  },
  {
   "cell_type": "code",
   "execution_count": null,
   "id": "a9e50fc2",
   "metadata": {},
   "outputs": [],
   "source": [
    "len(sign_nominal05), len(sign_FDR05)"
   ]
  },
  {
   "cell_type": "code",
   "execution_count": null,
   "id": "4520d88a",
   "metadata": {},
   "outputs": [],
   "source": [
    "\n",
    "a=sign_nominal05\n",
    "b=sign_FDR05\n",
    "plt.bar([0,1],[len(a),len(b)],color='purple')\n",
    "plt.ylabel('number of \"significant\" features')\n",
    "plt.xticks([0,1],['nominal 5%', 'FDR 5%'])\n",
    "\n",
    "print(len(a), len(b))"
   ]
  },
  {
   "cell_type": "code",
   "execution_count": null,
   "id": "783fcd35",
   "metadata": {},
   "outputs": [],
   "source": [
    "feats_noise=[i for i in pv.index if 'noise' in i]\n",
    "feats_notnoise=[i for i in pv.index if 'noise' not in i]"
   ]
  },
  {
   "cell_type": "code",
   "execution_count": null,
   "id": "19a771d7",
   "metadata": {},
   "outputs": [],
   "source": [
    "FEATURES=sign_nominal05\n",
    "\n",
    "a=[i for i in FEATURES if i in feats_noise]\n",
    "b=[i for i in FEATURES if i in feats_notnoise]\n",
    "plt.bar([0,1],[len(a),len(b)],color=['orange','cornflowerblue'])\n",
    "plt.ylabel('number of \"significant\" features')\n",
    "plt.xticks([0,1],['generated noise', 'real feature'])\n",
    "\n",
    "print(len(a), len(b))"
   ]
  },
  {
   "cell_type": "markdown",
   "id": "9cf1becd",
   "metadata": {},
   "source": [
    "probability of noise feature having <5% p-values?"
   ]
  },
  {
   "cell_type": "code",
   "execution_count": null,
   "id": "8c168153",
   "metadata": {},
   "outputs": [],
   "source": [
    "#len(a)/len(feats_noise)"
   ]
  },
  {
   "cell_type": "code",
   "execution_count": null,
   "id": "721db259",
   "metadata": {},
   "outputs": [],
   "source": [
    "FEATURES=sign_FDR05\n",
    "\n",
    "a=[i for i in FEATURES if i in feats_noise]\n",
    "b=[i for i in FEATURES if i in feats_notnoise]\n",
    "plt.bar([0,1],[len(a),len(b)],color=['orange','cornflowerblue'])\n",
    "plt.ylabel('number of \"significant\" features')\n",
    "plt.xticks([0,1],['generated noise', 'real feature'])\n",
    "\n",
    "print(len(a), len(b))"
   ]
  },
  {
   "cell_type": "markdown",
   "id": "59848706",
   "metadata": {},
   "source": [
    "## FDR 20%, 50%"
   ]
  },
  {
   "cell_type": "code",
   "execution_count": null,
   "id": "c9aa80a5",
   "metadata": {},
   "outputs": [],
   "source": [
    "#noise_x9"
   ]
  },
  {
   "cell_type": "code",
   "execution_count": null,
   "id": "d6b0469c",
   "metadata": {},
   "outputs": [],
   "source": [
    "sign_FDR20=pv_corrected[pv_corrected<0.2].index"
   ]
  },
  {
   "cell_type": "code",
   "execution_count": null,
   "id": "ef3cf9f7",
   "metadata": {},
   "outputs": [],
   "source": [
    "a=sign_nominal05\n",
    "b=sign_FDR05\n",
    "c=sign_FDR20\n",
    "\n",
    "plt.bar([0,1,2],[len(a),len(b), len(c)],color='purple')\n",
    "plt.ylabel('number of \"significant\" features')\n",
    "plt.xticks([0,1,2],['nominal 5%', 'FDR 5%', 'FDR 20%'])\n",
    "\n",
    "print(len(a), len(b), len(c))"
   ]
  },
  {
   "cell_type": "code",
   "execution_count": null,
   "id": "23fb7e0b",
   "metadata": {},
   "outputs": [],
   "source": [
    "FEATURES=sign_FDR20\n",
    "\n",
    "a=[i for i in FEATURES if i in feats_noise]\n",
    "b=[i for i in FEATURES if i in feats_notnoise]\n",
    "plt.bar([0,1],[len(a),len(b)],color=['orange','cornflowerblue'])\n",
    "plt.ylabel('number of \"significant\" features')\n",
    "plt.xticks([0,1],['generated noise', 'real feature'])\n",
    "\n",
    "print(len(a), len(b))"
   ]
  },
  {
   "cell_type": "markdown",
   "id": "2372cc98",
   "metadata": {},
   "source": [
    "## reproducibility analysis"
   ]
  },
  {
   "cell_type": "code",
   "execution_count": null,
   "id": "8bbed214",
   "metadata": {},
   "outputs": [],
   "source": [
    "#noise_x9"
   ]
  },
  {
   "cell_type": "markdown",
   "id": "dff0c223",
   "metadata": {},
   "source": [
    "## Let's define significant features as those, that pass the 20% FDR threshold\n",
    "## Will significant features be significant again in a new experiment?"
   ]
  },
  {
   "cell_type": "markdown",
   "id": "84b5382b",
   "metadata": {},
   "source": [
    "How can we estimate this for the generated dataset?"
   ]
  },
  {
   "cell_type": "code",
   "execution_count": null,
   "id": "3bd45215",
   "metadata": {},
   "outputs": [],
   "source": [
    "plt.hist(pv);"
   ]
  },
  {
   "cell_type": "code",
   "execution_count": null,
   "id": "df88dbcb",
   "metadata": {},
   "outputs": [],
   "source": [
    "len(sign_FDR20)"
   ]
  },
  {
   "cell_type": "markdown",
   "id": "a4468660",
   "metadata": {},
   "source": [
    "1. \n",
    "2."
   ]
  },
  {
   "cell_type": "code",
   "execution_count": null,
   "id": "8c299fab",
   "metadata": {},
   "outputs": [],
   "source": []
  },
  {
   "cell_type": "code",
   "execution_count": null,
   "id": "9ec77afd",
   "metadata": {},
   "outputs": [],
   "source": []
  },
  {
   "cell_type": "markdown",
   "id": "7eeebeb2",
   "metadata": {},
   "source": [
    "## New experiment"
   ]
  },
  {
   "cell_type": "code",
   "execution_count": null,
   "id": "fb3e5bdd",
   "metadata": {},
   "outputs": [],
   "source": [
    "Rpv=pd.read_csv(path+'pv_reproducibility_noise_x9.csv',index_col=0)['0']"
   ]
  },
  {
   "cell_type": "code",
   "execution_count": null,
   "id": "c4a00ded",
   "metadata": {},
   "outputs": [],
   "source": [
    "Rsign_nominal05=Rpv[Rpv<0.05].index"
   ]
  },
  {
   "cell_type": "code",
   "execution_count": null,
   "id": "9b9c2fb7",
   "metadata": {},
   "outputs": [],
   "source": [
    "FEATURES=sign_FDR20\n",
    "len(FEATURES), len([i for i in FEATURES if i in Rsign_nominal05])"
   ]
  },
  {
   "cell_type": "code",
   "execution_count": null,
   "id": "469471e2",
   "metadata": {},
   "outputs": [],
   "source": [
    "FEATURES=sign_FDR20\n",
    "\n",
    "a=FEATURES\n",
    "b=[i for i in FEATURES if i in Rsign_nominal05]\n",
    "plt.bar([0,1],[len(a),len(b)],color=['blue','darkblue'])\n",
    "plt.ylabel('number of  features')\n",
    "plt.xticks([0,1],['significant\\nexperiment 1', 'p-value < 5%\\nexperiment 2'])\n",
    "\n",
    "print(len(a), len(b))"
   ]
  },
  {
   "cell_type": "markdown",
   "id": "5031e352",
   "metadata": {},
   "source": [
    "## separate by noise and not noise"
   ]
  },
  {
   "cell_type": "code",
   "execution_count": null,
   "id": "a9453993",
   "metadata": {},
   "outputs": [],
   "source": [
    "FEATURES=sign_FDR20\n",
    "\n",
    "a=[i for i in FEATURES if i in feats_noise]\n",
    "b=[i for i in FEATURES if i in feats_notnoise]\n",
    "plt.bar([0,1],[len(a),len(b)],color=['orange','cornflowerblue'])\n",
    "plt.ylabel('number of \"significant\" features')\n",
    "plt.xticks([0,1],['generated noise', 'real feature'])\n",
    "\n",
    "print(len(a), len(b))"
   ]
  },
  {
   "cell_type": "code",
   "execution_count": null,
   "id": "54694d32",
   "metadata": {},
   "outputs": [],
   "source": [
    "plt.hist([pv[feats_noise],pv[feats_notnoise]],color=['orange','cornflowerblue'],stacked=True,bins=20);"
   ]
  },
  {
   "cell_type": "code",
   "execution_count": null,
   "id": "6f5c9602",
   "metadata": {},
   "outputs": [],
   "source": []
  },
  {
   "cell_type": "code",
   "execution_count": null,
   "id": "2e0986a2",
   "metadata": {},
   "outputs": [],
   "source": []
  },
  {
   "cell_type": "code",
   "execution_count": null,
   "id": "b26ab6bc",
   "metadata": {},
   "outputs": [],
   "source": [
    "FEATURES=[i for i in sign_FDR20 if i in feats_noise]\n",
    "\n",
    "a=FEATURES\n",
    "b=[i for i in FEATURES if i in Rsign_nominal05]\n",
    "plt.bar([0,1],[len(a),len(b)],color=['blue','darkblue'])\n",
    "plt.ylabel('number of  features')\n",
    "plt.xticks([0,1],['significant\\nexperiment 1', 'p-value < 5%\\nexperiment 2'])\n",
    "plt.title('only noise')\n",
    "\n",
    "print(len(a), len(b))"
   ]
  },
  {
   "cell_type": "code",
   "execution_count": null,
   "id": "3c3ce9ee",
   "metadata": {},
   "outputs": [],
   "source": [
    "FEATURES=[i for i in sign_FDR20 if i in feats_notnoise]\n",
    "\n",
    "a=FEATURES\n",
    "b=[i for i in FEATURES if i in Rsign_nominal05]\n",
    "plt.bar([0,1],[len(a),len(b)],color=['blue','darkblue'])\n",
    "plt.ylabel('number of  features')\n",
    "plt.xticks([0,1],['significant\\nexperiment 1', 'p-value < 5%\\nexperiment 2'])\n",
    "plt.title(' without noise')\n",
    "\n",
    "print(len(a), len(b))"
   ]
  },
  {
   "cell_type": "markdown",
   "id": "a0375ad5",
   "metadata": {},
   "source": [
    "## What if we didn't know what was the generated noise?"
   ]
  },
  {
   "cell_type": "code",
   "execution_count": null,
   "id": "b4da670f",
   "metadata": {},
   "outputs": [],
   "source": [
    "FEATURES=sign_FDR20\n",
    "#FEATURES=sign_FDR50\n",
    "#FEATURES=sign_FDR05\n",
    "\n",
    "a=FEATURES\n",
    "b=[i for i in FEATURES if i in Rsign_nominal05]\n",
    "plt.bar([0,1],[len(a),len(b)],color=['blue','darkblue'])\n",
    "plt.ylabel('number of  features')\n",
    "plt.xticks([0,1],['significant\\nexperiment 1', 'p-value < 5%\\nexperiment 2'])\n",
    "\n",
    "print(len(a), len(b))"
   ]
  },
  {
   "cell_type": "code",
   "execution_count": null,
   "id": "513d9f6c",
   "metadata": {},
   "outputs": [],
   "source": [
    "len(FEATURES), len([i for i in FEATURES if i in Rsign_nominal05])"
   ]
  },
  {
   "cell_type": "code",
   "execution_count": null,
   "id": "31698ad0",
   "metadata": {},
   "outputs": [],
   "source": [
    "len([i for i in FEATURES if i in Rsign_nominal05])/len(FEATURES)"
   ]
  },
  {
   "cell_type": "code",
   "execution_count": null,
   "id": "8ef1231b",
   "metadata": {},
   "outputs": [],
   "source": []
  },
  {
   "cell_type": "markdown",
   "id": "abd1d8fd",
   "metadata": {},
   "source": [
    "## Effect size"
   ]
  },
  {
   "cell_type": "code",
   "execution_count": null,
   "id": "326f07ce",
   "metadata": {},
   "outputs": [],
   "source": [
    "# FDR20"
   ]
  },
  {
   "cell_type": "code",
   "execution_count": null,
   "id": "85e7d0b3",
   "metadata": {},
   "outputs": [],
   "source": [
    "df=pd.read_csv(path+'df_noise_x9.csv',index_col=0)\n",
    "Rdf=pd.read_csv(path+'df_reproducibility_noise_x9.csv',index_col=0)"
   ]
  },
  {
   "cell_type": "code",
   "execution_count": null,
   "id": "8b800b33",
   "metadata": {},
   "outputs": [],
   "source": [
    "indf=[i for i in df.index if 'female' in i]\n",
    "indm=[i for i in df.index if 'female' not in i]\n",
    "\n",
    "Rindf=[i for i in Rdf.index if 'female' in i]\n",
    "Rindm=[i for i in Rdf.index if 'female' not in i]"
   ]
  },
  {
   "cell_type": "code",
   "execution_count": null,
   "id": "0a8d9267",
   "metadata": {},
   "outputs": [],
   "source": [
    "FEATURES=[i for i in sign_FDR20 if i in feats_notnoise]\n",
    "\n",
    "a=FEATURES\n",
    "b=[i for i in FEATURES if i in Rsign_nominal05]\n",
    "plt.bar([0,1],[len(a),len(b)],color=['blue','darkblue'])\n",
    "plt.ylabel('number of  features')\n",
    "plt.xticks([0,1],['significant\\nexperiment 1', 'p-value < 5%\\nexperiment 2'])\n",
    "plt.title(' without noise')\n",
    "\n",
    "print(len(a), len(b))"
   ]
  },
  {
   "cell_type": "code",
   "execution_count": null,
   "id": "c77cdb1d",
   "metadata": {},
   "outputs": [],
   "source": [
    "len(b)/len(a)"
   ]
  },
  {
   "cell_type": "markdown",
   "id": "6be2bf97",
   "metadata": {},
   "source": [
    "difference in mean"
   ]
  },
  {
   "cell_type": "code",
   "execution_count": null,
   "id": "90d2e619",
   "metadata": {},
   "outputs": [],
   "source": [
    "FC=df.loc[indf].mean()-df.loc[indm].mean()\n",
    "RFC=Rdf.loc[Rindf].mean()-Rdf.loc[Rindm].mean()"
   ]
  },
  {
   "cell_type": "code",
   "execution_count": null,
   "id": "1d26dcda",
   "metadata": {},
   "outputs": [],
   "source": [
    "FEATURES=[i for i in sign_FDR20 if i in feats_notnoise]\n",
    "len(FEATURES)\n",
    "\n",
    "#FEATURES=[i for i in sign_FDR20 if i in feats_noise]\n",
    "#len(FEATURES)"
   ]
  },
  {
   "cell_type": "code",
   "execution_count": null,
   "id": "471439ca",
   "metadata": {},
   "outputs": [],
   "source": [
    "increased=FC[FEATURES][FC[FEATURES]>0].index"
   ]
  },
  {
   "cell_type": "code",
   "execution_count": null,
   "id": "5b41c7a1",
   "metadata": {},
   "outputs": [],
   "source": [
    "np.sum(RFC[increased]>0),np.sum(RFC[increased]<0)"
   ]
  },
  {
   "cell_type": "code",
   "execution_count": null,
   "id": "e11bb466",
   "metadata": {},
   "outputs": [],
   "source": [
    "decreased=FC[FEATURES][FC[FEATURES]<0].index"
   ]
  },
  {
   "cell_type": "code",
   "execution_count": null,
   "id": "d38a875f",
   "metadata": {},
   "outputs": [],
   "source": [
    "np.sum(RFC[decreased]>0),np.sum(RFC[decreased]<0)"
   ]
  },
  {
   "cell_type": "code",
   "execution_count": null,
   "id": "4564caf7",
   "metadata": {},
   "outputs": [],
   "source": [
    "FEATURES=[i for i in sign_FDR20 if i in feats_notnoise]\n",
    "plt.scatter(FC[FEATURES], RFC[FEATURES],color='cornflowerblue')\n",
    "\n",
    "FEATURES=[i for i in sign_FDR20 if i in feats_noise]\n",
    "plt.scatter(FC[FEATURES], RFC[FEATURES],color='orange')\n",
    "\n",
    "\n",
    "plt.axhline(color='black')\n",
    "plt.axvline(color='black')\n",
    "plt.xlabel('difference in mean\\nexperiment 1')\n",
    "plt.xlabel('difference in mean\\nexperiment 2')"
   ]
  },
  {
   "cell_type": "markdown",
   "id": "5438ac5c",
   "metadata": {},
   "source": [
    "## What if we didn't know what was the generated noise?"
   ]
  },
  {
   "cell_type": "code",
   "execution_count": null,
   "id": "dd207b94",
   "metadata": {},
   "outputs": [],
   "source": [
    "FEATURES=sign_FDR20"
   ]
  },
  {
   "cell_type": "code",
   "execution_count": null,
   "id": "89917c91",
   "metadata": {},
   "outputs": [],
   "source": [
    "increased=FC[FEATURES][FC[FEATURES]>0].index\n",
    "np.sum(RFC[increased]>0),np.sum(RFC[increased]<0)"
   ]
  },
  {
   "cell_type": "code",
   "execution_count": null,
   "id": "c604ae5f",
   "metadata": {},
   "outputs": [],
   "source": [
    "decreased=FC[FEATURES][FC[FEATURES]<0].index\n",
    "np.sum(RFC[decreased]>0),np.sum(RFC[decreased]<0)"
   ]
  },
  {
   "cell_type": "markdown",
   "id": "28ac016d",
   "metadata": {},
   "source": [
    "if X% features are false discoveries, how many features are expected to show opposite effect? (at least)"
   ]
  },
  {
   "cell_type": "code",
   "execution_count": null,
   "id": "11ef59fa",
   "metadata": {},
   "outputs": [],
   "source": [
    "np.round(100*np.sum(FC[FEATURES]*RFC[FEATURES]<0)/len(FEATURES))"
   ]
  },
  {
   "cell_type": "code",
   "execution_count": null,
   "id": "d26d549c",
   "metadata": {},
   "outputs": [],
   "source": [
    "#2*value"
   ]
  },
  {
   "cell_type": "code",
   "execution_count": null,
   "id": "ec47dc2e",
   "metadata": {},
   "outputs": [],
   "source": [
    "plt.scatter(FC[FEATURES], RFC[FEATURES],color='purple')\n",
    "\n",
    "plt.axhline(color='black')\n",
    "plt.axvline(color='black')\n",
    "plt.xlabel('difference in mean\\nexperiment 1')\n",
    "plt.ylabel('difference in mean\\nexperiment 2')"
   ]
  },
  {
   "cell_type": "markdown",
   "id": "1e66bc5c",
   "metadata": {},
   "source": [
    "## Cohen's d instead of difference in mean"
   ]
  },
  {
   "cell_type": "code",
   "execution_count": null,
   "id": "7002dede",
   "metadata": {},
   "outputs": [],
   "source": [
    "t=ttest_ind(df.loc[indf], df.loc[indm],equal_var=True)[0]\n",
    "cd=t*np.sqrt(1/len(indf)+1/len(indm))\n",
    "cd=pd.Series(cd,index=df.columns)"
   ]
  },
  {
   "cell_type": "code",
   "execution_count": null,
   "id": "b9c3beef",
   "metadata": {},
   "outputs": [],
   "source": [
    "t=ttest_ind(Rdf.loc[Rindf], Rdf.loc[Rindm],equal_var=True)[0]\n",
    "Rcd=t*np.sqrt(1/len(Rindf)+1/len(Rindm))\n",
    "Rcd=pd.Series(Rcd,index=Rdf.columns)"
   ]
  },
  {
   "cell_type": "code",
   "execution_count": null,
   "id": "bc9cf735",
   "metadata": {},
   "outputs": [],
   "source": [
    "plt.scatter(cd[FEATURES], Rcd[FEATURES],color='purple')\n",
    "\n",
    "\n",
    "plt.axhline(color='black')\n",
    "plt.axvline(color='black')\n",
    "plt.xlabel('CD\\nexperiment 1')\n",
    "plt.ylabel('CD\\nexperiment 2')"
   ]
  },
  {
   "cell_type": "code",
   "execution_count": null,
   "id": "7abf5753",
   "metadata": {},
   "outputs": [],
   "source": [
    "np.round(100*np.sum(cd[FEATURES]*Rcd[FEATURES]<0)/len(FEATURES))"
   ]
  },
  {
   "cell_type": "markdown",
   "id": "58355d11",
   "metadata": {},
   "source": [
    "## Questions Cohen's d"
   ]
  },
  {
   "cell_type": "code",
   "execution_count": null,
   "id": "456c78b1",
   "metadata": {},
   "outputs": [],
   "source": [
    "var=df['feature9']\n",
    "#var=df['feature9']+10\n",
    "#var=3*df['feature9']"
   ]
  },
  {
   "cell_type": "code",
   "execution_count": null,
   "id": "d6469bc1",
   "metadata": {},
   "outputs": [],
   "source": [
    "t=ttest_ind(var[indf], var[indm],equal_var=True)[0]\n",
    "cd=t*np.sqrt(1/len(indf)+1/len(indm))"
   ]
  },
  {
   "cell_type": "code",
   "execution_count": null,
   "id": "fe5df22c",
   "metadata": {},
   "outputs": [],
   "source": [
    "plt.hist(var[indf],alpha=0.7)\n",
    "plt.hist(var[indm],alpha=0.7)"
   ]
  },
  {
   "cell_type": "code",
   "execution_count": null,
   "id": "4577a27c",
   "metadata": {},
   "outputs": [],
   "source": [
    "cd"
   ]
  },
  {
   "cell_type": "code",
   "execution_count": null,
   "id": "3f6f80e7",
   "metadata": {},
   "outputs": [],
   "source": [
    "var[indf].mean()-var[indm].mean()"
   ]
  },
  {
   "cell_type": "code",
   "execution_count": null,
   "id": "b16fb0df",
   "metadata": {},
   "outputs": [],
   "source": []
  },
  {
   "cell_type": "code",
   "execution_count": null,
   "id": "7b3c8506",
   "metadata": {},
   "outputs": [],
   "source": []
  }
 ],
 "metadata": {
  "kernelspec": {
   "display_name": "Python 3 (ipykernel)",
   "language": "python",
   "name": "python3"
  },
  "language_info": {
   "codemirror_mode": {
    "name": "ipython",
    "version": 3
   },
   "file_extension": ".py",
   "mimetype": "text/x-python",
   "name": "python",
   "nbconvert_exporter": "python",
   "pygments_lexer": "ipython3",
   "version": "3.7.3"
  }
 },
 "nbformat": 4,
 "nbformat_minor": 5
}
