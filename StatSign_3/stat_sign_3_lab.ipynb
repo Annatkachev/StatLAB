{
 "cells": [
  {
   "cell_type": "markdown",
   "id": "0113676d",
   "metadata": {},
   "source": [
    "## STAT SIGN 3"
   ]
  },
  {
   "cell_type": "markdown",
   "id": "154f544e",
   "metadata": {},
   "source": [
    "    1. \n",
    "    Consider the dataset \"Q1_originaldataset.csv\", which contains real features from blood metabolites in men and women, as well as generated random noise. Perform statistical analysis to find features with statistically significant features that show differences between men and women: use Benjamini-Hochberg method for multiple testing correction, with 5% threshold and statistical test of your choice. Next, you will try to assess whether these differences (SIGNIFICANT FEATURES) are reproduced in a new dataset. Both the original and reproducibility datasets were split from one same bigger dataset, and so represent the same population. (Do not use information on the which features were generated as random noise for this analysis)\n",
    "    \n",
    "    A. Consider the dataset Q1_reproducibilityBIG.csv. Define statistically significant features in the same way. How many of the SIGNIFICANT FEATURES were found to be significant in the reprodicibility dataset? How many of the SIGNIFICANT FEATURES show consistent effect size (consider sign of the mean differences between groups, or Cohen's d) in the reproducibility dataset? How many features are expected to NOT show consistent effect size with this FDR threshold? \n",
    "    \n",
    "    B. Change the FDR threshold to 30% for both datasets. Redo analysis of A, what results do you obtain?\n",
    "    \n",
    "    C. Consider the dataset Q1_reproducibilitySMALL.csv. Repeat the analysis of A and B. Comment on the reproducibility of effect sizes vs significant p-values for this case.\n",
    "    \n",
    "    2. \n",
    "    Consider the dataset Q2_originaldataset.csv which contains real features from blood metabolites in men and women, as well as generated random noise. Perform statistical analysis to find features with statistically significant features that show differences between men and women: use Benjamini-Hochberg method for multiple testing correction, with 5% threshold and statistical test of your choice. Next, you will try to assess whether these differences (SIGNIFICANT FEATURES) are reproduced in a new dataset. In this case, the original dataset came from one population (Ufa), while the first reproducibility dataset came from a different population (Moscow). The second reproducibility dataset also came from a different population, as it included only patients with schizophrenia (Ufa).(Do not use information on the which features were generated as random noise for this analysis).\n",
    "    \n",
    "    A. Consider the dataset Q2_reproducibility.csv. Does it make sense to consider the significant features in this reproducibility dataset to assess whether your SIGNIFICANT FEATURES show reproducible differences in the new dataset? As in question 1, assess how many of you SIGNIFICANT FEATURES show significant differences in the new dataset, and how many show consistent effect sizes. \n",
    "    \n",
    "    B.How does changing the FDR threshold to 30% affect your results?\n",
    "    \n",
    "    C.Consider the dataset Q2_reproducibility_SCZ.csv. Repeat the analysis of A and B. Comment on the differences in reproducibility estimates you obtained for the first and second dataset.\n",
    "    \n",
    "    3. \n",
    "    Assume you performed two different experiments, X and Y, in which you assessed statistical differences in mean values between two groups. You obtain the p-value distributions shown below. Instead of performing a multiple testing correction procedure, you use nominal p-value cutoff 5% to define significant differences. Let's say you perform additional experiments, and try to assess the reproducibility of your results. \n",
    "    \n",
    "    A. How many features do you expect to show reproducible results, for X compared to Y? Why?\n",
    "    \n",
    "    B. Now let's assume you performed an FDR correction procedure with a thershold of 20%. How many features do you expect to show reproducible direction of effect sizes, for cases X and Y? How many features do you expect to show statistically significant differences in the new datasets? How do you answers in B depend on the sample sizes of the new datasets?\n",
    "    \n",
    "    4.(Bonus question) For either question 1 or 2, consider the information on which features were generated as random noise."
   ]
  },
  {
   "cell_type": "code",
   "execution_count": 2,
   "id": "0d12288d",
   "metadata": {},
   "outputs": [],
   "source": [
    "import numpy as np\n",
    "import pandas as pd\n",
    "import matplotlib.pyplot as plt\n",
    "from pylab import rcParams\n",
    "import seaborn as sns\n",
    "\n",
    "\n",
    "\n",
    "from numpy.random import uniform\n",
    "from numpy.random import normal\n",
    "from numpy.random import exponential\n",
    "from numpy.random import lognormal\n",
    "\n",
    "from numpy.random import choice\n",
    "from numpy.random import permutation\n",
    "\n",
    "\n",
    "from scipy.stats import pearsonr\n",
    "from scipy.stats import spearmanr\n",
    "from scipy.stats import ttest_ind\n",
    "from scipy.stats import mannwhitneyu\n",
    "from scipy.stats import shapiro\n",
    "\n",
    "from statsmodels.sandbox.stats.multicomp import multipletests\n",
    "from sklearn.cluster import KMeans\n",
    "\n",
    "\n",
    "%matplotlib inline"
   ]
  },
  {
   "cell_type": "markdown",
   "id": "032a2b3d",
   "metadata": {},
   "source": [
    "Q1"
   ]
  },
  {
   "cell_type": "code",
   "execution_count": null,
   "id": "8b527f5d",
   "metadata": {},
   "outputs": [],
   "source": [
    "#path='https://raw.githubusercontent.com/Annatkachev/StatLAB/refs/heads/main/StatSign_3/'\n",
    "path='/home/anna/PROJECTS2025/StatDatAnLAB/StatSign/'"
   ]
  },
  {
   "cell_type": "code",
   "execution_count": null,
   "id": "6cb47f14",
   "metadata": {},
   "outputs": [],
   "source": [
    "#original dataset\n",
    "df=pd.read_csv(path+'Q1_originaldataset.csv',index_col=0)\n",
    "\n",
    "#reproducibility dataset 1\n",
    "Rdf=pd.read_csv(path+'Q1_reproducibilityBIG.csv',index_col=0)\n",
    "\n",
    "#reproducibility dataset 2\n",
    "#Rdf=pd.read_csv(path+'Q1_reproducibilitySMALL.csv',index_col=0)"
   ]
  },
  {
   "cell_type": "code",
   "execution_count": null,
   "id": "a00da65a",
   "metadata": {},
   "outputs": [],
   "source": [
    "indf=[i for i in df.index if 'female' in i]\n",
    "indm=[i for i in df.index if 'female' not in i]\n",
    "\n",
    "Rindf=[i for i in Rdf.index if 'female' in i]\n",
    "Rindm=[i for i in Rdf.index if 'female' not in i]"
   ]
  },
  {
   "cell_type": "markdown",
   "id": "fc2241c5",
   "metadata": {},
   "source": [
    "Q2"
   ]
  },
  {
   "cell_type": "code",
   "execution_count": null,
   "id": "7728dc93",
   "metadata": {},
   "outputs": [],
   "source": [
    "#path='https://raw.githubusercontent.com/Annatkachev/StatLAB/refs/heads/main/StatSign_3/'\n",
    "path='/home/anna/PROJECTS2025/StatDatAnLAB/StatSign/'"
   ]
  },
  {
   "cell_type": "code",
   "execution_count": null,
   "id": "cc7eb8b8",
   "metadata": {},
   "outputs": [],
   "source": [
    "#original dataset\n",
    "df=pd.read_csv(path+'Q2_originaldataset.csv',index_col=0)\n",
    "\n",
    "#reproducibility dataset 1\n",
    "#Rdf=pd.read_csv(path+'Q2_reproducibility.csv',index_col=0)\n",
    "\n",
    "#reproducibility dataset 2\n",
    "#Rdf=pd.read_csv(path+'Q2_reproducibility_SCZ.csv',index_col=0)"
   ]
  },
  {
   "cell_type": "code",
   "execution_count": null,
   "id": "a620e8dc",
   "metadata": {},
   "outputs": [],
   "source": [
    "indf=[i for i in df.index if 'female' in i]\n",
    "indm=[i for i in df.index if 'female' not in i]\n",
    "\n",
    "Rindf=[i for i in Rdf.index if 'female' in i]\n",
    "Rindm=[i for i in Rdf.index if 'female' not in i]"
   ]
  },
  {
   "cell_type": "markdown",
   "id": "e37805e6",
   "metadata": {},
   "source": [
    "Q3"
   ]
  },
  {
   "attachments": {
    "image-2.png": {
     "image/png": "[encoded data removed]"
    }
   },
   "cell_type": "markdown",
   "id": "904807f1",
   "metadata": {},
   "source": [
    "![image-2.png](attachment:image-2.png)"
   ]
  },
  {
   "attachments": {
    "image.png": {
     "image/png": "[encoded data removed]"
    }
   },
   "cell_type": "markdown",
   "id": "41161478",
   "metadata": {},
   "source": [
    "![image.png](attachment:image.png)"
   ]
  },
  {
   "cell_type": "code",
   "execution_count": null,
   "id": "af20c152",
   "metadata": {},
   "outputs": [],
   "source": []
  }
 ],
 "metadata": {
  "kernelspec": {
   "display_name": "Python 3 (ipykernel)",
   "language": "python",
   "name": "python3"
  },
  "language_info": {
   "codemirror_mode": {
    "name": "ipython",
    "version": 3
   },
   "file_extension": ".py",
   "mimetype": "text/x-python",
   "name": "python",
   "nbconvert_exporter": "python",
   "pygments_lexer": "ipython3",
   "version": "3.7.3"
  }
 },
 "nbformat": 4,
 "nbformat_minor": 5
}
