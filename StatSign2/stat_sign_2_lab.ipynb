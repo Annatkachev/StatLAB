{
 "cells": [
  {
   "cell_type": "markdown",
   "id": "1747288f",
   "metadata": {},
   "source": [
    "## STAT SIGN 2"
   ]
  },
  {
   "cell_type": "markdown",
   "id": "06a548d2",
   "metadata": {},
   "source": [
    "    1. \n",
    "    Consider the two random variable presented below. For the different sample sizes below, calculate:\n",
    "    A. The p-values and t-statistics of the t-test, as well as the Cohen'd.\n",
    "    B. The p-values and u-statistics of the Mann-Whnitey U test, as well as the effect size as discussed during the seminar.\n",
    "    \n",
    "    Present your results in table or visual format for comparison between different sample sizes.\n",
    "    \n",
    "    (note: you might need additional packages to calculate the Cohen's or brute code the formula)\n",
    "    \n",
    "    2. \n",
    "    Consider the \"GaltonFamilies.csv\" dataset. Report the significance of the difference, as well as an effect size of your choice, for the following comparisons:\n",
    "    A. Difference in height between mothers and fathers\n",
    "    B. Difference in height between the first and second MALE child\n",
    "    \n",
    "    note: don't forget to remove duplicates before analysis.\n",
    "    \n",
    "    3. Chose two of the three papers presented below. What effect sizes do the authors report?"
   ]
  },
  {
   "cell_type": "code",
   "execution_count": 1,
   "id": "182b0c32",
   "metadata": {},
   "outputs": [],
   "source": [
    "import numpy as np\n",
    "import pandas as pd\n",
    "import matplotlib.pyplot as plt\n",
    "from pylab import rcParams\n",
    "import seaborn as sns\n",
    "\n",
    "\n",
    "\n",
    "from numpy.random import uniform\n",
    "from numpy.random import normal\n",
    "from numpy.random import exponential\n",
    "from numpy.random import lognormal\n",
    "\n",
    "from numpy.random import choice\n",
    "from numpy.random import permutation\n",
    "\n",
    "\n",
    "from scipy.stats import pearsonr\n",
    "from scipy.stats import spearmanr\n",
    "from scipy.stats import ttest_ind\n",
    "from scipy.stats import mannwhitneyu\n",
    "from scipy.stats import shapiro\n",
    "\n",
    "from statsmodels.sandbox.stats.multicomp import multipletests\n",
    "from sklearn.cluster import KMeans\n",
    "import seaborn as sns\n",
    "\n",
    "\n",
    "%matplotlib inline"
   ]
  },
  {
   "cell_type": "markdown",
   "id": "bce6ad2e",
   "metadata": {},
   "source": [
    "## question 1"
   ]
  },
  {
   "cell_type": "code",
   "execution_count": null,
   "id": "cb5bc760",
   "metadata": {},
   "outputs": [],
   "source": [
    "K1=5\n",
    "K2=10\n",
    "\n",
    "#K1=10\n",
    "#K2=20\n",
    "\n",
    "#K1=100\n",
    "#K2=200\n",
    "\n",
    "#K1=1000\n",
    "#K2=2000\n",
    "\n",
    "rand_var1=np.normal(20,2,K1)\n",
    "rand_var2=np.normal(22,2,K2)"
   ]
  },
  {
   "cell_type": "markdown",
   "id": "9a163130",
   "metadata": {},
   "source": [
    "## question 2"
   ]
  },
  {
   "cell_type": "code",
   "execution_count": 2,
   "id": "8ce4e677",
   "metadata": {},
   "outputs": [],
   "source": [
    "#path='https://raw.githubusercontent.com/Annatkachev/StatLAB/refs/heads/main/StatTest_3/'\n",
    "df=pd.read_csv(path+'GaltonFamilies.csv',index_col=0)"
   ]
  },
  {
   "cell_type": "markdown",
   "id": "9e50044c",
   "metadata": {},
   "source": [
    "## question 3"
   ]
  },
  {
   "cell_type": "markdown",
   "id": "eb671ac2",
   "metadata": {},
   "source": [
    "https://pmc.ncbi.nlm.nih.gov/articles/PMC10132975/"
   ]
  },
  {
   "cell_type": "markdown",
   "id": "68c989de",
   "metadata": {},
   "source": [
    "https://pmc.ncbi.nlm.nih.gov/articles/PMC10994902/"
   ]
  },
  {
   "cell_type": "markdown",
   "id": "89ebfacb",
   "metadata": {},
   "source": [
    "https://pmc.ncbi.nlm.nih.gov/articles/PMC11561234/"
   ]
  },
  {
   "cell_type": "code",
   "execution_count": null,
   "id": "3c5e9d87",
   "metadata": {},
   "outputs": [],
   "source": []
  },
  {
   "cell_type": "code",
   "execution_count": null,
   "id": "0349f040",
   "metadata": {},
   "outputs": [],
   "source": []
  }
 ],
 "metadata": {
  "kernelspec": {
   "display_name": "Python 3 (ipykernel)",
   "language": "python",
   "name": "python3"
  },
  "language_info": {
   "codemirror_mode": {
    "name": "ipython",
    "version": 3
   },
   "file_extension": ".py",
   "mimetype": "text/x-python",
   "name": "python",
   "nbconvert_exporter": "python",
   "pygments_lexer": "ipython3",
   "version": "3.7.3"
  }
 },
 "nbformat": 4,
 "nbformat_minor": 5
}
