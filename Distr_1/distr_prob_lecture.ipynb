{
 "cells": [
  {
   "cell_type": "code",
   "execution_count": 2,
   "id": "a13c3442",
   "metadata": {},
   "outputs": [],
   "source": [
    "import numpy as np\n",
    "import pandas as pd\n",
    "import matplotlib.pyplot as plt\n",
    "from pylab import rcParams\n",
    "import seaborn as sns\n",
    "\n",
    "\n",
    "\n",
    "from numpy.random import uniform\n",
    "from numpy.random import normal\n",
    "from numpy.random import exponential\n",
    "from numpy.random import lognormal\n",
    "\n",
    "from numpy.random import choice\n",
    "from numpy.random import permutation\n",
    "\n",
    "\n",
    "from scipy.stats import pearsonr\n",
    "from scipy.stats import spearmanr\n",
    "from scipy.stats import ttest_ind\n",
    "from statsmodels.sandbox.stats.multicomp import multipletests\n",
    "from sklearn.cluster import KMeans\n",
    "\n",
    "\n",
    "%matplotlib inline"
   ]
  },
  {
   "cell_type": "code",
   "execution_count": 3,
   "id": "0465cf94",
   "metadata": {},
   "outputs": [],
   "source": [
    "import matplotlib as PLT\n",
    "PLT.rcParams.update({'figure.max_open_warning': 0})\n",
    "PLT.rcParams.update({'font.size': 15})\n",
    "\n",
    "PLT.rcParams['axes.linewidth'] = 2\n",
    "\n",
    "PLT.rcParams['xtick.major.size'] = 3\n",
    "PLT.rcParams['xtick.major.width'] = 2\n",
    "\n",
    "PLT.rcParams['ytick.major.size'] = 3\n",
    "PLT.rcParams['ytick.major.width'] = 2"
   ]
  },
  {
   "cell_type": "code",
   "execution_count": 4,
   "id": "bc9e7617",
   "metadata": {},
   "outputs": [],
   "source": [
    "path='https://raw.githubusercontent.com/Annatkachev/StatLAB/refs/heads/main/Distr_1/'\n",
    "#path='/home/anna/PROJECTS2025/StatDatAnLAB/Distr/'"
   ]
  },
  {
   "cell_type": "markdown",
   "id": "bb922fe3",
   "metadata": {},
   "source": [
    "## generate and visualize distribution"
   ]
  },
  {
   "cell_type": "code",
   "execution_count": 51,
   "id": "c3ab8400",
   "metadata": {},
   "outputs": [
    {
     "data": {
      "image/png": "[encoded data removed]",
      "text/plain": [
       "<Figure size 216x144 with 1 Axes>"
      ]
     },
     "metadata": {
      "needs_background": "light"
     },
     "output_type": "display_data"
    },
    {
     "data": {
      "image/png": "[encoded data removed]",
      "text/plain": [
       "<Figure size 216x144 with 1 Axes>"
      ]
     },
     "metadata": {
      "needs_background": "light"
     },
     "output_type": "display_data"
    }
   ],
   "source": [
    "K=10\n",
    "\n",
    "#scatter plot\n",
    "################################################\n",
    "fig=plt.figure(figsize=(3,2))\n",
    "#random scatter for y axis\n",
    "norm=normal(0,0.1,K)\n",
    "    \n",
    "#example distributions    \n",
    "#rand_sample=uniform(0,1,K)\n",
    "#rand_sample=exponential(5,K)\n",
    "rand_sample=normal(0,1,K)\n",
    "plt.scatter(rand_sample,norm,s=10)\n",
    "    \n",
    "ax=plt.gca()\n",
    "ax.spines['top'].set_visible(False)\n",
    "ax.spines['right'].set_visible(False)\n",
    "plt.ylim([-1,1])\n",
    "plt.yticks([])\n",
    "    \n",
    "\n",
    "    \n",
    "#histogram\n",
    "################################################\n",
    "fig=plt.figure(figsize=(3,2))\n",
    "plt.hist(rand_sample)\n",
    "\n",
    "ax=plt.gca()\n",
    "ax.spines['top'].set_visible(False) \n",
    "ax.spines['left'].set_visible(False) \n",
    "ax.spines['right'].set_visible(False)\n",
    "plt.yticks([])\n",
    "plt.show()\n",
    "\n"
   ]
  },
  {
   "cell_type": "markdown",
   "id": "7ee4f08e",
   "metadata": {},
   "source": [
    "## LLN in visualization"
   ]
  },
  {
   "cell_type": "code",
   "execution_count": 18,
   "id": "9b74ab3b",
   "metadata": {},
   "outputs": [
    {
     "data": {
      "image/png": "[encoded data removed]",
      "text/plain": [
       "<Figure size 216x144 with 1 Axes>"
      ]
     },
     "metadata": {
      "needs_background": "light"
     },
     "output_type": "display_data"
    }
   ],
   "source": [
    "mmean=[]\n",
    "rand_sample=[]\n",
    "N=1000\n",
    "\n",
    "for K in np.arange(1,N):\n",
    "   \n",
    "    #tmp=uniform(0,1)\n",
    "    #tmp=normal(0,1)\n",
    "    tmp=exponential(5)\n",
    "    rand_sample.append(tmp)\n",
    "    mmean.append(np.mean(rand_sample))  \n",
    "\n",
    "    \n",
    "fig=plt.figure(figsize=(3,2))\n",
    "plt.plot(np.arange(1,N),mmean)\n",
    "ax=plt.gca()\n",
    "ax.spines['top'].set_visible(False)\n",
    "ax.spines['right'].set_visible(False)\n",
    "plt.xlabel('n')\n",
    "plt.show()\n",
    "    "
   ]
  },
  {
   "cell_type": "markdown",
   "id": "b869ba0c",
   "metadata": {},
   "source": [
    "## Visualization of log normal distribution generation, or CLT"
   ]
  },
  {
   "cell_type": "code",
   "execution_count": 63,
   "id": "f95836b4",
   "metadata": {},
   "outputs": [
    {
     "data": {
      "image/png": "[encoded data removed]",
      "text/plain": [
       "<Figure size 432x288 with 1 Axes>"
      ]
     },
     "metadata": {
      "needs_background": "light"
     },
     "output_type": "display_data"
    }
   ],
   "source": [
    "N=1000\n",
    "\n",
    "for K in [1,2,10,1000]:\n",
    "    \n",
    "    mean_rand_sample=pd.Series([],dtype=float)\n",
    "    for i in np.arange(0,N):\n",
    "        rand_sample=uniform(0,1,K)\n",
    "        \n",
    "        \n",
    "        \n",
    "        mean_rand_sample[i]=np.mean(rand_sample)\n",
    "    plt.hist(mean_rand_sample,bins=30,density=True);\n",
    "    ax=plt.gca()\n",
    "    ax.spines['top'].set_visible(False) \n",
    "    ax.spines['left'].set_visible(False) \n",
    "    ax.spines['right'].set_visible(False)\n",
    "    plt.title('K = '+str(K),fontsize=12)\n",
    "    plt.yticks([])\n",
    "    \n",
    "    M=np.mean(mean_rand_sample)\n",
    "    S=np.std(mean_rand_sample)\n",
    "    n,x=np.histogram(normal(M,S,100000),density=True,bins=100)\n",
    "    bin_centers = 0.5*(x[1:]+x[:-1])\n",
    "    plt.plot(bin_centers,n,color='purple',linewidth=3)\n",
    "    plt.show()"
   ]
  },
  {
   "cell_type": "markdown",
   "id": "6e6c93e8",
   "metadata": {},
   "source": [
    "## Visualization of log normal distribution generation"
   ]
  },
  {
   "cell_type": "code",
   "execution_count": 38,
   "id": "9d61928c",
   "metadata": {},
   "outputs": [
    {
     "data": {
      "image/png": "[encoded data removed]",
      "text/plain": [
       "<Figure size 216x144 with 1 Axes>"
      ]
     },
     "metadata": {
      "needs_background": "light"
     },
     "output_type": "display_data"
    },
    {
     "data": {
      "image/png": "[encoded data removed]",
      "text/plain": [
       "<Figure size 216x144 with 1 Axes>"
      ]
     },
     "metadata": {
      "needs_background": "light"
     },
     "output_type": "display_data"
    },
    {
     "data": {
      "image/png": "[encoded data removed]",
      "text/plain": [
       "<Figure size 216x144 with 1 Axes>"
      ]
     },
     "metadata": {
      "needs_background": "light"
     },
     "output_type": "display_data"
    },
    {
     "data": {
      "image/png": "[encoded data removed]",
      "text/plain": [
       "<Figure size 216x144 with 1 Axes>"
      ]
     },
     "metadata": {
      "needs_background": "light"
     },
     "output_type": "display_data"
    },
    {
     "data": {
      "image/png": "[encoded data removed]",
      "text/plain": [
       "<Figure size 216x144 with 1 Axes>"
      ]
     },
     "metadata": {
      "needs_background": "light"
     },
     "output_type": "display_data"
    },
    {
     "data": {
      "image/png": "[encoded data removed]",
      "text/plain": [
       "<Figure size 216x144 with 1 Axes>"
      ]
     },
     "metadata": {
      "needs_background": "light"
     },
     "output_type": "display_data"
    }
   ],
   "source": [
    "for K in [1,10,100]:\n",
    "\n",
    "    \n",
    "    mean_rand_sample=pd.Series([],dtype=float)\n",
    "    product_rand_sample=10\n",
    "    for i in np.arange(0,K):\n",
    "        x=uniform(1,0.05,1000)\n",
    "        #x=normal(1,0.1,1000)\n",
    "        product_rand_sample=product_rand_sample*x\n",
    "        \n",
    "        \n",
    "    fig=plt.figure(figsize=(3,2))    \n",
    "    plt.hist(product_rand_sample,bins=50,density=True);\n",
    "    ax=plt.gca()\n",
    "    ax.spines['top'].set_visible(False) \n",
    "    ax.spines['left'].set_visible(False) \n",
    "    ax.spines['right'].set_visible(False)\n",
    "    plt.title('K = '+str(K),fontsize=12)\n",
    "    plt.yticks([])  \n",
    "    plt.xlabel('X')\n",
    "    plt.show()\n",
    "    \n",
    "    \n",
    "    fig=plt.figure(figsize=(3,2))\n",
    "    plt.hist(np.log2(product_rand_sample),bins=50,density=True,color='hotpink');\n",
    "    \n",
    "    ax=plt.gca()\n",
    "    ax.spines['top'].set_visible(False) \n",
    "    ax.spines['left'].set_visible(False) \n",
    "    ax.spines['right'].set_visible(False)\n",
    "    plt.title('K = '+str(K),fontsize=12)\n",
    "    plt.yticks([])  \n",
    "    plt.xlabel('log2 X')\n",
    "    \n",
    "    M=np.mean(np.log2(product_rand_sample))\n",
    "    S=np.std(np.log2(product_rand_sample))\n",
    "    n,x=np.histogram(normal(M,S,100000),density=True,bins=100)\n",
    "    bin_centers = 0.5*(x[1:]+x[:-1])\n",
    "    plt.plot(bin_centers,n,color='purple',linewidth=3)\n",
    "    plt.show()"
   ]
  },
  {
   "cell_type": "markdown",
   "id": "3317315b",
   "metadata": {},
   "source": [
    "## Insulin dataset"
   ]
  },
  {
   "cell_type": "code",
   "execution_count": 55,
   "id": "b190bacf",
   "metadata": {},
   "outputs": [],
   "source": [
    "df=pd.read_csv(path+'diabetes.csv')\n",
    "var=df['Insulin'].copy()\n",
    "var[var==0]=np.nan"
   ]
  },
  {
   "cell_type": "code",
   "execution_count": 56,
   "id": "9fbc9810",
   "metadata": {},
   "outputs": [
    {
     "data": {
      "text/plain": [
       "([], [])"
      ]
     },
     "execution_count": 56,
     "metadata": {},
     "output_type": "execute_result"
    },
    {
     "data": {
      "image/png": "[encoded data removed]",
      "text/plain": [
       "<Figure size 288x216 with 1 Axes>"
      ]
     },
     "metadata": {
      "needs_background": "light"
     },
     "output_type": "display_data"
    }
   ],
   "source": [
    "fig=plt.figure(figsize=(4,3))\n",
    "plt.hist(var,bins=50,density=True);\n",
    "ax=plt.gca()\n",
    "ax.spines['top'].set_visible(False) \n",
    "ax.spines['right'].set_visible(False)\n",
    "plt.xlabel('Insulin levels')\n",
    "plt.yticks([])"
   ]
  },
  {
   "cell_type": "code",
   "execution_count": 44,
   "id": "12d8b3ff",
   "metadata": {},
   "outputs": [
    {
     "data": {
      "text/plain": [
       "([], [])"
      ]
     },
     "execution_count": 44,
     "metadata": {},
     "output_type": "execute_result"
    },
    {
     "data": {
      "image/png": "[encoded data removed]",
      "text/plain": [
       "<Figure size 288x216 with 1 Axes>"
      ]
     },
     "metadata": {
      "needs_background": "light"
     },
     "output_type": "display_data"
    }
   ],
   "source": [
    "fig=plt.figure(figsize=(4,3))\n",
    "plt.hist(np.log2(var),bins=50,density=True);\n",
    "ax=plt.gca()\n",
    "ax.spines['top'].set_visible(False) \n",
    "ax.spines['right'].set_visible(False)\n",
    "plt.xlabel('log2 Insulin levels')\n",
    "\n",
    "M=np.mean(np.log2(var))\n",
    "S=np.std(np.log2(var))\n",
    "n,x=np.histogram(normal(M,S,100000),density=True,bins=100)\n",
    "bin_centers = 0.5*(x[1:]+x[:-1])\n",
    "plt.plot(bin_centers,n,color='purple',linewidth=3)\n",
    "plt.yticks([])"
   ]
  },
  {
   "cell_type": "markdown",
   "id": "f36429db",
   "metadata": {},
   "source": [
    "## height dataset"
   ]
  },
  {
   "cell_type": "code",
   "execution_count": 47,
   "id": "c8bf21c2",
   "metadata": {},
   "outputs": [],
   "source": [
    "df=pd.read_csv(path+'SOCR-HeightWeight.csv',index_col=0)"
   ]
  },
  {
   "cell_type": "code",
   "execution_count": 48,
   "id": "fcc2ba82",
   "metadata": {},
   "outputs": [
    {
     "data": {
      "image/png": "[encoded data removed]",
      "text/plain": [
       "<Figure size 432x288 with 1 Axes>"
      ]
     },
     "metadata": {
      "needs_background": "light"
     },
     "output_type": "display_data"
    }
   ],
   "source": [
    "plt.hist(df['Height(Inches)'],bins=50,density=True);\n",
    "plt.xlabel('height(inches)')\n",
    "\n",
    "    \n",
    "n,x=np.histogram(normal(df['Height(Inches)'].mean(),df['Height(Inches)'].std(),200000),\n",
    "                 density=True,bins=100)\n",
    "bin_centers = 0.5*(x[1:]+x[:-1])\n",
    "plt.plot(bin_centers,n,color='purple',linewidth=2)\n",
    "plt.show()"
   ]
  },
  {
   "cell_type": "code",
   "execution_count": 5,
   "id": "befc77d0",
   "metadata": {},
   "outputs": [],
   "source": [
    "df=pd.read_csv('/home/anna/PROJECTS2025/StatDatAnLAB/Distr/Howell1.csv',sep=';')"
   ]
  },
  {
   "cell_type": "code",
   "execution_count": 55,
   "id": "fee123e0",
   "metadata": {},
   "outputs": [],
   "source": [
    "ind=df[(df['age']>20)&(df['male']==0)].index"
   ]
  },
  {
   "cell_type": "code",
   "execution_count": 60,
   "id": "cc33bbcd",
   "metadata": {},
   "outputs": [
    {
     "data": {
      "image/png": "[encoded data removed]",
      "text/plain": [
       "<Figure size 432x288 with 1 Axes>"
      ]
     },
     "metadata": {
      "needs_background": "light"
     },
     "output_type": "display_data"
    }
   ],
   "source": [
    "plt.hist(df.loc[ind,'height'],bins=20,density=True);\n",
    "plt.xlabel('height(cm)')\n",
    "\n",
    "    \n",
    "n,x=np.histogram(normal(df.loc[ind,'height'].mean(),df.loc[ind,'height'].std(),200000),\n",
    "                 density=True,bins=100)\n",
    "bin_centers = 0.5*(x[1:]+x[:-1])\n",
    "plt.plot(bin_centers,n,color='purple',linewidth=2)\n",
    "plt.yticks([])\n",
    "plt.show()"
   ]
  },
  {
   "cell_type": "code",
   "execution_count": null,
   "id": "3e53de38",
   "metadata": {},
   "outputs": [],
   "source": []
  },
  {
   "cell_type": "code",
   "execution_count": null,
   "id": "13266e3e",
   "metadata": {},
   "outputs": [],
   "source": []
  }
 ],
 "metadata": {
  "kernelspec": {
   "display_name": "Python 3 (ipykernel)",
   "language": "python",
   "name": "python3"
  },
  "language_info": {
   "codemirror_mode": {
    "name": "ipython",
    "version": 3
   },
   "file_extension": ".py",
   "mimetype": "text/x-python",
   "name": "python",
   "nbconvert_exporter": "python",
   "pygments_lexer": "ipython3",
   "version": "3.7.3"
  }
 },
 "nbformat": 4,
 "nbformat_minor": 5
}
