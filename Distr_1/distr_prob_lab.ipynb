{
 "cells": [
  {
   "cell_type": "markdown",
   "id": "b045c956",
   "metadata": {},
   "source": [
    "## LAB 1"
   ]
  },
  {
   "cell_type": "markdown",
   "id": "7f7a1246",
   "metadata": {},
   "source": [
    "1.\n",
    "\t\n",
    "    A.  Generate and visualize random samples from some normal, lognormal, and uniform distributions consisting of 5, 10, 50, 100 points. How much points would you consider enough to differentiate the shape of these distributions? \n",
    "\t\n",
    "    B.  From the height variable in the SOCR-HeightWeight.csv dataset, sample at random 10, 50, 100, 1000 data points. Visualizing these random subsets, how much data points would you consider sufficient to consider the underlying distribution to be normal?\n",
    "\n",
    "2.\n",
    "\t\n",
    "    A. From the code below that demonstrates the central limit theorem (CLT), explain the meaning of parameters N and K.\n",
    "\t\n",
    "    B. Similarly to the approach shown in the example for uniform distribution, demonstrate the CLT for average value of samples generated from an exponential distribution.\n",
    "\t\n",
    "    C. Consider a random sample generated as the ratio of two indepenent normally distributed values with mean 0 and variance 1 (shown in code below). Repeat the same approach as in B. Explain your results. Hint: consider CLT assumptions and example code below.\n",
    "\n",
    "3.\n",
    "\t\n",
    "    A. Consider the height variable in children.csv dataset. Would you consider the data to be normally distributed? Visualize your reasoning and explain the results. \n",
    "\t\n",
    "    B. BONUS question. Provide a different example of normally distributed variable in nature, with an example and visualization of specific data.\n",
    "    "
   ]
  },
  {
   "cell_type": "code",
   "execution_count": 93,
   "id": "17b1b194",
   "metadata": {},
   "outputs": [],
   "source": [
    "import numpy as np\n",
    "import pandas as pd\n",
    "import matplotlib.pyplot as plt\n",
    "from pylab import rcParams\n",
    "import seaborn as sns\n",
    "\n",
    "\n",
    "\n",
    "from numpy.random import uniform\n",
    "from numpy.random import normal\n",
    "from numpy.random import exponential\n",
    "from numpy.random import lognormal\n",
    "\n",
    "from numpy.random import choice\n",
    "from numpy.random import permutation\n",
    "\n",
    "%matplotlib inline"
   ]
  },
  {
   "cell_type": "markdown",
   "id": "16d55496",
   "metadata": {},
   "source": [
    "code demonstrating CLT (question 2A)"
   ]
  },
  {
   "cell_type": "code",
   "execution_count": 97,
   "id": "16f84eb2",
   "metadata": {},
   "outputs": [
    {
     "data": {
      "image/png": "[encoded data removed]",
      "text/plain": [
       "<Figure size 288x216 with 1 Axes>"
      ]
     },
     "metadata": {
      "needs_background": "light"
     },
     "output_type": "display_data"
    },
    {
     "data": {
      "image/png": "[encoded data removed]",
      "text/plain": [
       "<Figure size 288x216 with 1 Axes>"
      ]
     },
     "metadata": {
      "needs_background": "light"
     },
     "output_type": "display_data"
    },
    {
     "data": {
      "image/png": "[encoded data removed]",
      "text/plain": [
       "<Figure size 288x216 with 1 Axes>"
      ]
     },
     "metadata": {
      "needs_background": "light"
     },
     "output_type": "display_data"
    },
    {
     "data": {
      "image/png": "[encoded data removed]",
      "text/plain": [
       "<Figure size 288x216 with 1 Axes>"
      ]
     },
     "metadata": {
      "needs_background": "light"
     },
     "output_type": "display_data"
    }
   ],
   "source": [
    "N=1000\n",
    "\n",
    "for K in [1,2,10,1000]:\n",
    "    fig=plt.figure(figsize=(4,3))\n",
    "    mean_rand_sample=pd.Series([],dtype=float)\n",
    "    for i in np.arange(0,N):\n",
    "        rand_sample=uniform(0,1,K)\n",
    "        mean_rand_sample[i]=np.mean(rand_sample)\n",
    "    plt.hist(mean_rand_sample,bins=30,density=True);\n",
    "    plt.show()"
   ]
  },
  {
   "cell_type": "markdown",
   "id": "cb61390b",
   "metadata": {},
   "source": [
    "random sample for question 2C"
   ]
  },
  {
   "cell_type": "code",
   "execution_count": 98,
   "id": "9e04af90",
   "metadata": {},
   "outputs": [],
   "source": [
    "for K in [1,2,10,1000]:\n",
    "\n",
    "    x=normal(0,1,K)\n",
    "    y=normal(0,1,K)\n",
    "    rand_sample=x/y"
   ]
  },
  {
   "cell_type": "markdown",
   "id": "17bd4de1",
   "metadata": {},
   "source": [
    " hint for question 2C"
   ]
  },
  {
   "cell_type": "code",
   "execution_count": 128,
   "id": "c3457c05",
   "metadata": {},
   "outputs": [
    {
     "data": {
      "text/plain": [
       "Text(0, 0.5, 'mean of sample')"
      ]
     },
     "execution_count": 128,
     "metadata": {},
     "output_type": "execute_result"
    },
    {
     "data": {
      "image/png": "[encoded data removed]",
      "text/plain": [
       "<Figure size 216x144 with 1 Axes>"
      ]
     },
     "metadata": {
      "needs_background": "light"
     },
     "output_type": "display_data"
    }
   ],
   "source": [
    "mmean=[]\n",
    "N=1000\n",
    "\n",
    "for K in np.arange(1,N):\n",
    "\n",
    "    x=normal(0,1,K)\n",
    "    y=normal(0,1,K)\n",
    "    rand_sample=x/y\n",
    "    mmean.append(np.mean(rand_sample))  \n",
    "\n",
    "    \n",
    "fig=plt.figure(figsize=(3,2))\n",
    "plt.plot(np.arange(1,N),mmean)\n",
    "plt.xlabel('N')\n",
    "plt.ylabel('mean of sample')\n",
    "#plt.ylim([-20,20])\n"
   ]
  }
 ],
 "metadata": {
  "kernelspec": {
   "display_name": "Python 3 (ipykernel)",
   "language": "python",
   "name": "python3"
  },
  "language_info": {
   "codemirror_mode": {
    "name": "ipython",
    "version": 3
   },
   "file_extension": ".py",
   "mimetype": "text/x-python",
   "name": "python",
   "nbconvert_exporter": "python",
   "pygments_lexer": "ipython3",
   "version": "3.7.3"
  }
 },
 "nbformat": 4,
 "nbformat_minor": 5
}
