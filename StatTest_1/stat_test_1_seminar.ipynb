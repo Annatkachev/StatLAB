{
 "cells": [
  {
   "cell_type": "code",
   "execution_count": 5,
   "id": "e73f7778",
   "metadata": {},
   "outputs": [],
   "source": [
    "import numpy as np\n",
    "import pandas as pd\n",
    "import matplotlib.pyplot as plt\n",
    "from pylab import rcParams\n",
    "import seaborn as sns\n",
    "\n",
    "\n",
    "\n",
    "from numpy.random import uniform\n",
    "from numpy.random import normal\n",
    "from numpy.random import exponential\n",
    "from numpy.random import lognormal\n",
    "\n",
    "from numpy.random import choice\n",
    "from numpy.random import permutation\n",
    "\n",
    "\n",
    "from scipy.stats import pearsonr\n",
    "from scipy.stats import spearmanr\n",
    "from scipy.stats import ttest_ind\n",
    "from scipy.stats import mannwhitneyu\n",
    "from scipy.stats import shapiro\n",
    "\n",
    "from statsmodels.sandbox.stats.multicomp import multipletests\n",
    "from sklearn.cluster import KMeans\n",
    "\n",
    "\n",
    "%matplotlib inline"
   ]
  },
  {
   "cell_type": "code",
   "execution_count": 6,
   "id": "bdd315b4",
   "metadata": {},
   "outputs": [],
   "source": [
    "import matplotlib as PLT\n",
    "PLT.rcParams.update({'figure.max_open_warning': 0})\n",
    "PLT.rcParams.update({'font.size': 15})\n",
    "\n",
    "PLT.rcParams['axes.linewidth'] = 2\n",
    "\n",
    "PLT.rcParams['xtick.major.size'] = 3\n",
    "PLT.rcParams['xtick.major.width'] = 2\n",
    "\n",
    "PLT.rcParams['ytick.major.size'] = 3\n",
    "PLT.rcParams['ytick.major.width'] = 2"
   ]
  },
  {
   "cell_type": "code",
   "execution_count": 7,
   "id": "471f8977",
   "metadata": {},
   "outputs": [],
   "source": [
    "def makeTWOscatters(rand_sample1, rand_sample2):\n",
    "    fig, (ax1,ax2)=plt.subplots(2,1,figsize=(4,4),sharex=True)\n",
    "    #random scatter for y axis\n",
    "    norm=normal(0,0.1,len(rand_sample1))\n",
    "    ax1.scatter(rand_sample1,norm,s=15)\n",
    "    ax1.spines['top'].set_visible(False)\n",
    "    ax1.spines['right'].set_visible(False)\n",
    "    ax1.set_ylim([-1,1])\n",
    "    \n",
    "    ax1.plot([np.mean(rand_sample1),np.mean(rand_sample1)],[-0.35,0.35],color='black',linestyle='--')\n",
    "    ax1.plot([np.mean(rand_sample1)-np.std(rand_sample1), np.mean(rand_sample1)+np.std(rand_sample1)],\n",
    "             [-0.75,-0.75],\n",
    "            color='hotpink',linewidth=2,linestyle='--')      \n",
    "    ax1.set_yticks([])\n",
    "    \n",
    "    \n",
    "    norm=normal(0,0.1,len(rand_sample2))\n",
    "    ax2.scatter(rand_sample2,norm,s=15,color='teal')\n",
    "    ax2.spines['top'].set_visible(False)\n",
    "    ax2.spines['right'].set_visible(False)\n",
    "    ax2.set_ylim([-1,1])\n",
    "    \n",
    "    ax2.plot([np.mean(rand_sample2),np.mean(rand_sample2)],[-0.35,0.35],color='black',linestyle='--')\n",
    "    ax2.plot([np.mean(rand_sample2)-np.std(rand_sample2), np.mean(rand_sample2)+np.std(rand_sample2)],\n",
    "             [-0.75,-0.75],\n",
    "            color='hotpink',linewidth=2,linestyle='--')      \n",
    "    ax2.set_yticks([])"
   ]
  },
  {
   "cell_type": "markdown",
   "id": "21083c63",
   "metadata": {},
   "source": [
    "## t-test"
   ]
  },
  {
   "cell_type": "code",
   "execution_count": 8,
   "id": "d17e61ae",
   "metadata": {},
   "outputs": [],
   "source": [
    "K=20\n",
    "tmp1=normal(10,1,K)\n",
    "\n",
    "\n",
    "K=20\n",
    "tmp2=normal(11,1,K)\n"
   ]
  },
  {
   "cell_type": "code",
   "execution_count": 9,
   "id": "7eb562e2",
   "metadata": {},
   "outputs": [
    {
     "data": {
      "image/png": "[encoded data removed]",
      "text/plain": [
       "<Figure size 288x288 with 2 Axes>"
      ]
     },
     "metadata": {
      "needs_background": "light"
     },
     "output_type": "display_data"
    }
   ],
   "source": [
    "rand_sample1=tmp1\n",
    "rand_sample2=tmp2\n",
    "makeTWOscatters(rand_sample1, rand_sample2)"
   ]
  },
  {
   "cell_type": "code",
   "execution_count": 156,
   "id": "bd0e60f9",
   "metadata": {},
   "outputs": [],
   "source": [
    "ttest_ind(rand_sample1, rand_sample2,equal_var=False)"
   ]
  },
  {
   "cell_type": "code",
   "execution_count": 11,
   "id": "905a0633",
   "metadata": {},
   "outputs": [],
   "source": [
    "###"
   ]
  },
  {
   "cell_type": "code",
   "execution_count": 12,
   "id": "552b2340",
   "metadata": {},
   "outputs": [],
   "source": [
    "#rand_sample1=tmp1\n",
    "#rand_sample2=tmp2"
   ]
  },
  {
   "cell_type": "code",
   "execution_count": 13,
   "id": "644edf5f",
   "metadata": {},
   "outputs": [],
   "source": [
    "#rand_sample1=tmp1\n",
    "#rand_sample2=tmp2+1"
   ]
  },
  {
   "cell_type": "code",
   "execution_count": 14,
   "id": "cb896c39",
   "metadata": {},
   "outputs": [],
   "source": [
    "#rand_sample1=2*(tmp1-tmp1.mean())+tmp1.mean()\n",
    "#rand_sample2=tmp2"
   ]
  },
  {
   "cell_type": "code",
   "execution_count": 15,
   "id": "9abf132e",
   "metadata": {},
   "outputs": [],
   "source": [
    "#rand_sample1=2*tmp1\n",
    "#rand_sample2=2*tmp2"
   ]
  },
  {
   "cell_type": "code",
   "execution_count": 16,
   "id": "180e0d25",
   "metadata": {},
   "outputs": [],
   "source": [
    "#rand_sample1=choice(tmp1,10,replace=False)\n",
    "#rand_sample2=choice(tmp2,10,replace=False)"
   ]
  },
  {
   "cell_type": "code",
   "execution_count": 17,
   "id": "5a2d9f01",
   "metadata": {},
   "outputs": [
    {
     "data": {
      "image/png": "[encoded data removed]",
      "text/plain": [
       "<Figure size 288x288 with 2 Axes>"
      ]
     },
     "metadata": {
      "needs_background": "light"
     },
     "output_type": "display_data"
    }
   ],
   "source": [
    "\n",
    "makeTWOscatters(rand_sample1, rand_sample2)"
   ]
  },
  {
   "cell_type": "code",
   "execution_count": 107,
   "id": "5650d51a",
   "metadata": {},
   "outputs": [],
   "source": [
    "ttest_ind(rand_sample1, rand_sample2,equal_var=False)"
   ]
  },
  {
   "cell_type": "markdown",
   "id": "1c829ff0",
   "metadata": {},
   "source": [
    "## different sample sizes"
   ]
  },
  {
   "cell_type": "code",
   "execution_count": 19,
   "id": "a5b73f34",
   "metadata": {},
   "outputs": [],
   "source": [
    "\n",
    "#K=20\n",
    "K=1000\n",
    "tmp1=normal(10,3,K)\n",
    "\n",
    "\n",
    "#K=20\n",
    "K=1000\n",
    "tmp2=normal(11,3,K)"
   ]
  },
  {
   "cell_type": "code",
   "execution_count": 20,
   "id": "19012a02",
   "metadata": {},
   "outputs": [
    {
     "data": {
      "image/png": "[encoded data removed]",
      "text/plain": [
       "<Figure size 288x288 with 2 Axes>"
      ]
     },
     "metadata": {
      "needs_background": "light"
     },
     "output_type": "display_data"
    }
   ],
   "source": [
    "rand_sample1=tmp1\n",
    "rand_sample2=tmp2\n",
    "makeTWOscatters(rand_sample1, rand_sample2)"
   ]
  },
  {
   "cell_type": "code",
   "execution_count": 108,
   "id": "86b6e158",
   "metadata": {},
   "outputs": [],
   "source": [
    "ttest_ind(rand_sample1, rand_sample2,equal_var=False)"
   ]
  },
  {
   "cell_type": "code",
   "execution_count": 22,
   "id": "85b48a67",
   "metadata": {},
   "outputs": [],
   "source": [
    "\n",
    "K=10\n",
    "#tmp1=normal(10,3,K)\n",
    "tmp1=normal(10,0.5,K)\n",
    "\n",
    "\n",
    "K=10\n",
    "#tmp2=normal(11,3,K)\n",
    "tmp2=normal(11,0.5,K)"
   ]
  },
  {
   "cell_type": "code",
   "execution_count": 23,
   "id": "11190ebb",
   "metadata": {},
   "outputs": [
    {
     "data": {
      "image/png": "[encoded data removed]",
      "text/plain": [
       "<Figure size 288x288 with 2 Axes>"
      ]
     },
     "metadata": {
      "needs_background": "light"
     },
     "output_type": "display_data"
    }
   ],
   "source": [
    "rand_sample1=tmp1\n",
    "rand_sample2=tmp2\n",
    "makeTWOscatters(rand_sample1, rand_sample2)"
   ]
  },
  {
   "cell_type": "code",
   "execution_count": 109,
   "id": "ec1f468a",
   "metadata": {},
   "outputs": [],
   "source": [
    "ttest_ind(rand_sample1, rand_sample2,equal_var=False)"
   ]
  },
  {
   "cell_type": "markdown",
   "id": "8795d5f8",
   "metadata": {},
   "source": [
    "## same mean"
   ]
  },
  {
   "cell_type": "code",
   "execution_count": 25,
   "id": "a5f94bc0",
   "metadata": {},
   "outputs": [],
   "source": [
    "\n",
    "K=20\n",
    "tmp1=normal(10,1,K)\n",
    "\n",
    "K=20\n",
    "tmp2=normal(10,1,K)"
   ]
  },
  {
   "cell_type": "code",
   "execution_count": 26,
   "id": "e9e98a3d",
   "metadata": {},
   "outputs": [
    {
     "data": {
      "image/png": "[encoded data removed]",
      "text/plain": [
       "<Figure size 288x288 with 2 Axes>"
      ]
     },
     "metadata": {
      "needs_background": "light"
     },
     "output_type": "display_data"
    }
   ],
   "source": [
    "rand_sample1=tmp1\n",
    "rand_sample2=tmp2\n",
    "makeTWOscatters(rand_sample1, rand_sample2)"
   ]
  },
  {
   "cell_type": "code",
   "execution_count": 110,
   "id": "655d6f55",
   "metadata": {},
   "outputs": [],
   "source": [
    "ttest_ind(rand_sample1, rand_sample2,equal_var=False)"
   ]
  },
  {
   "cell_type": "code",
   "execution_count": 28,
   "id": "2e55e1a3",
   "metadata": {},
   "outputs": [],
   "source": [
    "k=20\n",
    "pv=[]\n",
    "\n",
    "for i in np.arange(0,100):\n",
    "    rand_sample1=normal(10,1,K)\n",
    "    rand_sample2=normal(10,1,K)\n",
    "    \n",
    "    pv.append(ttest_ind(rand_sample1, rand_sample2,equal_var=False)[1])\n",
    "pv=np.array(pv)"
   ]
  },
  {
   "cell_type": "code",
   "execution_count": 29,
   "id": "2a472e46",
   "metadata": {},
   "outputs": [],
   "source": [
    "#pv[pv<0.05]"
   ]
  },
  {
   "cell_type": "code",
   "execution_count": 30,
   "id": "73395db3",
   "metadata": {},
   "outputs": [],
   "source": [
    "#hist"
   ]
  },
  {
   "cell_type": "markdown",
   "id": "8f05124c",
   "metadata": {},
   "source": [
    "## Mann-Whitney test"
   ]
  },
  {
   "cell_type": "code",
   "execution_count": 31,
   "id": "f83fde3a",
   "metadata": {},
   "outputs": [],
   "source": [
    "K=20\n",
    "tmp1=normal(10,1,K)\n",
    "\n",
    "\n",
    "K=20\n",
    "tmp2=normal(11,1,K)\n"
   ]
  },
  {
   "cell_type": "code",
   "execution_count": 32,
   "id": "668ca6d1",
   "metadata": {},
   "outputs": [
    {
     "data": {
      "image/png": "[encoded data removed]",
      "text/plain": [
       "<Figure size 288x288 with 2 Axes>"
      ]
     },
     "metadata": {
      "needs_background": "light"
     },
     "output_type": "display_data"
    }
   ],
   "source": [
    "rand_sample1=tmp1\n",
    "rand_sample2=tmp2\n",
    "makeTWOscatters(rand_sample1, rand_sample2)"
   ]
  },
  {
   "cell_type": "code",
   "execution_count": 111,
   "id": "92778488",
   "metadata": {},
   "outputs": [],
   "source": [
    "ttest_ind(rand_sample1, rand_sample2,equal_var=False)"
   ]
  },
  {
   "cell_type": "code",
   "execution_count": 112,
   "id": "41d84480",
   "metadata": {},
   "outputs": [],
   "source": [
    "mannwhitneyu(rand_sample1, rand_sample2,method='exact')"
   ]
  },
  {
   "cell_type": "markdown",
   "id": "2afb14a9",
   "metadata": {},
   "source": [
    "## add outliers"
   ]
  },
  {
   "cell_type": "code",
   "execution_count": 35,
   "id": "a0895287",
   "metadata": {},
   "outputs": [],
   "source": [
    "rand_sample1=list(tmp1)+[14,16,17]\n",
    "rand_sample2=list(tmp2)"
   ]
  },
  {
   "cell_type": "code",
   "execution_count": 36,
   "id": "14dff26f",
   "metadata": {},
   "outputs": [
    {
     "data": {
      "image/png": "[encoded data removed]",
      "text/plain": [
       "<Figure size 288x288 with 2 Axes>"
      ]
     },
     "metadata": {
      "needs_background": "light"
     },
     "output_type": "display_data"
    }
   ],
   "source": [
    "makeTWOscatters(rand_sample1, rand_sample2)"
   ]
  },
  {
   "cell_type": "code",
   "execution_count": 113,
   "id": "6ceec560",
   "metadata": {},
   "outputs": [],
   "source": [
    "ttest_ind(rand_sample1, rand_sample2,equal_var=False)"
   ]
  },
  {
   "cell_type": "code",
   "execution_count": 114,
   "id": "37578353",
   "metadata": {},
   "outputs": [],
   "source": [
    "mannwhitneyu(rand_sample1, rand_sample2,method='exact')"
   ]
  },
  {
   "cell_type": "markdown",
   "id": "09f870e1",
   "metadata": {},
   "source": [
    "## log normal"
   ]
  },
  {
   "cell_type": "code",
   "execution_count": 39,
   "id": "c2bdaf0f",
   "metadata": {},
   "outputs": [],
   "source": [
    "K=20\n",
    "tmp1=normal(30,3,K)\n",
    "tmp1=2**tmp1\n",
    "\n",
    "\n",
    "K=20\n",
    "tmp2=normal(33,3,K)\n",
    "tmp2=2**tmp2"
   ]
  },
  {
   "cell_type": "code",
   "execution_count": 40,
   "id": "c4fb7867",
   "metadata": {},
   "outputs": [
    {
     "data": {
      "image/png": "[encoded data removed]",
      "text/plain": [
       "<Figure size 288x288 with 2 Axes>"
      ]
     },
     "metadata": {
      "needs_background": "light"
     },
     "output_type": "display_data"
    }
   ],
   "source": [
    "rand_sample1=tmp1\n",
    "rand_sample2=tmp2\n",
    "makeTWOscatters(rand_sample1, rand_sample2)"
   ]
  },
  {
   "cell_type": "code",
   "execution_count": 115,
   "id": "e2b73978",
   "metadata": {},
   "outputs": [],
   "source": [
    "ttest_ind(rand_sample1, rand_sample2,equal_var=False)"
   ]
  },
  {
   "cell_type": "code",
   "execution_count": 116,
   "id": "eb2a3b40",
   "metadata": {},
   "outputs": [],
   "source": [
    "mannwhitneyu(rand_sample1, rand_sample2,method='exact')"
   ]
  },
  {
   "cell_type": "code",
   "execution_count": 43,
   "id": "a0efcee3",
   "metadata": {},
   "outputs": [
    {
     "data": {
      "image/png": "[encoded data removed]",
      "text/plain": [
       "<Figure size 288x288 with 2 Axes>"
      ]
     },
     "metadata": {
      "needs_background": "light"
     },
     "output_type": "display_data"
    }
   ],
   "source": [
    "rand_sample1=np.log2(tmp1)\n",
    "rand_sample2=np.log2(tmp2)\n",
    "makeTWOscatters(rand_sample1, rand_sample2)"
   ]
  },
  {
   "cell_type": "code",
   "execution_count": 117,
   "id": "6b59e158",
   "metadata": {},
   "outputs": [],
   "source": [
    "ttest_ind(rand_sample1, rand_sample2,equal_var=False)"
   ]
  },
  {
   "cell_type": "code",
   "execution_count": 118,
   "id": "21d3e4c8",
   "metadata": {},
   "outputs": [],
   "source": [
    "mannwhitneyu(rand_sample1, rand_sample2,method='exact')"
   ]
  },
  {
   "cell_type": "markdown",
   "id": "5b0366fc",
   "metadata": {},
   "source": [
    "## correlation test"
   ]
  },
  {
   "cell_type": "code",
   "execution_count": 75,
   "id": "3ace4092",
   "metadata": {},
   "outputs": [],
   "source": [
    "K=100\n",
    "\n",
    "#noise=normal(0,2,K)\n",
    "noise=normal(0,1,K)\n",
    "#noise=normal(0,0.2,K)\n",
    "\n",
    "tmp1=normal(10,1,K)\n",
    "tmp2=tmp1+noise\n",
    "\n",
    "RS=pd.DataFrame()\n",
    "RS[1]=tmp1\n",
    "RS[2]=tmp2"
   ]
  },
  {
   "cell_type": "code",
   "execution_count": 76,
   "id": "46f205ba",
   "metadata": {},
   "outputs": [],
   "source": [
    "#noise"
   ]
  },
  {
   "cell_type": "code",
   "execution_count": 77,
   "id": "93a4e785",
   "metadata": {},
   "outputs": [],
   "source": [
    "rand_sample1=RS[1]\n",
    "rand_sample2=RS[2]"
   ]
  },
  {
   "cell_type": "code",
   "execution_count": 78,
   "id": "93b52a3d",
   "metadata": {},
   "outputs": [
    {
     "data": {
      "image/png": "[encoded data removed]",
      "text/plain": [
       "<Figure size 432x288 with 1 Axes>"
      ]
     },
     "metadata": {
      "needs_background": "light"
     },
     "output_type": "display_data"
    }
   ],
   "source": [
    "plt.scatter(rand_sample1,rand_sample2)\n",
    "plt.xlabel('var1');\n",
    "plt.ylabel('var2');"
   ]
  },
  {
   "cell_type": "code",
   "execution_count": 119,
   "id": "a1d609f5",
   "metadata": {},
   "outputs": [],
   "source": [
    "pearsonr(np.log2(rand_sample1), np.log2(rand_sample2))"
   ]
  },
  {
   "cell_type": "code",
   "execution_count": 80,
   "id": "731ccb81",
   "metadata": {},
   "outputs": [],
   "source": [
    "ind=choice(RS.index,10,replace=False)"
   ]
  },
  {
   "cell_type": "code",
   "execution_count": 81,
   "id": "c35a809a",
   "metadata": {},
   "outputs": [],
   "source": [
    "rand_sample1=RS.loc[ind,1]\n",
    "rand_sample2=RS.loc[ind,2]"
   ]
  },
  {
   "cell_type": "code",
   "execution_count": 82,
   "id": "4d913934",
   "metadata": {},
   "outputs": [
    {
     "data": {
      "image/png": "[encoded data removed]",
      "text/plain": [
       "<Figure size 432x288 with 1 Axes>"
      ]
     },
     "metadata": {
      "needs_background": "light"
     },
     "output_type": "display_data"
    }
   ],
   "source": [
    "plt.scatter(rand_sample1,rand_sample2)\n",
    "plt.xlabel('var1');\n",
    "plt.ylabel('var2');"
   ]
  },
  {
   "cell_type": "code",
   "execution_count": 120,
   "id": "368b7355",
   "metadata": {},
   "outputs": [],
   "source": [
    "pearsonr(np.log2(rand_sample1), np.log2(rand_sample2))"
   ]
  },
  {
   "cell_type": "markdown",
   "id": "df0e9460",
   "metadata": {},
   "source": [
    "## real world case"
   ]
  },
  {
   "cell_type": "code",
   "execution_count": 121,
   "id": "e9c63aab",
   "metadata": {},
   "outputs": [],
   "source": [
    "path='/home/anna/PROJECTS2025/StatDatAnLAB/Distr/'"
   ]
  },
  {
   "cell_type": "code",
   "execution_count": 122,
   "id": "5c55faea",
   "metadata": {},
   "outputs": [],
   "source": [
    "df=pd.read_csv(path+'diabetes.csv')\n",
    "df.loc[df['Insulin']==0,'Insulin']=np.nan\n",
    "df.loc[df['Glucose']==0,'Glucose']=np.nan\n",
    "\n",
    "df=df.dropna(subset=['Insulin', 'Glucose'])"
   ]
  },
  {
   "cell_type": "code",
   "execution_count": 123,
   "id": "a985e370",
   "metadata": {},
   "outputs": [],
   "source": [
    "ind_hasdiabetes=df[df['Outcome']==1].index\n",
    "ind_nodiabetes=df[df['Outcome']==0].index"
   ]
  },
  {
   "cell_type": "code",
   "execution_count": 124,
   "id": "f20a8b0d",
   "metadata": {},
   "outputs": [
    {
     "data": {
      "text/plain": [
       "Text(0, 0.5, 'Insulin')"
      ]
     },
     "execution_count": 124,
     "metadata": {},
     "output_type": "execute_result"
    },
    {
     "data": {
      "image/png": "[encoded data removed]",
      "text/plain": [
       "<Figure size 432x288 with 1 Axes>"
      ]
     },
     "metadata": {
      "needs_background": "light"
     },
     "output_type": "display_data"
    }
   ],
   "source": [
    "plt.scatter(df['Glucose'], df['Insulin'])\n",
    "plt.xlabel('Glucose')\n",
    "plt.ylabel('Insulin')"
   ]
  },
  {
   "cell_type": "code",
   "execution_count": 125,
   "id": "adb16104",
   "metadata": {},
   "outputs": [
    {
     "data": {
      "text/plain": [
       "Text(0, 0.5, 'log2 Insulin')"
      ]
     },
     "execution_count": 125,
     "metadata": {},
     "output_type": "execute_result"
    },
    {
     "data": {
      "image/png": "[encoded data removed]",
      "text/plain": [
       "<Figure size 432x288 with 1 Axes>"
      ]
     },
     "metadata": {
      "needs_background": "light"
     },
     "output_type": "display_data"
    }
   ],
   "source": [
    "plt.scatter(np.log2(df['Glucose']), np.log2(df['Insulin']))\n",
    "plt.xlabel('log2 Glucose')\n",
    "plt.ylabel('log2 Insulin')"
   ]
  },
  {
   "cell_type": "code",
   "execution_count": 130,
   "id": "e3d13f4a",
   "metadata": {},
   "outputs": [],
   "source": [
    "pearsonr(np.log2(df.loc[:,'Glucose']), np.log2(df.loc[:,'Insulin']))"
   ]
  },
  {
   "cell_type": "code",
   "execution_count": 131,
   "id": "bd4fa2f5",
   "metadata": {},
   "outputs": [],
   "source": [
    "pearsonr(np.log2(df.loc[ind_hasdiabetes,'Glucose']), np.log2(df.loc[ind_hasdiabetes,'Insulin']))"
   ]
  },
  {
   "cell_type": "code",
   "execution_count": 129,
   "id": "6ed07ad2",
   "metadata": {},
   "outputs": [
    {
     "data": {
      "text/plain": [
       "Text(0, 0.5, 'log2 Insulin')"
      ]
     },
     "execution_count": 129,
     "metadata": {},
     "output_type": "execute_result"
    },
    {
     "data": {
      "image/png": "[encoded data removed]",
      "text/plain": [
       "<Figure size 432x288 with 1 Axes>"
      ]
     },
     "metadata": {
      "needs_background": "light"
     },
     "output_type": "display_data"
    }
   ],
   "source": [
    "plt.scatter(np.log2(df.loc[ind_nodiabetes,'Glucose']), np.log2(df.loc[ind_nodiabetes,'Insulin']),color='blue')\n",
    "plt.scatter(np.log2(df.loc[ind_hasdiabetes,'Glucose']), np.log2(df.loc[ind_hasdiabetes,'Insulin']),color='red')\n",
    "plt.xlabel('log2 Glucose')\n",
    "plt.ylabel('log2 Insulin')"
   ]
  },
  {
   "cell_type": "markdown",
   "id": "cdd23c2a",
   "metadata": {},
   "source": [
    "## log normal data"
   ]
  },
  {
   "cell_type": "code",
   "execution_count": 132,
   "id": "c5fdaaf3",
   "metadata": {},
   "outputs": [],
   "source": [
    "K=20\n",
    "\n",
    "noise=normal(0,1,K)\n",
    "\n",
    "tmp1=normal(10,1,K)\n",
    "#tmp1=normal(10,2,K)\n",
    "tmp2=tmp1+noise\n",
    "\n",
    "\n",
    "rand_sample1=2**tmp1\n",
    "rand_sample2=2**tmp2"
   ]
  },
  {
   "cell_type": "code",
   "execution_count": 133,
   "id": "b50ad6c0",
   "metadata": {},
   "outputs": [
    {
     "data": {
      "image/png": "[encoded data removed]",
      "text/plain": [
       "<Figure size 432x288 with 1 Axes>"
      ]
     },
     "metadata": {
      "needs_background": "light"
     },
     "output_type": "display_data"
    },
    {
     "data": {
      "image/png": "[encoded data removed]",
      "text/plain": [
       "<Figure size 432x288 with 1 Axes>"
      ]
     },
     "metadata": {
      "needs_background": "light"
     },
     "output_type": "display_data"
    }
   ],
   "source": [
    "plt.hist(rand_sample1);\n",
    "plt.show()\n",
    "plt.hist(rand_sample2);"
   ]
  },
  {
   "cell_type": "code",
   "execution_count": 134,
   "id": "8ce333e2",
   "metadata": {},
   "outputs": [
    {
     "data": {
      "text/plain": [
       "Text(0, 0.5, 'var 2')"
      ]
     },
     "execution_count": 134,
     "metadata": {},
     "output_type": "execute_result"
    },
    {
     "data": {
      "image/png": "[encoded data removed]",
      "text/plain": [
       "<Figure size 432x288 with 1 Axes>"
      ]
     },
     "metadata": {
      "needs_background": "light"
     },
     "output_type": "display_data"
    }
   ],
   "source": [
    "plt.scatter(rand_sample1, rand_sample2)\n",
    "plt.xlabel('var 1')\n",
    "plt.ylabel('var 2')"
   ]
  },
  {
   "cell_type": "code",
   "execution_count": 149,
   "id": "b4d835a9",
   "metadata": {},
   "outputs": [],
   "source": [
    "pearsonr(rand_sample1, rand_sample2)"
   ]
  },
  {
   "cell_type": "code",
   "execution_count": 150,
   "id": "0fe748ac",
   "metadata": {},
   "outputs": [],
   "source": [
    "spearmanr(rand_sample1, rand_sample2)"
   ]
  },
  {
   "cell_type": "code",
   "execution_count": 137,
   "id": "b55ecace",
   "metadata": {},
   "outputs": [
    {
     "data": {
      "text/plain": [
       "Text(0, 0.5, 'log2 var 2')"
      ]
     },
     "execution_count": 137,
     "metadata": {},
     "output_type": "execute_result"
    },
    {
     "data": {
      "image/png": "[encoded data removed]",
      "text/plain": [
       "<Figure size 432x288 with 1 Axes>"
      ]
     },
     "metadata": {
      "needs_background": "light"
     },
     "output_type": "display_data"
    }
   ],
   "source": [
    "plt.scatter(np.log2(rand_sample1), np.log2(rand_sample2))\n",
    "plt.xlabel('log2 var 1')\n",
    "plt.ylabel('log2 var 2')"
   ]
  },
  {
   "cell_type": "code",
   "execution_count": 151,
   "id": "2e178e43",
   "metadata": {},
   "outputs": [],
   "source": [
    "pearsonr(np.log2(rand_sample1), np.log2(rand_sample2))"
   ]
  },
  {
   "cell_type": "code",
   "execution_count": 152,
   "id": "3aa43040",
   "metadata": {},
   "outputs": [],
   "source": [
    "spearmanr(np.log2(rand_sample1), np.log2(rand_sample2))"
   ]
  },
  {
   "cell_type": "markdown",
   "id": "b4828dc1",
   "metadata": {},
   "source": [
    "# assumptions"
   ]
  },
  {
   "cell_type": "code",
   "execution_count": 140,
   "id": "83138d26",
   "metadata": {},
   "outputs": [],
   "source": [
    "b=np.arange(20,60)\n",
    "rand_sample1=b"
   ]
  },
  {
   "cell_type": "code",
   "execution_count": 141,
   "id": "387f7d2d",
   "metadata": {},
   "outputs": [],
   "source": [
    "a=list(np.arange(100,120))+list(np.arange(120,100,-1))\n",
    "rand_sample2=a+normal(0,2,len(a))"
   ]
  },
  {
   "cell_type": "code",
   "execution_count": 142,
   "id": "fbcb1122",
   "metadata": {},
   "outputs": [
    {
     "data": {
      "text/plain": [
       "Text(0, 0.5, 'concentration')"
      ]
     },
     "execution_count": 142,
     "metadata": {},
     "output_type": "execute_result"
    },
    {
     "data": {
      "image/png": "[encoded data removed]",
      "text/plain": [
       "<Figure size 432x288 with 1 Axes>"
      ]
     },
     "metadata": {
      "needs_background": "light"
     },
     "output_type": "display_data"
    }
   ],
   "source": [
    "plt.scatter(rand_sample1,rand_sample2)\n",
    "plt.xlabel('age')\n",
    "plt.ylabel('concentration')"
   ]
  },
  {
   "cell_type": "code",
   "execution_count": 153,
   "id": "d71c820e",
   "metadata": {},
   "outputs": [],
   "source": [
    "pearsonr(rand_sample1,rand_sample2)"
   ]
  },
  {
   "cell_type": "code",
   "execution_count": 154,
   "id": "7e572ff2",
   "metadata": {},
   "outputs": [],
   "source": [
    "spearmanr(rand_sample1,rand_sample2)"
   ]
  },
  {
   "cell_type": "markdown",
   "id": "48f7f0b1",
   "metadata": {},
   "source": [
    "## \"no relationship between variables\""
   ]
  },
  {
   "attachments": {
    "image-2.png": {
     "image/png": "[encoded data removed]"
    }
   },
   "cell_type": "markdown",
   "id": "47492e52",
   "metadata": {},
   "source": [
    "![image-2.png](attachment:image-2.png)"
   ]
  },
  {
   "cell_type": "markdown",
   "id": "2bb5fab9",
   "metadata": {},
   "source": [
    "pearson pv = 0.56"
   ]
  },
  {
   "attachments": {
    "image-4.png": {
     "image/png": "[encoded data removed]"
    }
   },
   "cell_type": "markdown",
   "id": "60ec8100",
   "metadata": {},
   "source": [
    "![image-4.png](attachment:image-4.png)"
   ]
  },
  {
   "cell_type": "markdown",
   "id": "3a62af8e",
   "metadata": {},
   "source": [
    "pearson pv = 0.31"
   ]
  },
  {
   "attachments": {
    "image-2.png": {
     "image/png": "[encoded data removed]"
    }
   },
   "cell_type": "markdown",
   "id": "af099396",
   "metadata": {},
   "source": [
    "![image-2.png](attachment:image-2.png)"
   ]
  },
  {
   "cell_type": "markdown",
   "id": "5c2149ef",
   "metadata": {},
   "source": [
    "pearsonr pv = 5.8e-07"
   ]
  },
  {
   "cell_type": "code",
   "execution_count": 145,
   "id": "7d9cae8b",
   "metadata": {},
   "outputs": [],
   "source": [
    "K=1000\n",
    "\n",
    "noise=normal(0,5,K)\n",
    "\n",
    "tmp1=normal(10,1,K)\n",
    "tmp2=tmp1+noise\n",
    "\n",
    "RS=pd.DataFrame()\n",
    "RS[1]=tmp1\n",
    "RS[2]=tmp2"
   ]
  },
  {
   "cell_type": "code",
   "execution_count": 146,
   "id": "8f9af446",
   "metadata": {},
   "outputs": [],
   "source": [
    "ind=choice(RS.index,1000,replace=False)\n",
    "\n",
    "rand_sample1=RS.loc[ind,1]\n",
    "rand_sample2=RS.loc[ind,2]"
   ]
  },
  {
   "cell_type": "code",
   "execution_count": 147,
   "id": "c9f09ca1",
   "metadata": {},
   "outputs": [
    {
     "data": {
      "image/png": "[encoded data removed]",
      "text/plain": [
       "<Figure size 432x288 with 1 Axes>"
      ]
     },
     "metadata": {
      "needs_background": "light"
     },
     "output_type": "display_data"
    }
   ],
   "source": [
    "plt.scatter(rand_sample1,rand_sample2)\n",
    "plt.xlabel('var1');\n",
    "plt.ylabel('var2');"
   ]
  },
  {
   "cell_type": "code",
   "execution_count": 155,
   "id": "d2f8ec69",
   "metadata": {},
   "outputs": [],
   "source": [
    "pearsonr(rand_sample1,rand_sample2)"
   ]
  },
  {
   "cell_type": "code",
   "execution_count": null,
   "id": "7a7f1858",
   "metadata": {},
   "outputs": [],
   "source": []
  },
  {
   "cell_type": "code",
   "execution_count": null,
   "id": "c6402a6d",
   "metadata": {},
   "outputs": [],
   "source": []
  }
 ],
 "metadata": {
  "kernelspec": {
   "display_name": "Python 3 (ipykernel)",
   "language": "python",
   "name": "python3"
  },
  "language_info": {
   "codemirror_mode": {
    "name": "ipython",
    "version": 3
   },
   "file_extension": ".py",
   "mimetype": "text/x-python",
   "name": "python",
   "nbconvert_exporter": "python",
   "pygments_lexer": "ipython3",
   "version": "3.7.3"
  }
 },
 "nbformat": 4,
 "nbformat_minor": 5
}
