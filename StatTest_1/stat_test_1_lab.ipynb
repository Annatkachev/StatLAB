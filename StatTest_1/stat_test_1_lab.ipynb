{
 "cells": [
  {
   "cell_type": "markdown",
   "id": "88102dc1",
   "metadata": {},
   "source": [
    "## STAT TEST 1"
   ]
  },
  {
   "cell_type": "markdown",
   "id": "5b07610e",
   "metadata": {},
   "source": [
    "    1.   Consider the dataset Galton_childnumber3.csv (a subset of the whole Galton dataset), which contains information on the height of mothers (‘mother’), fathers (‘father’) and their adult chilren (‘childHeight’). Using correlation analysis, answer the following questions: \n",
    "    \n",
    "        A.Is the height of the FEMALE children related to the height of their father? Their mother? What about the average of the parent’s height? Which relationship shows stronger correlation of the three and why?\n",
    "    \n",
    "        B.Is there a significant association between the height of the father and mother? The data was collected in the late 19th century in England. Can you imagine a dataset of spouse’s height where the answer to the question would be different?\n",
    "        \n",
    "    2.   Consider the dataset Galton_1and2child.csv (a subset of the whole Galton dataset), which contains information on the height of the first and second child, with both children being male. Is there a difference between the height of the first and the second child? What statistical test did you use and why. \n",
    "    \n",
    "    3.   Consider the dataset Galton_childnumber3.csv and the variable 'mother' which is essentially a sample of females heights. \n",
    "    \n",
    "        A. Using Shapiro-Wilk test for normality, would the data be considered to be normally distributed? \n",
    "    \n",
    "        B. Take a random subset of 10,20,50,100 samples from this variable (or a larger number of subsets of different sizes, if you want). According to the Shapiro-Wilk test, would the data be considered to be normally distributed? What does this mean for your data analysis and testing for normality?\n",
    "    "
   ]
  },
  {
   "cell_type": "code",
   "execution_count": 29,
   "id": "bef3558a",
   "metadata": {},
   "outputs": [],
   "source": [
    "import numpy as np\n",
    "import pandas as pd\n",
    "import matplotlib.pyplot as plt\n",
    "from pylab import rcParams\n",
    "import seaborn as sns\n",
    "\n",
    "\n",
    "\n",
    "from numpy.random import uniform\n",
    "from numpy.random import normal\n",
    "from numpy.random import exponential\n",
    "from numpy.random import lognormal\n",
    "\n",
    "from numpy.random import choice\n",
    "from numpy.random import permutation\n",
    "from scipy.stats import shapiro\n",
    "from scipy.stats import kstest\n",
    "\n",
    "%matplotlib inline\n",
    "\n",
    "\n",
    "path='/home/anna/PROJECTS2025/StatDatAnLAB/StatTest/'"
   ]
  },
  {
   "cell_type": "markdown",
   "id": "f7caae14",
   "metadata": {},
   "source": [
    "question 1"
   ]
  },
  {
   "cell_type": "code",
   "execution_count": 7,
   "id": "2de69e83",
   "metadata": {},
   "outputs": [],
   "source": [
    "bothgend=pd.read_csv(path+'Galton_childnumber3.csv')"
   ]
  },
  {
   "cell_type": "code",
   "execution_count": 17,
   "id": "ce71e16d",
   "metadata": {},
   "outputs": [],
   "source": [
    "df=bothgend.copy()[bothgend['gender']=='female']"
   ]
  },
  {
   "cell_type": "code",
   "execution_count": 170,
   "id": "608b8bf0",
   "metadata": {},
   "outputs": [],
   "source": [
    "#variables:\n",
    "#df['mother']\n",
    "#df['father']\n",
    "#(df['mother']+df['father'])/2\n",
    "#df['childHeight']"
   ]
  },
  {
   "cell_type": "markdown",
   "id": "8e304753",
   "metadata": {},
   "source": [
    "question 2"
   ]
  },
  {
   "cell_type": "code",
   "execution_count": 26,
   "id": "3769c11e",
   "metadata": {},
   "outputs": [],
   "source": [
    "df=pd.read_csv(path+'Galton_1and2child.csv')"
   ]
  },
  {
   "cell_type": "code",
   "execution_count": 27,
   "id": "73925104",
   "metadata": {},
   "outputs": [],
   "source": [
    "firstchild=df[df['childNum']==1].index\n",
    "secondchild=df[df['childNum']==2].index"
   ]
  },
  {
   "cell_type": "markdown",
   "id": "a0ef53df",
   "metadata": {},
   "source": [
    "question 3"
   ]
  },
  {
   "cell_type": "code",
   "execution_count": 30,
   "id": "6d7c2b59",
   "metadata": {},
   "outputs": [],
   "source": [
    "df=pd.read_csv(path+'Galton_childnumber3.csv',index_col=0)\n",
    "var=df['mother']\n",
    "\n",
    "K=100\n",
    "var_subset=choice(var,K,replace=False)"
   ]
  },
  {
   "cell_type": "code",
   "execution_count": null,
   "id": "e14297a6",
   "metadata": {},
   "outputs": [],
   "source": []
  },
  {
   "cell_type": "code",
   "execution_count": null,
   "id": "e7503d45",
   "metadata": {},
   "outputs": [],
   "source": []
  },
  {
   "cell_type": "code",
   "execution_count": null,
   "id": "652bc2ea",
   "metadata": {},
   "outputs": [],
   "source": []
  }
 ],
 "metadata": {
  "kernelspec": {
   "display_name": "Python 3 (ipykernel)",
   "language": "python",
   "name": "python3"
  },
  "language_info": {
   "codemirror_mode": {
    "name": "ipython",
    "version": 3
   },
   "file_extension": ".py",
   "mimetype": "text/x-python",
   "name": "python",
   "nbconvert_exporter": "python",
   "pygments_lexer": "ipython3",
   "version": "3.7.3"
  }
 },
 "nbformat": 4,
 "nbformat_minor": 5
}
