{
 "cells": [
  {
   "cell_type": "code",
   "execution_count": 1,
   "id": "e73f7778",
   "metadata": {},
   "outputs": [],
   "source": [
    "import numpy as np\n",
    "import pandas as pd\n",
    "import matplotlib.pyplot as plt\n",
    "from pylab import rcParams\n",
    "import seaborn as sns\n",
    "\n",
    "\n",
    "\n",
    "from numpy.random import uniform\n",
    "from numpy.random import normal\n",
    "from numpy.random import exponential\n",
    "from numpy.random import lognormal\n",
    "\n",
    "from numpy.random import choice\n",
    "from numpy.random import permutation\n",
    "\n",
    "\n",
    "from scipy.stats import pearsonr\n",
    "from scipy.stats import spearmanr\n",
    "from scipy.stats import ttest_ind\n",
    "from scipy.stats import mannwhitneyu\n",
    "from scipy.stats import shapiro\n",
    "\n",
    "from statsmodels.sandbox.stats.multicomp import multipletests\n",
    "from sklearn.cluster import KMeans\n",
    "\n",
    "\n",
    "%matplotlib inline"
   ]
  },
  {
   "cell_type": "code",
   "execution_count": 2,
   "id": "bdd315b4",
   "metadata": {},
   "outputs": [],
   "source": [
    "import matplotlib as PLT\n",
    "PLT.rcParams.update({'figure.max_open_warning': 0})\n",
    "PLT.rcParams.update({'font.size': 15})\n",
    "\n",
    "PLT.rcParams['axes.linewidth'] = 2\n",
    "\n",
    "PLT.rcParams['xtick.major.size'] = 3\n",
    "PLT.rcParams['xtick.major.width'] = 2\n",
    "\n",
    "PLT.rcParams['ytick.major.size'] = 3\n",
    "PLT.rcParams['ytick.major.width'] = 2"
   ]
  },
  {
   "cell_type": "code",
   "execution_count": 3,
   "id": "471f8977",
   "metadata": {},
   "outputs": [],
   "source": [
    "def makeTWOscatters(rand_sample1, rand_sample2):\n",
    "    fig, (ax1,ax2)=plt.subplots(2,1,figsize=(4,4),sharex=True)\n",
    "    #random scatter for y axis\n",
    "    norm=normal(0,0.1,len(rand_sample1))\n",
    "    ax1.scatter(rand_sample1,norm,s=15)\n",
    "    ax1.spines['top'].set_visible(False)\n",
    "    ax1.spines['right'].set_visible(False)\n",
    "    ax1.set_ylim([-1,1])\n",
    "    \n",
    "    ax1.plot([np.mean(rand_sample1),np.mean(rand_sample1)],[-0.35,0.35],color='black',linestyle='--')\n",
    "    ax1.plot([np.mean(rand_sample1)-np.std(rand_sample1), np.mean(rand_sample1)+np.std(rand_sample1)],\n",
    "             [-0.75,-0.75],\n",
    "            color='hotpink',linewidth=2,linestyle='--')      \n",
    "    ax1.set_yticks([])\n",
    "    \n",
    "    \n",
    "    norm=normal(0,0.1,len(rand_sample2))\n",
    "    ax2.scatter(rand_sample2,norm,s=15,color='teal')\n",
    "    ax2.spines['top'].set_visible(False)\n",
    "    ax2.spines['right'].set_visible(False)\n",
    "    ax2.set_ylim([-1,1])\n",
    "    \n",
    "    ax2.plot([np.mean(rand_sample2),np.mean(rand_sample2)],[-0.35,0.35],color='black',linestyle='--')\n",
    "    ax2.plot([np.mean(rand_sample2)-np.std(rand_sample2), np.mean(rand_sample2)+np.std(rand_sample2)],\n",
    "             [-0.75,-0.75],\n",
    "            color='hotpink',linewidth=2,linestyle='--')      \n",
    "    ax2.set_yticks([])"
   ]
  },
  {
   "cell_type": "code",
   "execution_count": 4,
   "id": "b4a53867",
   "metadata": {},
   "outputs": [],
   "source": [
    "def makeHIST(p):\n",
    "    fig=plt.figure(figsize=(3,2))\n",
    "    plt.hist(p,bins=20)\n",
    "\n",
    "    ax=plt.gca()\n",
    "    ax.spines['top'].set_visible(False) \n",
    "    ax.spines['left'].set_visible(False) \n",
    "    ax.spines['right'].set_visible(False)\n",
    "    plt.yticks([])\n",
    "    plt.xlim(-0.02,1.02)\n",
    "    plt.xlabel('pv')\n",
    "    plt.show()\n"
   ]
  },
  {
   "cell_type": "code",
   "execution_count": 5,
   "id": "a5c8834e",
   "metadata": {},
   "outputs": [],
   "source": [
    "rand_sample1=[10.12351083, 10.36631778, 10.8073524 , 11.03058176, 11.10588959,\n",
    "       10.15797949, 10.3921263 , 12.01890134, 11.17752674, 10.22722901]\n",
    "\n",
    "rand_sample2=[11.03674758, 12.1173071 , 11.70261256, 10.46617332, 11.34716409,\n",
    "       11.96398443, 11.45125976,  9.51495232, 10.27124148, 12.73076655]"
   ]
  },
  {
   "cell_type": "code",
   "execution_count": 6,
   "id": "26307e28",
   "metadata": {},
   "outputs": [
    {
     "data": {
      "image/png": "[encoded data removed]",
      "text/plain": [
       "<Figure size 288x288 with 2 Axes>"
      ]
     },
     "metadata": {
      "needs_background": "light"
     },
     "output_type": "display_data"
    }
   ],
   "source": [
    "makeTWOscatters(rand_sample1, rand_sample2)"
   ]
  },
  {
   "cell_type": "code",
   "execution_count": 7,
   "id": "5824257e",
   "metadata": {},
   "outputs": [
    {
     "data": {
      "text/plain": [
       "Ttest_indResult(statistic=-1.4451743004282671, pvalue=0.16877620891787642)"
      ]
     },
     "execution_count": 7,
     "metadata": {},
     "output_type": "execute_result"
    }
   ],
   "source": [
    "ttest_ind(rand_sample1, rand_sample2,equal_var=False)"
   ]
  },
  {
   "cell_type": "markdown",
   "id": "9fe49c32",
   "metadata": {},
   "source": [
    "K=10\n",
    "\n",
    "rand_sample1=normal(11,1,K)\n",
    "\n",
    "rand_sample2=normal(11,1,K) "
   ]
  },
  {
   "attachments": {
    "image-2.png": {
     "image/png": "[encoded data removed]"
    }
   },
   "cell_type": "markdown",
   "id": "4d3f62d2",
   "metadata": {},
   "source": [
    "![image-2.png](attachment:image-2.png)"
   ]
  },
  {
   "attachments": {
    "image.png": {
     "image/png": "[encoded data removed]"
    }
   },
   "cell_type": "markdown",
   "id": "c5c9bccb",
   "metadata": {},
   "source": [
    "![image.png](attachment:image.png)"
   ]
  },
  {
   "cell_type": "code",
   "execution_count": 8,
   "id": "c5588013",
   "metadata": {},
   "outputs": [],
   "source": [
    "K=10\n",
    "N=1000\n",
    "\n",
    "pv=pd.Series(index=np.arange(0,N),dtype=float)\n",
    "\n",
    "for i in np.arange(0,N):\n",
    "    rand_sample1=normal(11,1,K)\n",
    "    rand_sample2=normal(11,1,K)\n",
    "    \n",
    "    pv[i]=ttest_ind(rand_sample1, rand_sample2,equal_var=False)[1]"
   ]
  },
  {
   "cell_type": "code",
   "execution_count": 73,
   "id": "3402d2ee",
   "metadata": {},
   "outputs": [],
   "source": [
    "makeHIST(pv)"
   ]
  },
  {
   "cell_type": "markdown",
   "id": "96923112",
   "metadata": {},
   "source": [
    "###################################################################################################\n",
    "###################################################################################################"
   ]
  },
  {
   "cell_type": "markdown",
   "id": "957ed642",
   "metadata": {},
   "source": [
    "K=10\n",
    "\n",
    "rand_sample1=normal(10,1,K)\n",
    "\n",
    "rand_sample2=normal(11,1,K) "
   ]
  },
  {
   "attachments": {
    "image-2.png": {
     "image/png": "[encoded data removed]"
    }
   },
   "cell_type": "markdown",
   "id": "f93d857f",
   "metadata": {},
   "source": [
    "![image-2.png](attachment:image-2.png)"
   ]
  },
  {
   "attachments": {
    "image-2.png": {
     "image/png": "[encoded data removed]"
    }
   },
   "cell_type": "markdown",
   "id": "a842ef9c",
   "metadata": {},
   "source": [
    "![image-2.png](attachment:image-2.png)"
   ]
  },
  {
   "cell_type": "code",
   "execution_count": 10,
   "id": "40d5d1a2",
   "metadata": {},
   "outputs": [],
   "source": [
    "K=10\n",
    "N=1000\n",
    "\n",
    "pv=pd.Series(index=np.arange(0,N),dtype=float)\n",
    "\n",
    "for i in np.arange(0,N):\n",
    "    rand_sample1=normal(10,1,K)\n",
    "    rand_sample2=normal(11,1,K)\n",
    "    \n",
    "    pv[i]=ttest_ind(rand_sample1, rand_sample2,equal_var=False)[1]"
   ]
  },
  {
   "cell_type": "code",
   "execution_count": 74,
   "id": "c06ab4c0",
   "metadata": {},
   "outputs": [],
   "source": [
    "makeHIST(pv)"
   ]
  },
  {
   "cell_type": "markdown",
   "id": "32e4c269",
   "metadata": {},
   "source": [
    "## change power?"
   ]
  },
  {
   "cell_type": "markdown",
   "id": "31b0ebd8",
   "metadata": {},
   "source": [
    "## examples"
   ]
  },
  {
   "cell_type": "markdown",
   "id": "d2a85d21",
   "metadata": {},
   "source": [
    "example 1"
   ]
  },
  {
   "cell_type": "code",
   "execution_count": 12,
   "id": "d0250b67",
   "metadata": {},
   "outputs": [],
   "source": [
    "#path='https://raw.githubusercontent.com/Annatkachev/StatLAB/refs/heads/main/Distr_1/'\n",
    "path='/home/anna/PROJECTS2025/StatDatAnLAB/Distr/'\n",
    "df=pd.read_csv(path+'diabetes.csv')"
   ]
  },
  {
   "cell_type": "markdown",
   "id": "36a0fd7e",
   "metadata": {},
   "source": [
    "outcome 0 vs 1, difference in age?"
   ]
  },
  {
   "cell_type": "markdown",
   "id": "e34412f9",
   "metadata": {},
   "source": [
    "example 2"
   ]
  },
  {
   "cell_type": "code",
   "execution_count": 13,
   "id": "0d409165",
   "metadata": {},
   "outputs": [],
   "source": [
    "#path='https://raw.githubusercontent.com/Annatkachev/StatLAB/refs/heads/main/StatTest_2/'\n",
    "path='/home/anna/PROJECTS2025/StatDatAnLAB/StatTest/'\n",
    "df=pd.read_csv(path+'agelipid.csv',index_col=0)"
   ]
  },
  {
   "cell_type": "code",
   "execution_count": 14,
   "id": "95a14c5a",
   "metadata": {},
   "outputs": [],
   "source": [
    "ind1=df[df['group']=='age >90'].index\n",
    "ind2=df[df['group']=='age 18-90'].index"
   ]
  },
  {
   "cell_type": "markdown",
   "id": "29cdfe84",
   "metadata": {},
   "source": [
    "group age >90 vs age 18-90, difference in feature 1? difference in feature 2?"
   ]
  },
  {
   "cell_type": "markdown",
   "id": "3a706cf8",
   "metadata": {},
   "source": [
    "## assumptions"
   ]
  },
  {
   "attachments": {
    "image.png": {
     "image/png": "[encoded data removed]"
    }
   },
   "cell_type": "markdown",
   "id": "a28fefa9",
   "metadata": {},
   "source": [
    "![image.png](attachment:image.png)"
   ]
  },
  {
   "cell_type": "code",
   "execution_count": 15,
   "id": "4705cdfd",
   "metadata": {},
   "outputs": [],
   "source": [
    "K=20\n",
    "rand_sample1=normal(11,2,K)\n",
    "rand_sample1=2**rand_sample1\n",
    "\n",
    "rand_sample2=normal(11,2,K)\n",
    "rand_sample2=2**rand_sample2"
   ]
  },
  {
   "cell_type": "code",
   "execution_count": 16,
   "id": "4f7ac6da",
   "metadata": {},
   "outputs": [
    {
     "data": {
      "image/png": "[encoded data removed]",
      "text/plain": [
       "<Figure size 288x288 with 2 Axes>"
      ]
     },
     "metadata": {
      "needs_background": "light"
     },
     "output_type": "display_data"
    }
   ],
   "source": [
    "makeTWOscatters(rand_sample1, rand_sample2)"
   ]
  },
  {
   "cell_type": "code",
   "execution_count": 17,
   "id": "b3990205",
   "metadata": {},
   "outputs": [
    {
     "data": {
      "text/plain": [
       "Ttest_indResult(statistic=-0.8300189776755417, pvalue=0.41199629145886063)"
      ]
     },
     "execution_count": 17,
     "metadata": {},
     "output_type": "execute_result"
    }
   ],
   "source": [
    "ttest_ind(rand_sample1, rand_sample2,equal_var=False)"
   ]
  },
  {
   "cell_type": "code",
   "execution_count": 18,
   "id": "a572c55e",
   "metadata": {},
   "outputs": [],
   "source": [
    "K=20\n",
    "N=1000\n",
    "\n",
    "pv=pd.Series(index=np.arange(0,N),dtype=float)\n",
    "\n",
    "for i in np.arange(0,N):\n",
    "    rand_sample1=normal(11,2,K)\n",
    "    rand_sample1=2**rand_sample1\n",
    "\n",
    "    rand_sample2=normal(11,2,K)\n",
    "    rand_sample2=2**rand_sample2\n",
    "    \n",
    "    \n",
    "    pv[i]=ttest_ind(rand_sample1, rand_sample2,equal_var=False)[1]"
   ]
  },
  {
   "cell_type": "code",
   "execution_count": 75,
   "id": "0d94542c",
   "metadata": {},
   "outputs": [],
   "source": [
    "makeHIST(pv)"
   ]
  },
  {
   "cell_type": "markdown",
   "id": "75037adb",
   "metadata": {},
   "source": [
    "pv<0.05"
   ]
  },
  {
   "cell_type": "code",
   "execution_count": 20,
   "id": "7b104a57",
   "metadata": {},
   "outputs": [],
   "source": [
    "K=20\n",
    "N=1000\n",
    "\n",
    "pv=pd.Series(index=np.arange(0,N),dtype=float)\n",
    "\n",
    "for i in np.arange(0,N):\n",
    "    rand_sample1=normal(11,2,K)\n",
    "    rand_sample1=2**rand_sample1\n",
    "\n",
    "    rand_sample2=normal(11,2,K)\n",
    "    rand_sample2=2**rand_sample2\n",
    "    \n",
    "    \n",
    "    pv[i]=mannwhitneyu(rand_sample1, rand_sample2, method='exact')[1]"
   ]
  },
  {
   "cell_type": "code",
   "execution_count": 76,
   "id": "dcbd0730",
   "metadata": {},
   "outputs": [],
   "source": [
    "makeHIST(pv)"
   ]
  },
  {
   "cell_type": "markdown",
   "id": "f93ee7c9",
   "metadata": {},
   "source": [
    "########################################################################################################"
   ]
  },
  {
   "attachments": {
    "image.png": {
     "image/png": "[encoded data removed]"
    }
   },
   "cell_type": "markdown",
   "id": "77942446",
   "metadata": {},
   "source": [
    "![image.png](attachment:image.png)"
   ]
  },
  {
   "attachments": {
    "image.png": {
     "image/png": "[encoded data removed]"
    }
   },
   "cell_type": "markdown",
   "id": "a7151ab4",
   "metadata": {},
   "source": [
    "![image.png](attachment:image.png)"
   ]
  },
  {
   "cell_type": "code",
   "execution_count": 22,
   "id": "d28a3510",
   "metadata": {},
   "outputs": [],
   "source": [
    "K=20\n",
    "rand_sample1=normal(11,2,K)\n",
    "rand_sample1=2**rand_sample1\n",
    "\n",
    "rand_sample2=normal(12,2,K)\n",
    "rand_sample2=2**rand_sample2"
   ]
  },
  {
   "cell_type": "code",
   "execution_count": 23,
   "id": "b0a3562e",
   "metadata": {},
   "outputs": [
    {
     "data": {
      "image/png": "[encoded data removed]",
      "text/plain": [
       "<Figure size 288x288 with 2 Axes>"
      ]
     },
     "metadata": {
      "needs_background": "light"
     },
     "output_type": "display_data"
    }
   ],
   "source": [
    "makeTWOscatters(rand_sample1, rand_sample2)"
   ]
  },
  {
   "cell_type": "code",
   "execution_count": 24,
   "id": "8dc1af12",
   "metadata": {},
   "outputs": [
    {
     "data": {
      "text/plain": [
       "Ttest_indResult(statistic=-2.800000877672852, pvalue=0.011059258907978181)"
      ]
     },
     "execution_count": 24,
     "metadata": {},
     "output_type": "execute_result"
    }
   ],
   "source": [
    "ttest_ind(rand_sample1, rand_sample2,equal_var=False)"
   ]
  },
  {
   "cell_type": "code",
   "execution_count": 25,
   "id": "320104aa",
   "metadata": {},
   "outputs": [],
   "source": [
    "K=50\n",
    "N=1000\n",
    "\n",
    "pv_t=pd.Series(index=np.arange(0,N),dtype=float)\n",
    "pv_w=pd.Series(index=np.arange(0,N),dtype=float)\n",
    "\n",
    "for i in np.arange(0,N):\n",
    "    rand_sample1=normal(11,2,K)\n",
    "    rand_sample1=2**rand_sample1\n",
    "\n",
    "    rand_sample2=normal(12,2,K)\n",
    "    rand_sample2=2**rand_sample2\n",
    "    \n",
    "    \n",
    "    pv_t[i]=ttest_ind(rand_sample1, rand_sample2,equal_var=False)[1]\n",
    "    pv_w[i]=mannwhitneyu(rand_sample1, rand_sample2, method='exact')[1]"
   ]
  },
  {
   "cell_type": "code",
   "execution_count": 26,
   "id": "7dbff1d8",
   "metadata": {},
   "outputs": [],
   "source": [
    "#makeHIST(pv_t)\n",
    "#makeHIST(pv_w)"
   ]
  },
  {
   "cell_type": "code",
   "execution_count": 27,
   "id": "82cf8254",
   "metadata": {},
   "outputs": [],
   "source": [
    "#fig=plt.figure(figsize=(4,4))\n",
    "#plt.scatter(pv_t,pv_w,alpha=0.2)\n",
    "#plt.plot([0,1],[0,1],color='black')\n",
    "#plt.xlabel('pv t-test')\n",
    "#plt.ylabel('pv mannwhitneyu')\n",
    "#plt.axis([-0.05,0.2,-0.05,0.2])\n"
   ]
  },
  {
   "cell_type": "markdown",
   "id": "798f1c8b",
   "metadata": {},
   "source": [
    "power of ttest compared to mannwhitneyu?"
   ]
  },
  {
   "cell_type": "markdown",
   "id": "405713ba",
   "metadata": {},
   "source": [
    "############################################################################################"
   ]
  },
  {
   "cell_type": "markdown",
   "id": "79921b88",
   "metadata": {},
   "source": [
    "what is worse, under-estimate or over-estimate p-values?"
   ]
  },
  {
   "cell_type": "markdown",
   "id": "7e5fe071",
   "metadata": {},
   "source": [
    "## increase K?"
   ]
  },
  {
   "cell_type": "code",
   "execution_count": 28,
   "id": "84fb7967",
   "metadata": {},
   "outputs": [],
   "source": [
    "## run code with pvalues t-test"
   ]
  },
  {
   "cell_type": "code",
   "execution_count": 29,
   "id": "fd0f9b47",
   "metadata": {},
   "outputs": [
    {
     "data": {
      "text/plain": [
       "'\"\\n\\nN=1000\\n\\nfor K in [10,50,100,500,1000]:\\n    \\n    mean_rand_sample=pd.Series([],dtype=float)\\n    for i in np.arange(0,N):\\n        rand_sample=normal(11,2,K)\\n        rand_sample=2**rand_sample\\n        \\n        \\n        \\n        mean_rand_sample[i]=np.mean(rand_sample)\\n    plt.hist(mean_rand_sample,bins=30,density=True);\\n    ax=plt.gca()\\n    ax.spines[\\'top\\'].set_visible(False) \\n    ax.spines[\\'left\\'].set_visible(False) \\n    ax.spines[\\'right\\'].set_visible(False)\\n    plt.title(\\'K = \\'+str(K),fontsize=12)\\n    plt.yticks([])\\n    \\n    M=np.mean(mean_rand_sample)\\n    S=np.std(mean_rand_sample)\\n    n,x=np.histogram(normal(M,S,100000),density=True,bins=100)\\n    bin_centers = 0.5*(x[1:]+x[:-1])\\n    plt.plot(bin_centers,n,color=\\'purple\\',linewidth=3)\\n    plt.xlabel(\\'distribution of sample mean\\')\\n    plt.show()\\n'"
      ]
     },
     "execution_count": 29,
     "metadata": {},
     "output_type": "execute_result"
    }
   ],
   "source": [
    "\"\"\"\"\n",
    "\n",
    "N=1000\n",
    "\n",
    "for K in [10,50,100,500,1000]:\n",
    "    \n",
    "    mean_rand_sample=pd.Series([],dtype=float)\n",
    "    for i in np.arange(0,N):\n",
    "        rand_sample=normal(11,2,K)\n",
    "        rand_sample=2**rand_sample\n",
    "        \n",
    "        \n",
    "        \n",
    "        mean_rand_sample[i]=np.mean(rand_sample)\n",
    "    plt.hist(mean_rand_sample,bins=30,density=True);\n",
    "    ax=plt.gca()\n",
    "    ax.spines['top'].set_visible(False) \n",
    "    ax.spines['left'].set_visible(False) \n",
    "    ax.spines['right'].set_visible(False)\n",
    "    plt.title('K = '+str(K),fontsize=12)\n",
    "    plt.yticks([])\n",
    "    \n",
    "    M=np.mean(mean_rand_sample)\n",
    "    S=np.std(mean_rand_sample)\n",
    "    n,x=np.histogram(normal(M,S,100000),density=True,bins=100)\n",
    "    bin_centers = 0.5*(x[1:]+x[:-1])\n",
    "    plt.plot(bin_centers,n,color='purple',linewidth=3)\n",
    "    plt.xlabel('distribution of sample mean')\n",
    "    plt.show()\n",
    "\"\"\"\n"
   ]
  },
  {
   "cell_type": "markdown",
   "id": "ecdc3371",
   "metadata": {},
   "source": [
    "## how can we get non-normal distributions?"
   ]
  },
  {
   "cell_type": "markdown",
   "id": "b6b0579f",
   "metadata": {},
   "source": [
    "lognormal"
   ]
  },
  {
   "cell_type": "code",
   "execution_count": 30,
   "id": "ce578739",
   "metadata": {},
   "outputs": [
    {
     "name": "stdout",
     "output_type": "stream",
     "text": [
      "ShapiroResult(statistic=0.6924586296081543, pvalue=3.6109464485352405e-13)\n"
     ]
    }
   ],
   "source": [
    "K=100\n",
    "\n",
    "tmp1=normal(10,1,K)\n",
    "\n",
    "rand_sample1=2**tmp1\n",
    "\n",
    "print(shapiro(rand_sample1))"
   ]
  },
  {
   "cell_type": "code",
   "execution_count": 31,
   "id": "b636a953",
   "metadata": {},
   "outputs": [
    {
     "data": {
      "image/png": "[encoded data removed]",
      "text/plain": [
       "<Figure size 432x288 with 1 Axes>"
      ]
     },
     "metadata": {
      "needs_background": "light"
     },
     "output_type": "display_data"
    }
   ],
   "source": [
    "plt.hist(rand_sample1,bins=20);"
   ]
  },
  {
   "cell_type": "markdown",
   "id": "9774cba3",
   "metadata": {},
   "source": [
    "other distributions"
   ]
  },
  {
   "cell_type": "code",
   "execution_count": 32,
   "id": "e9d68871",
   "metadata": {},
   "outputs": [
    {
     "name": "stdout",
     "output_type": "stream",
     "text": [
      "ShapiroResult(statistic=0.8057786822319031, pvalue=3.7402050900858796e-10)\n"
     ]
    }
   ],
   "source": [
    "K=100\n",
    "\n",
    "\n",
    "rand_sample1=exponential(10,K)\n",
    "\n",
    "print(shapiro(rand_sample1))"
   ]
  },
  {
   "cell_type": "code",
   "execution_count": 33,
   "id": "01710358",
   "metadata": {},
   "outputs": [
    {
     "data": {
      "image/png": "[encoded data removed]",
      "text/plain": [
       "<Figure size 432x288 with 1 Axes>"
      ]
     },
     "metadata": {
      "needs_background": "light"
     },
     "output_type": "display_data"
    }
   ],
   "source": [
    "plt.hist(rand_sample1,bins=20);"
   ]
  },
  {
   "cell_type": "markdown",
   "id": "ef4a1513",
   "metadata": {},
   "source": [
    "two normal distributions"
   ]
  },
  {
   "cell_type": "code",
   "execution_count": 34,
   "id": "0bc0bd66",
   "metadata": {},
   "outputs": [
    {
     "name": "stdout",
     "output_type": "stream",
     "text": [
      "ShapiroResult(statistic=0.9759742617607117, pvalue=0.001656057545915246)\n"
     ]
    }
   ],
   "source": [
    "K=100\n",
    "\n",
    "tmp1=normal(10,1,K)\n",
    "tmp2=normal(13,1,K)\n",
    "\n",
    "rand_sample1=list(tmp1)+list(tmp2)\n",
    "\n",
    "print(shapiro(rand_sample1))"
   ]
  },
  {
   "cell_type": "code",
   "execution_count": 35,
   "id": "3057e950",
   "metadata": {},
   "outputs": [
    {
     "data": {
      "image/png": "[encoded data removed]",
      "text/plain": [
       "<Figure size 432x288 with 1 Axes>"
      ]
     },
     "metadata": {
      "needs_background": "light"
     },
     "output_type": "display_data"
    }
   ],
   "source": [
    "plt.hist(rand_sample1,bins=20);"
   ]
  },
  {
   "cell_type": "markdown",
   "id": "56da5275",
   "metadata": {},
   "source": [
    "zeros"
   ]
  },
  {
   "cell_type": "code",
   "execution_count": 36,
   "id": "17c5c239",
   "metadata": {},
   "outputs": [
    {
     "name": "stdout",
     "output_type": "stream",
     "text": [
      "ShapiroResult(statistic=0.98440021276474, pvalue=0.2872559130191803)\n",
      "ShapiroResult(statistic=0.9102873206138611, pvalue=4.453475867194356e-06)\n"
     ]
    }
   ],
   "source": [
    "K=100\n",
    "\n",
    "rand_sample1=normal(10,3,K)\n",
    "print(shapiro(rand_sample1))\n",
    "    \n",
    "i1=choice(np.arange(0,K),int(np.round(K*0.1)),replace=False)\n",
    "rand_sample1[i1]=0    \n",
    "\n",
    "print(shapiro(rand_sample1))"
   ]
  },
  {
   "cell_type": "code",
   "execution_count": 37,
   "id": "54f69466",
   "metadata": {},
   "outputs": [
    {
     "data": {
      "image/png": "[encoded data removed]",
      "text/plain": [
       "<Figure size 432x288 with 1 Axes>"
      ]
     },
     "metadata": {
      "needs_background": "light"
     },
     "output_type": "display_data"
    }
   ],
   "source": [
    "plt.hist(rand_sample1,bins=20);"
   ]
  },
  {
   "cell_type": "markdown",
   "id": "d3df34a3",
   "metadata": {},
   "source": [
    "outliers"
   ]
  },
  {
   "cell_type": "code",
   "execution_count": 38,
   "id": "6777c2d4",
   "metadata": {},
   "outputs": [
    {
     "name": "stdout",
     "output_type": "stream",
     "text": [
      "ShapiroResult(statistic=0.9865107536315918, pvalue=0.40557581186294556)\n",
      "ShapiroResult(statistic=0.9221387505531311, pvalue=1.1706479199347086e-05)\n"
     ]
    }
   ],
   "source": [
    "K=100\n",
    "\n",
    "tmp1=normal(10,3,K)\n",
    "print(shapiro(tmp1))\n",
    "    \n",
    "outliers1=normal(20,3,int(np.round(K*0.05)))\n",
    "\n",
    "rand_sample1=list(tmp1)+list(outliers1)\n",
    "\n",
    "print(shapiro(rand_sample1))"
   ]
  },
  {
   "cell_type": "code",
   "execution_count": 39,
   "id": "c03f812e",
   "metadata": {},
   "outputs": [
    {
     "data": {
      "image/png": "[encoded data removed]",
      "text/plain": [
       "<Figure size 432x288 with 1 Axes>"
      ]
     },
     "metadata": {
      "needs_background": "light"
     },
     "output_type": "display_data"
    }
   ],
   "source": [
    "plt.hist(tmp1,bins=20);\n",
    "plt.hist(outliers1,bins=20,color='red');"
   ]
  },
  {
   "cell_type": "markdown",
   "id": "992a7fea",
   "metadata": {},
   "source": [
    "## correlation tests"
   ]
  },
  {
   "cell_type": "markdown",
   "id": "0739f633",
   "metadata": {},
   "source": [
    "normal"
   ]
  },
  {
   "cell_type": "code",
   "execution_count": 40,
   "id": "25fd56f4",
   "metadata": {},
   "outputs": [],
   "source": [
    "K=1000\n",
    "\n",
    "x=normal(10,1,K)\n",
    "y=2*x\n",
    "\n",
    "tmp1=normal(0,2,K)\n",
    "tmp2=normal(0,2,K)\n",
    "\n",
    "rand_sample1=tmp1+x\n",
    "rand_sample2=tmp2+y"
   ]
  },
  {
   "cell_type": "code",
   "execution_count": 41,
   "id": "916b27ef",
   "metadata": {},
   "outputs": [
    {
     "data": {
      "text/plain": [
       "Text(0, 0.5, 'feature 2')"
      ]
     },
     "execution_count": 41,
     "metadata": {},
     "output_type": "execute_result"
    },
    {
     "data": {
      "image/png": "[encoded data removed]",
      "text/plain": [
       "<Figure size 360x360 with 1 Axes>"
      ]
     },
     "metadata": {
      "needs_background": "light"
     },
     "output_type": "display_data"
    }
   ],
   "source": [
    "fig=plt.figure(figsize=(5,5))\n",
    "plt.scatter(rand_sample1,rand_sample2)\n",
    "plt.xlabel('feature 1')\n",
    "plt.ylabel('feature 2')"
   ]
  },
  {
   "cell_type": "code",
   "execution_count": 42,
   "id": "47b881dc",
   "metadata": {},
   "outputs": [
    {
     "data": {
      "text/plain": [
       "(0.3123405164805322, 4.552772756343595e-24)"
      ]
     },
     "execution_count": 42,
     "metadata": {},
     "output_type": "execute_result"
    }
   ],
   "source": [
    "pearsonr(rand_sample1,rand_sample2)"
   ]
  },
  {
   "cell_type": "code",
   "execution_count": 43,
   "id": "64e368e5",
   "metadata": {},
   "outputs": [
    {
     "data": {
      "text/plain": [
       "Text(0.5, 0, 'feature')"
      ]
     },
     "execution_count": 43,
     "metadata": {},
     "output_type": "execute_result"
    },
    {
     "data": {
      "image/png": "[encoded data removed]",
      "text/plain": [
       "<Figure size 432x288 with 1 Axes>"
      ]
     },
     "metadata": {
      "needs_background": "light"
     },
     "output_type": "display_data"
    }
   ],
   "source": [
    "plt.hist(rand_sample1,bins=20);\n",
    "plt.xlabel('feature')"
   ]
  },
  {
   "cell_type": "code",
   "execution_count": 44,
   "id": "f01ad671",
   "metadata": {},
   "outputs": [],
   "source": [
    "K=20\n",
    "\n",
    "N=1000\n",
    "\n",
    "pv_pears=pd.Series(index=np.arange(0,N),dtype=float)\n",
    "pv_spearm=pd.Series(index=np.arange(0,N),dtype=float)\n",
    "for i in np.arange(0,N):\n",
    "    x=normal(10,1,K)\n",
    "    y=2*x\n",
    "\n",
    "    noise1=normal(0,2,K)\n",
    "    noise2=normal(0,2,K)\n",
    "\n",
    "    rand_sample1=x+noise1\n",
    "    rand_sample2=y+noise2\n",
    "    \n",
    "    pv_pears[i]=pearsonr(rand_sample1,rand_sample2)[1]\n",
    "    pv_spearm[i]=spearmanr(rand_sample1,rand_sample2)[1]"
   ]
  },
  {
   "cell_type": "code",
   "execution_count": 77,
   "id": "5d6ce0ef",
   "metadata": {},
   "outputs": [],
   "source": [
    "makeHIST(pv_pears)"
   ]
  },
  {
   "cell_type": "code",
   "execution_count": 46,
   "id": "fa99ead2",
   "metadata": {},
   "outputs": [],
   "source": [
    "K=20\n",
    "\n",
    "N=1000\n",
    "\n",
    "pv_pears=pd.Series(index=np.arange(0,N),dtype=float)\n",
    "pv_spearm=pd.Series(index=np.arange(0,N),dtype=float)\n",
    "for i in np.arange(0,N):\n",
    "    x=normal(10,1,K)\n",
    "    y=2*normal(10,1,K)\n",
    "\n",
    "    noise1=normal(0,2,K)\n",
    "    noise2=normal(0,2,K)\n",
    "\n",
    "    rand_sample1=x+noise1\n",
    "    rand_sample2=y+noise2\n",
    "    \n",
    "    pv_pears[i]=pearsonr(rand_sample1,rand_sample2)[1]\n",
    "    pv_spearm[i]=spearmanr(rand_sample1,rand_sample2)[1]"
   ]
  },
  {
   "cell_type": "code",
   "execution_count": 78,
   "id": "c64f41ee",
   "metadata": {},
   "outputs": [],
   "source": [
    "makeHIST(pv_pears)"
   ]
  },
  {
   "cell_type": "markdown",
   "id": "e84ce61d",
   "metadata": {},
   "source": [
    "uniform"
   ]
  },
  {
   "cell_type": "code",
   "execution_count": 48,
   "id": "6c99fbfe",
   "metadata": {},
   "outputs": [],
   "source": [
    "K=1000\n",
    "\n",
    "x=uniform(10,20,K)\n",
    "y=3*x\n",
    "\n",
    "noise1=normal(0,2,K)\n",
    "noise2=normal(0,2,K)\n",
    "\n",
    "rand_sample1=x+noise1\n",
    "rand_sample2=y+noise2"
   ]
  },
  {
   "cell_type": "code",
   "execution_count": 49,
   "id": "bd1c2094",
   "metadata": {},
   "outputs": [
    {
     "data": {
      "text/plain": [
       "Text(0, 0.5, 'feature 2')"
      ]
     },
     "execution_count": 49,
     "metadata": {},
     "output_type": "execute_result"
    },
    {
     "data": {
      "image/png": "[encoded data removed]",
      "text/plain": [
       "<Figure size 360x360 with 1 Axes>"
      ]
     },
     "metadata": {
      "needs_background": "light"
     },
     "output_type": "display_data"
    }
   ],
   "source": [
    "fig=plt.figure(figsize=(5,5))\n",
    "plt.scatter(rand_sample1,rand_sample2)\n",
    "plt.xlabel('feature 1')\n",
    "plt.ylabel('feature 2')"
   ]
  },
  {
   "cell_type": "code",
   "execution_count": 50,
   "id": "7316b423",
   "metadata": {},
   "outputs": [
    {
     "data": {
      "text/plain": [
       "(0.7869752839348241, 1.5840185226248015e-211)"
      ]
     },
     "execution_count": 50,
     "metadata": {},
     "output_type": "execute_result"
    }
   ],
   "source": [
    "pearsonr(rand_sample1,rand_sample2)"
   ]
  },
  {
   "cell_type": "code",
   "execution_count": 51,
   "id": "2569fb93",
   "metadata": {},
   "outputs": [
    {
     "data": {
      "text/plain": [
       "Text(0.5, 0, 'feature')"
      ]
     },
     "execution_count": 51,
     "metadata": {},
     "output_type": "execute_result"
    },
    {
     "data": {
      "image/png": "[encoded data removed]",
      "text/plain": [
       "<Figure size 432x288 with 1 Axes>"
      ]
     },
     "metadata": {
      "needs_background": "light"
     },
     "output_type": "display_data"
    }
   ],
   "source": [
    "plt.hist(rand_sample2,bins=20);\n",
    "plt.xlabel('feature')"
   ]
  },
  {
   "cell_type": "code",
   "execution_count": 52,
   "id": "d80af32c",
   "metadata": {},
   "outputs": [],
   "source": [
    "K=8\n",
    "\n",
    "N=1000\n",
    "\n",
    "pv_pears=pd.Series(index=np.arange(0,N),dtype=float)\n",
    "pv_spearm=pd.Series(index=np.arange(0,N),dtype=float)\n",
    "for i in np.arange(0,N):\n",
    "    \n",
    "    x=uniform(10,20,K)\n",
    "    y=3*x\n",
    "\n",
    "    noise1=normal(0,2,K)\n",
    "    noise2=normal(0,2,K)\n",
    "\n",
    "    rand_sample1=x+noise1\n",
    "    rand_sample2=y+noise2\n",
    "    \n",
    "    pv_pears[i]=pearsonr(rand_sample1,rand_sample2)[1]\n",
    "    pv_spearm[i]=spearmanr(rand_sample1,rand_sample2)[1]"
   ]
  },
  {
   "cell_type": "code",
   "execution_count": 79,
   "id": "392eaa3d",
   "metadata": {},
   "outputs": [],
   "source": [
    "makeHIST(pv_pears)"
   ]
  },
  {
   "cell_type": "code",
   "execution_count": 54,
   "id": "eb2bfdf7",
   "metadata": {},
   "outputs": [],
   "source": [
    "K=8\n",
    "\n",
    "N=1000\n",
    "\n",
    "\n",
    "pv_pears=pd.Series(index=np.arange(0,N),dtype=float)\n",
    "pv_spearm=pd.Series(index=np.arange(0,N),dtype=float)\n",
    "for i in np.arange(0,N):\n",
    "    \n",
    "    x=uniform(10,20,K)\n",
    "    y=3*uniform(10,20,K)\n",
    "\n",
    "    noise1=normal(0,2,K)\n",
    "    noise2=normal(0,2,K)\n",
    "\n",
    "    rand_sample1=x+noise1\n",
    "    rand_sample2=y+noise2\n",
    "    \n",
    "    pv_pears[i]=pearsonr(rand_sample1,rand_sample2)[1]\n",
    "    pv_spearm[i]=spearmanr(rand_sample1,rand_sample2)[1]"
   ]
  },
  {
   "cell_type": "code",
   "execution_count": 80,
   "id": "16d31e3b",
   "metadata": {},
   "outputs": [],
   "source": [
    "makeHIST(pv_pears)"
   ]
  },
  {
   "cell_type": "markdown",
   "id": "3e8d6fa6",
   "metadata": {},
   "source": [
    "lognormal"
   ]
  },
  {
   "cell_type": "code",
   "execution_count": 56,
   "id": "da82cc48",
   "metadata": {},
   "outputs": [],
   "source": [
    "K=1000\n",
    "\n",
    "x=normal(10,2,K)\n",
    "y=2*x\n",
    "\n",
    "noise1=normal(0,1,K)\n",
    "noise2=normal(0,1,K)\n",
    "\n",
    "rand_sample1=2**(x+noise1)\n",
    "rand_sample2=2**(y+noise2)"
   ]
  },
  {
   "cell_type": "code",
   "execution_count": 57,
   "id": "05d09231",
   "metadata": {},
   "outputs": [
    {
     "data": {
      "text/plain": [
       "Text(0, 0.5, 'feature 2')"
      ]
     },
     "execution_count": 57,
     "metadata": {},
     "output_type": "execute_result"
    },
    {
     "data": {
      "image/png": "[encoded data removed]",
      "text/plain": [
       "<Figure size 360x360 with 1 Axes>"
      ]
     },
     "metadata": {
      "needs_background": "light"
     },
     "output_type": "display_data"
    }
   ],
   "source": [
    "fig=plt.figure(figsize=(5,5))\n",
    "plt.scatter(rand_sample1,rand_sample2)\n",
    "plt.xlabel('feature 1')\n",
    "plt.ylabel('feature 2')"
   ]
  },
  {
   "cell_type": "code",
   "execution_count": 58,
   "id": "04d71f9b",
   "metadata": {},
   "outputs": [],
   "source": [
    "#plt.scatter(np.log2(rand_sample1),np.log2(rand_sample2))"
   ]
  },
  {
   "cell_type": "code",
   "execution_count": 59,
   "id": "54cb3ce5",
   "metadata": {},
   "outputs": [],
   "source": [
    "K=10\n",
    "\n",
    "N=1000\n",
    "\n",
    "pv_pears=pd.Series(index=np.arange(0,N),dtype=float)\n",
    "pv_spearm=pd.Series(index=np.arange(0,N),dtype=float)\n",
    "for i in np.arange(0,N):\n",
    "    \n",
    "    x=normal(10,2,K)\n",
    "    y=x\n",
    "\n",
    "    noise1=normal(0,1,K)\n",
    "    noise2=normal(0,1,K)\n",
    "\n",
    "    rand_sample1=2**(x+noise1)\n",
    "    rand_sample2=2**(y+noise2)\n",
    "\n",
    "    pv_pears[i]=pearsonr(rand_sample1,rand_sample2)[1]\n",
    "    pv_spearm[i]=spearmanr(rand_sample1,rand_sample2)[1]"
   ]
  },
  {
   "cell_type": "code",
   "execution_count": 81,
   "id": "35989b7e",
   "metadata": {},
   "outputs": [],
   "source": [
    "makeHIST(pv_pears)"
   ]
  },
  {
   "cell_type": "code",
   "execution_count": 61,
   "id": "de81d13f",
   "metadata": {},
   "outputs": [],
   "source": [
    "K=10\n",
    "\n",
    "N=1000\n",
    "\n",
    "pv_pears=pd.Series(index=np.arange(0,N),dtype=float)\n",
    "pv_spearm=pd.Series(index=np.arange(0,N),dtype=float)\n",
    "for i in np.arange(0,N):\n",
    "\n",
    "\n",
    "    x=normal(10,2,K)\n",
    "    y=normal(10,2,K)\n",
    "\n",
    "    noise1=normal(0,1,K)\n",
    "    noise2=normal(0,1,K)\n",
    "\n",
    "    rand_sample1=2**(x+noise1)\n",
    "    rand_sample2=2**(y+noise2)\n",
    "    \n",
    "    pv_pears[i]=pearsonr(rand_sample1,rand_sample2)[1]\n",
    "    pv_spearm[i]=spearmanr(rand_sample1,rand_sample2)[1]"
   ]
  },
  {
   "cell_type": "code",
   "execution_count": 82,
   "id": "b8031423",
   "metadata": {},
   "outputs": [],
   "source": [
    "makeHIST(pv_pears)"
   ]
  },
  {
   "cell_type": "code",
   "execution_count": 83,
   "id": "7247f3d2",
   "metadata": {},
   "outputs": [],
   "source": [
    "np.sum(pv_pears<0.05)"
   ]
  },
  {
   "cell_type": "markdown",
   "id": "063fb77e",
   "metadata": {},
   "source": [
    "## outliers"
   ]
  },
  {
   "cell_type": "markdown",
   "id": "a31c403d",
   "metadata": {},
   "source": [
    "1 out of 20"
   ]
  },
  {
   "cell_type": "code",
   "execution_count": 64,
   "id": "717f83a7",
   "metadata": {},
   "outputs": [],
   "source": [
    "K=20\n",
    "\n",
    "x=normal(20,3,K)   \n",
    "noise1=normal(0,2,K)\n",
    "tmp1=x+noise1\n",
    "    \n",
    "outliers1=exponential(30,int(np.round(K*0.05)))\n",
    "rand_sample1=list(tmp1)+list(outliers1)\n",
    "\n",
    "\n",
    "y=normal(20,3,K) \n",
    "noise2=normal(0,2,K)\n",
    "tmp2=y+noise2\n",
    "\n",
    "outliers2=exponential(30,int(np.round(K*0.05)))\n",
    "rand_sample2=list(tmp2)+list(outliers2)\n"
   ]
  },
  {
   "cell_type": "code",
   "execution_count": 65,
   "id": "8f2f7fe5",
   "metadata": {},
   "outputs": [
    {
     "data": {
      "text/plain": [
       "Text(0, 0.5, 'feature 2')"
      ]
     },
     "execution_count": 65,
     "metadata": {},
     "output_type": "execute_result"
    },
    {
     "data": {
      "image/png": "[encoded data removed]",
      "text/plain": [
       "<Figure size 360x360 with 1 Axes>"
      ]
     },
     "metadata": {
      "needs_background": "light"
     },
     "output_type": "display_data"
    }
   ],
   "source": [
    "fig=plt.figure(figsize=(5,5))\n",
    "plt.scatter(rand_sample1,rand_sample2,s=50,color='hotpink')\n",
    "plt.scatter(outliers1,outliers2,s=50,color='red')\n",
    "plt.xlabel('feature 1')\n",
    "plt.ylabel('feature 2')\n",
    "\n",
    "\n",
    "#c,p=pearsonr(rand_sample1,rand_sample2)\n",
    "#plt.title('corr = ' +str(np.round(c,2))+', pv = '+ str(np.round(p,5)))"
   ]
  },
  {
   "cell_type": "code",
   "execution_count": 66,
   "id": "4bf99199",
   "metadata": {},
   "outputs": [
    {
     "data": {
      "text/plain": [
       "(0.7178241071493825, 0.00024847304634435823)"
      ]
     },
     "execution_count": 66,
     "metadata": {},
     "output_type": "execute_result"
    }
   ],
   "source": [
    "pearsonr(rand_sample1,rand_sample2)"
   ]
  },
  {
   "cell_type": "code",
   "execution_count": 67,
   "id": "82cc7fe6",
   "metadata": {},
   "outputs": [
    {
     "data": {
      "text/plain": [
       "SpearmanrResult(correlation=0.17662337662337665, pvalue=0.4437478469481736)"
      ]
     },
     "execution_count": 67,
     "metadata": {},
     "output_type": "execute_result"
    }
   ],
   "source": [
    "spearmanr(rand_sample1,rand_sample2)"
   ]
  },
  {
   "cell_type": "markdown",
   "id": "a793b997",
   "metadata": {},
   "source": [
    "1 out of 100"
   ]
  },
  {
   "cell_type": "code",
   "execution_count": 68,
   "id": "97ce6442",
   "metadata": {},
   "outputs": [],
   "source": [
    "K=100\n",
    "\n",
    "x=normal(20,3,K)   \n",
    "noise1=normal(0,2,K)\n",
    "tmp1=x+noise1\n",
    "    \n",
    "outliers1=exponential(30,int(np.round(K*0.01)))\n",
    "rand_sample1=list(tmp1)+list(outliers1)\n",
    "\n",
    "#y=x\n",
    "y=normal(20,3,K) \n",
    "noise2=normal(0,2,K)\n",
    "tmp2=y+noise2\n",
    "\n",
    "outliers2=exponential(30,int(np.round(K*0.01)))\n",
    "rand_sample2=list(tmp2)+list(outliers2)"
   ]
  },
  {
   "cell_type": "code",
   "execution_count": 69,
   "id": "18b92e08",
   "metadata": {},
   "outputs": [
    {
     "data": {
      "text/plain": [
       "Text(0, 0.5, 'feature 2')"
      ]
     },
     "execution_count": 69,
     "metadata": {},
     "output_type": "execute_result"
    },
    {
     "data": {
      "image/png": "[encoded data removed]",
      "text/plain": [
       "<Figure size 360x360 with 1 Axes>"
      ]
     },
     "metadata": {
      "needs_background": "light"
     },
     "output_type": "display_data"
    }
   ],
   "source": [
    "fig=plt.figure(figsize=(5,5))\n",
    "plt.scatter(rand_sample1,rand_sample2,s=50,color='hotpink')\n",
    "plt.scatter(outliers1,outliers2,s=50,color='red')\n",
    "plt.xlabel('feature 1')\n",
    "plt.ylabel('feature 2')\n",
    "\n",
    "\n",
    "#c,p=pearsonr(rand_sample1,rand_sample2)\n",
    "#plt.title('corr = ' +str(np.round(c,2))+', pv = '+ str(np.round(p,5)))"
   ]
  },
  {
   "cell_type": "code",
   "execution_count": 70,
   "id": "59fcc6b3",
   "metadata": {},
   "outputs": [
    {
     "data": {
      "text/plain": [
       "(-0.15268431120231724, 0.12743106867673318)"
      ]
     },
     "execution_count": 70,
     "metadata": {},
     "output_type": "execute_result"
    }
   ],
   "source": [
    "pearsonr(rand_sample1,rand_sample2)"
   ]
  },
  {
   "cell_type": "code",
   "execution_count": null,
   "id": "546a6d10",
   "metadata": {},
   "outputs": [],
   "source": []
  },
  {
   "cell_type": "code",
   "execution_count": 71,
   "id": "cd169801",
   "metadata": {},
   "outputs": [],
   "source": [
    "#shapiro(rand_sample1)"
   ]
  },
  {
   "cell_type": "code",
   "execution_count": 72,
   "id": "b516909a",
   "metadata": {},
   "outputs": [],
   "source": [
    "#shapiro(tmp1)"
   ]
  },
  {
   "cell_type": "code",
   "execution_count": null,
   "id": "8e72ee5c",
   "metadata": {},
   "outputs": [],
   "source": []
  },
  {
   "cell_type": "code",
   "execution_count": null,
   "id": "c6d57945",
   "metadata": {},
   "outputs": [],
   "source": []
  },
  {
   "cell_type": "code",
   "execution_count": null,
   "id": "f59bbe67",
   "metadata": {},
   "outputs": [],
   "source": []
  },
  {
   "cell_type": "code",
   "execution_count": null,
   "id": "c6402a6d",
   "metadata": {},
   "outputs": [],
   "source": []
  }
 ],
 "metadata": {
  "kernelspec": {
   "display_name": "Python 3 (ipykernel)",
   "language": "python",
   "name": "python3"
  },
  "language_info": {
   "codemirror_mode": {
    "name": "ipython",
    "version": 3
   },
   "file_extension": ".py",
   "mimetype": "text/x-python",
   "name": "python",
   "nbconvert_exporter": "python",
   "pygments_lexer": "ipython3",
   "version": "3.7.3"
  }
 },
 "nbformat": 4,
 "nbformat_minor": 5
}
